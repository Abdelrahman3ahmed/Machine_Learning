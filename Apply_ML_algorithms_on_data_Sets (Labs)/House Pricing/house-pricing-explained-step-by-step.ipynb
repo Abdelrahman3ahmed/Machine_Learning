{
 "cells": [
  {
   "cell_type": "markdown",
   "id": "40bf0157",
   "metadata": {
    "papermill": {
     "duration": 0.037396,
     "end_time": "2022-04-12T17:09:32.353049",
     "exception": false,
     "start_time": "2022-04-12T17:09:32.315653",
     "status": "completed"
    },
    "tags": []
   },
   "source": [
    "# Imports"
   ]
  },
  {
   "cell_type": "code",
   "execution_count": 1,
   "id": "4d61840e",
   "metadata": {
    "execution": {
     "iopub.execute_input": "2022-04-12T17:09:32.432205Z",
     "iopub.status.busy": "2022-04-12T17:09:32.431169Z",
     "iopub.status.idle": "2022-04-12T17:09:34.813910Z",
     "shell.execute_reply": "2022-04-12T17:09:34.813099Z",
     "shell.execute_reply.started": "2022-04-12T15:15:18.924335Z"
    },
    "papermill": {
     "duration": 2.424721,
     "end_time": "2022-04-12T17:09:34.814084",
     "exception": false,
     "start_time": "2022-04-12T17:09:32.389363",
     "status": "completed"
    },
    "tags": []
   },
   "outputs": [],
   "source": [
    "import numpy as np # linear algebra\n",
    "import pandas as pd # data processing, CSV file I/O (e.g. pd.read_csv)\n",
    "import sklearn as sk\n",
    "from sklearn.preprocessing import OneHotEncoder\n",
    "from sklearn.preprocessing import OrdinalEncoder\n",
    "import matplotlib.pyplot as plt\n",
    "from sklearn.linear_model import LinearRegression\n",
    "from sklearn.ensemble import RandomForestRegressor\n",
    "from sklearn.ensemble import GradientBoostingRegressor\n",
    "import plotly.express as px\n",
    "\n",
    "import warnings\n",
    "warnings.filterwarnings(\"ignore\")\n"
   ]
  },
  {
   "cell_type": "markdown",
   "id": "19732ea8",
   "metadata": {
    "papermill": {
     "duration": 0.036385,
     "end_time": "2022-04-12T17:09:34.886771",
     "exception": false,
     "start_time": "2022-04-12T17:09:34.850386",
     "status": "completed"
    },
    "tags": []
   },
   "source": [
    "# Steps\n",
    "# <a href = \"#1\"> 1- Read Data <a>\n",
    "# <a href = \"#2\"> 2- Data Exploring and Investigation <a>\n",
    "# <a href = \"#3\"> 3- Feature Selection <a>\n",
    "# <a href = \"#4\"> 4- Cleaning Training Data <a>  \n",
    "# <a href = \"#5\"> 5- Cleaning Test Data <a>\n",
    "# <a href = \"#6\"> 6- Ecode Training and Test Data <a>  \n",
    "# <a href = \"#7\"> 7- Split Data <a>\n",
    "# <a href = \"#8\"> 8- Apply Models <a>\n",
    "# <a href = \"#9\"> 9- Linear Regression <a>\n",
    "# <a href = \"#10\"> 10- Random Forest <a>\n",
    "# <a href = \"#11\"> 11- GradientBoosting <a>\n",
    "# <a href = \"#12\"> 12- Select Prameters <a>"
   ]
  },
  {
   "cell_type": "markdown",
   "id": "35c6274b",
   "metadata": {
    "papermill": {
     "duration": 0.037839,
     "end_time": "2022-04-12T17:09:34.961179",
     "exception": false,
     "start_time": "2022-04-12T17:09:34.923340",
     "status": "completed"
    },
    "tags": []
   },
   "source": [
    "# <a name = \"1\">1- Read Data<a>"
   ]
  },
  {
   "cell_type": "markdown",
   "id": "2eb27268",
   "metadata": {
    "papermill": {
     "duration": 0.036935,
     "end_time": "2022-04-12T17:09:35.034617",
     "exception": false,
     "start_time": "2022-04-12T17:09:34.997682",
     "status": "completed"
    },
    "tags": []
   },
   "source": [
    "## Note: I keep the label in data_with_label to investigate my data."
   ]
  },
  {
   "cell_type": "code",
   "execution_count": 2,
   "id": "3401a57f",
   "metadata": {
    "execution": {
     "iopub.execute_input": "2022-04-12T17:09:35.112025Z",
     "iopub.status.busy": "2022-04-12T17:09:35.111378Z",
     "iopub.status.idle": "2022-04-12T17:09:35.215020Z",
     "shell.execute_reply": "2022-04-12T17:09:35.214454Z",
     "shell.execute_reply.started": "2022-04-12T15:15:20.312341Z"
    },
    "papermill": {
     "duration": 0.143835,
     "end_time": "2022-04-12T17:09:35.215180",
     "exception": false,
     "start_time": "2022-04-12T17:09:35.071345",
     "status": "completed"
    },
    "tags": []
   },
   "outputs": [],
   "source": [
    "train_data = pd.read_csv('../input/house-prices-advanced-regression-techniques/train.csv' , index_col= 'Id')\n",
    "test_data = pd.read_csv('../input/house-prices-advanced-regression-techniques/test.csv')\n",
    "train_data.dropna(axis=0, subset=['SalePrice'], inplace=True)\n",
    "\n",
    "Test_data_Id = test_data[\"Id\"]\n",
    "\n",
    "data_with_label = pd.read_csv('../input/house-prices-advanced-regression-techniques/train.csv' , index_col= 'Id')\n",
    "data_with_label.dropna(axis=0, subset=['SalePrice'], inplace=True)"
   ]
  },
  {
   "cell_type": "markdown",
   "id": "2b7b0c04",
   "metadata": {
    "papermill": {
     "duration": 0.036262,
     "end_time": "2022-04-12T17:09:35.288081",
     "exception": false,
     "start_time": "2022-04-12T17:09:35.251819",
     "status": "completed"
    },
    "tags": []
   },
   "source": [
    "# <a name = \"2\">2- Data Exploring and Investigation<a>"
   ]
  },
  {
   "cell_type": "markdown",
   "id": "b5217010",
   "metadata": {
    "papermill": {
     "duration": 0.036878,
     "end_time": "2022-04-12T17:09:35.362557",
     "exception": false,
     "start_time": "2022-04-12T17:09:35.325679",
     "status": "completed"
    },
    "tags": []
   },
   "source": [
    "### Just checking my data"
   ]
  },
  {
   "cell_type": "code",
   "execution_count": 3,
   "id": "45915d2b",
   "metadata": {
    "execution": {
     "iopub.execute_input": "2022-04-12T17:09:35.445454Z",
     "iopub.status.busy": "2022-04-12T17:09:35.444765Z",
     "iopub.status.idle": "2022-04-12T17:09:35.468214Z",
     "shell.execute_reply": "2022-04-12T17:09:35.468698Z",
     "shell.execute_reply.started": "2022-04-12T15:15:20.416087Z"
    },
    "papermill": {
     "duration": 0.070207,
     "end_time": "2022-04-12T17:09:35.468873",
     "exception": false,
     "start_time": "2022-04-12T17:09:35.398666",
     "status": "completed"
    },
    "tags": []
   },
   "outputs": [
    {
     "data": {
      "text/html": [
       "<div>\n",
       "<style scoped>\n",
       "    .dataframe tbody tr th:only-of-type {\n",
       "        vertical-align: middle;\n",
       "    }\n",
       "\n",
       "    .dataframe tbody tr th {\n",
       "        vertical-align: top;\n",
       "    }\n",
       "\n",
       "    .dataframe thead th {\n",
       "        text-align: right;\n",
       "    }\n",
       "</style>\n",
       "<table border=\"1\" class=\"dataframe\">\n",
       "  <thead>\n",
       "    <tr style=\"text-align: right;\">\n",
       "      <th></th>\n",
       "      <th>MSSubClass</th>\n",
       "      <th>MSZoning</th>\n",
       "      <th>LotFrontage</th>\n",
       "      <th>LotArea</th>\n",
       "      <th>Street</th>\n",
       "      <th>Alley</th>\n",
       "      <th>LotShape</th>\n",
       "      <th>LandContour</th>\n",
       "      <th>Utilities</th>\n",
       "      <th>LotConfig</th>\n",
       "      <th>...</th>\n",
       "      <th>PoolArea</th>\n",
       "      <th>PoolQC</th>\n",
       "      <th>Fence</th>\n",
       "      <th>MiscFeature</th>\n",
       "      <th>MiscVal</th>\n",
       "      <th>MoSold</th>\n",
       "      <th>YrSold</th>\n",
       "      <th>SaleType</th>\n",
       "      <th>SaleCondition</th>\n",
       "      <th>SalePrice</th>\n",
       "    </tr>\n",
       "    <tr>\n",
       "      <th>Id</th>\n",
       "      <th></th>\n",
       "      <th></th>\n",
       "      <th></th>\n",
       "      <th></th>\n",
       "      <th></th>\n",
       "      <th></th>\n",
       "      <th></th>\n",
       "      <th></th>\n",
       "      <th></th>\n",
       "      <th></th>\n",
       "      <th></th>\n",
       "      <th></th>\n",
       "      <th></th>\n",
       "      <th></th>\n",
       "      <th></th>\n",
       "      <th></th>\n",
       "      <th></th>\n",
       "      <th></th>\n",
       "      <th></th>\n",
       "      <th></th>\n",
       "      <th></th>\n",
       "    </tr>\n",
       "  </thead>\n",
       "  <tbody>\n",
       "    <tr>\n",
       "      <th>1</th>\n",
       "      <td>60</td>\n",
       "      <td>RL</td>\n",
       "      <td>65.0</td>\n",
       "      <td>8450</td>\n",
       "      <td>Pave</td>\n",
       "      <td>NaN</td>\n",
       "      <td>Reg</td>\n",
       "      <td>Lvl</td>\n",
       "      <td>AllPub</td>\n",
       "      <td>Inside</td>\n",
       "      <td>...</td>\n",
       "      <td>0</td>\n",
       "      <td>NaN</td>\n",
       "      <td>NaN</td>\n",
       "      <td>NaN</td>\n",
       "      <td>0</td>\n",
       "      <td>2</td>\n",
       "      <td>2008</td>\n",
       "      <td>WD</td>\n",
       "      <td>Normal</td>\n",
       "      <td>208500</td>\n",
       "    </tr>\n",
       "    <tr>\n",
       "      <th>2</th>\n",
       "      <td>20</td>\n",
       "      <td>RL</td>\n",
       "      <td>80.0</td>\n",
       "      <td>9600</td>\n",
       "      <td>Pave</td>\n",
       "      <td>NaN</td>\n",
       "      <td>Reg</td>\n",
       "      <td>Lvl</td>\n",
       "      <td>AllPub</td>\n",
       "      <td>FR2</td>\n",
       "      <td>...</td>\n",
       "      <td>0</td>\n",
       "      <td>NaN</td>\n",
       "      <td>NaN</td>\n",
       "      <td>NaN</td>\n",
       "      <td>0</td>\n",
       "      <td>5</td>\n",
       "      <td>2007</td>\n",
       "      <td>WD</td>\n",
       "      <td>Normal</td>\n",
       "      <td>181500</td>\n",
       "    </tr>\n",
       "    <tr>\n",
       "      <th>3</th>\n",
       "      <td>60</td>\n",
       "      <td>RL</td>\n",
       "      <td>68.0</td>\n",
       "      <td>11250</td>\n",
       "      <td>Pave</td>\n",
       "      <td>NaN</td>\n",
       "      <td>IR1</td>\n",
       "      <td>Lvl</td>\n",
       "      <td>AllPub</td>\n",
       "      <td>Inside</td>\n",
       "      <td>...</td>\n",
       "      <td>0</td>\n",
       "      <td>NaN</td>\n",
       "      <td>NaN</td>\n",
       "      <td>NaN</td>\n",
       "      <td>0</td>\n",
       "      <td>9</td>\n",
       "      <td>2008</td>\n",
       "      <td>WD</td>\n",
       "      <td>Normal</td>\n",
       "      <td>223500</td>\n",
       "    </tr>\n",
       "    <tr>\n",
       "      <th>4</th>\n",
       "      <td>70</td>\n",
       "      <td>RL</td>\n",
       "      <td>60.0</td>\n",
       "      <td>9550</td>\n",
       "      <td>Pave</td>\n",
       "      <td>NaN</td>\n",
       "      <td>IR1</td>\n",
       "      <td>Lvl</td>\n",
       "      <td>AllPub</td>\n",
       "      <td>Corner</td>\n",
       "      <td>...</td>\n",
       "      <td>0</td>\n",
       "      <td>NaN</td>\n",
       "      <td>NaN</td>\n",
       "      <td>NaN</td>\n",
       "      <td>0</td>\n",
       "      <td>2</td>\n",
       "      <td>2006</td>\n",
       "      <td>WD</td>\n",
       "      <td>Abnorml</td>\n",
       "      <td>140000</td>\n",
       "    </tr>\n",
       "    <tr>\n",
       "      <th>5</th>\n",
       "      <td>60</td>\n",
       "      <td>RL</td>\n",
       "      <td>84.0</td>\n",
       "      <td>14260</td>\n",
       "      <td>Pave</td>\n",
       "      <td>NaN</td>\n",
       "      <td>IR1</td>\n",
       "      <td>Lvl</td>\n",
       "      <td>AllPub</td>\n",
       "      <td>FR2</td>\n",
       "      <td>...</td>\n",
       "      <td>0</td>\n",
       "      <td>NaN</td>\n",
       "      <td>NaN</td>\n",
       "      <td>NaN</td>\n",
       "      <td>0</td>\n",
       "      <td>12</td>\n",
       "      <td>2008</td>\n",
       "      <td>WD</td>\n",
       "      <td>Normal</td>\n",
       "      <td>250000</td>\n",
       "    </tr>\n",
       "  </tbody>\n",
       "</table>\n",
       "<p>5 rows × 80 columns</p>\n",
       "</div>"
      ],
      "text/plain": [
       "    MSSubClass MSZoning  LotFrontage  LotArea Street Alley LotShape  \\\n",
       "Id                                                                    \n",
       "1           60       RL         65.0     8450   Pave   NaN      Reg   \n",
       "2           20       RL         80.0     9600   Pave   NaN      Reg   \n",
       "3           60       RL         68.0    11250   Pave   NaN      IR1   \n",
       "4           70       RL         60.0     9550   Pave   NaN      IR1   \n",
       "5           60       RL         84.0    14260   Pave   NaN      IR1   \n",
       "\n",
       "   LandContour Utilities LotConfig  ... PoolArea PoolQC Fence MiscFeature  \\\n",
       "Id                                  ...                                     \n",
       "1          Lvl    AllPub    Inside  ...        0    NaN   NaN         NaN   \n",
       "2          Lvl    AllPub       FR2  ...        0    NaN   NaN         NaN   \n",
       "3          Lvl    AllPub    Inside  ...        0    NaN   NaN         NaN   \n",
       "4          Lvl    AllPub    Corner  ...        0    NaN   NaN         NaN   \n",
       "5          Lvl    AllPub       FR2  ...        0    NaN   NaN         NaN   \n",
       "\n",
       "   MiscVal MoSold  YrSold  SaleType  SaleCondition  SalePrice  \n",
       "Id                                                             \n",
       "1        0      2    2008        WD         Normal     208500  \n",
       "2        0      5    2007        WD         Normal     181500  \n",
       "3        0      9    2008        WD         Normal     223500  \n",
       "4        0      2    2006        WD        Abnorml     140000  \n",
       "5        0     12    2008        WD         Normal     250000  \n",
       "\n",
       "[5 rows x 80 columns]"
      ]
     },
     "execution_count": 3,
     "metadata": {},
     "output_type": "execute_result"
    }
   ],
   "source": [
    "data_with_label.head()"
   ]
  },
  {
   "cell_type": "markdown",
   "id": "2340cba4",
   "metadata": {
    "papermill": {
     "duration": 0.036979,
     "end_time": "2022-04-12T17:09:35.544554",
     "exception": false,
     "start_time": "2022-04-12T17:09:35.507575",
     "status": "completed"
    },
    "tags": []
   },
   "source": [
    "### Check nulls and proper data types"
   ]
  },
  {
   "cell_type": "code",
   "execution_count": 4,
   "id": "0e7b8561",
   "metadata": {
    "execution": {
     "iopub.execute_input": "2022-04-12T17:09:35.622261Z",
     "iopub.status.busy": "2022-04-12T17:09:35.621588Z",
     "iopub.status.idle": "2022-04-12T17:09:35.643774Z",
     "shell.execute_reply": "2022-04-12T17:09:35.644604Z",
     "shell.execute_reply.started": "2022-04-12T15:15:20.456675Z"
    },
    "papermill": {
     "duration": 0.06311,
     "end_time": "2022-04-12T17:09:35.644803",
     "exception": false,
     "start_time": "2022-04-12T17:09:35.581693",
     "status": "completed"
    },
    "tags": []
   },
   "outputs": [
    {
     "name": "stdout",
     "output_type": "stream",
     "text": [
      "<class 'pandas.core.frame.DataFrame'>\n",
      "Int64Index: 1460 entries, 1 to 1460\n",
      "Data columns (total 80 columns):\n",
      " #   Column         Non-Null Count  Dtype  \n",
      "---  ------         --------------  -----  \n",
      " 0   MSSubClass     1460 non-null   int64  \n",
      " 1   MSZoning       1460 non-null   object \n",
      " 2   LotFrontage    1201 non-null   float64\n",
      " 3   LotArea        1460 non-null   int64  \n",
      " 4   Street         1460 non-null   object \n",
      " 5   Alley          91 non-null     object \n",
      " 6   LotShape       1460 non-null   object \n",
      " 7   LandContour    1460 non-null   object \n",
      " 8   Utilities      1460 non-null   object \n",
      " 9   LotConfig      1460 non-null   object \n",
      " 10  LandSlope      1460 non-null   object \n",
      " 11  Neighborhood   1460 non-null   object \n",
      " 12  Condition1     1460 non-null   object \n",
      " 13  Condition2     1460 non-null   object \n",
      " 14  BldgType       1460 non-null   object \n",
      " 15  HouseStyle     1460 non-null   object \n",
      " 16  OverallQual    1460 non-null   int64  \n",
      " 17  OverallCond    1460 non-null   int64  \n",
      " 18  YearBuilt      1460 non-null   int64  \n",
      " 19  YearRemodAdd   1460 non-null   int64  \n",
      " 20  RoofStyle      1460 non-null   object \n",
      " 21  RoofMatl       1460 non-null   object \n",
      " 22  Exterior1st    1460 non-null   object \n",
      " 23  Exterior2nd    1460 non-null   object \n",
      " 24  MasVnrType     1452 non-null   object \n",
      " 25  MasVnrArea     1452 non-null   float64\n",
      " 26  ExterQual      1460 non-null   object \n",
      " 27  ExterCond      1460 non-null   object \n",
      " 28  Foundation     1460 non-null   object \n",
      " 29  BsmtQual       1423 non-null   object \n",
      " 30  BsmtCond       1423 non-null   object \n",
      " 31  BsmtExposure   1422 non-null   object \n",
      " 32  BsmtFinType1   1423 non-null   object \n",
      " 33  BsmtFinSF1     1460 non-null   int64  \n",
      " 34  BsmtFinType2   1422 non-null   object \n",
      " 35  BsmtFinSF2     1460 non-null   int64  \n",
      " 36  BsmtUnfSF      1460 non-null   int64  \n",
      " 37  TotalBsmtSF    1460 non-null   int64  \n",
      " 38  Heating        1460 non-null   object \n",
      " 39  HeatingQC      1460 non-null   object \n",
      " 40  CentralAir     1460 non-null   object \n",
      " 41  Electrical     1459 non-null   object \n",
      " 42  1stFlrSF       1460 non-null   int64  \n",
      " 43  2ndFlrSF       1460 non-null   int64  \n",
      " 44  LowQualFinSF   1460 non-null   int64  \n",
      " 45  GrLivArea      1460 non-null   int64  \n",
      " 46  BsmtFullBath   1460 non-null   int64  \n",
      " 47  BsmtHalfBath   1460 non-null   int64  \n",
      " 48  FullBath       1460 non-null   int64  \n",
      " 49  HalfBath       1460 non-null   int64  \n",
      " 50  BedroomAbvGr   1460 non-null   int64  \n",
      " 51  KitchenAbvGr   1460 non-null   int64  \n",
      " 52  KitchenQual    1460 non-null   object \n",
      " 53  TotRmsAbvGrd   1460 non-null   int64  \n",
      " 54  Functional     1460 non-null   object \n",
      " 55  Fireplaces     1460 non-null   int64  \n",
      " 56  FireplaceQu    770 non-null    object \n",
      " 57  GarageType     1379 non-null   object \n",
      " 58  GarageYrBlt    1379 non-null   float64\n",
      " 59  GarageFinish   1379 non-null   object \n",
      " 60  GarageCars     1460 non-null   int64  \n",
      " 61  GarageArea     1460 non-null   int64  \n",
      " 62  GarageQual     1379 non-null   object \n",
      " 63  GarageCond     1379 non-null   object \n",
      " 64  PavedDrive     1460 non-null   object \n",
      " 65  WoodDeckSF     1460 non-null   int64  \n",
      " 66  OpenPorchSF    1460 non-null   int64  \n",
      " 67  EnclosedPorch  1460 non-null   int64  \n",
      " 68  3SsnPorch      1460 non-null   int64  \n",
      " 69  ScreenPorch    1460 non-null   int64  \n",
      " 70  PoolArea       1460 non-null   int64  \n",
      " 71  PoolQC         7 non-null      object \n",
      " 72  Fence          281 non-null    object \n",
      " 73  MiscFeature    54 non-null     object \n",
      " 74  MiscVal        1460 non-null   int64  \n",
      " 75  MoSold         1460 non-null   int64  \n",
      " 76  YrSold         1460 non-null   int64  \n",
      " 77  SaleType       1460 non-null   object \n",
      " 78  SaleCondition  1460 non-null   object \n",
      " 79  SalePrice      1460 non-null   int64  \n",
      "dtypes: float64(3), int64(34), object(43)\n",
      "memory usage: 923.9+ KB\n"
     ]
    }
   ],
   "source": [
    "data_with_label.info()"
   ]
  },
  {
   "cell_type": "markdown",
   "id": "8f67639c",
   "metadata": {
    "papermill": {
     "duration": 0.038145,
     "end_time": "2022-04-12T17:09:35.722430",
     "exception": false,
     "start_time": "2022-04-12T17:09:35.684285",
     "status": "completed"
    },
    "tags": []
   },
   "source": [
    "### Check most correlated features with the target"
   ]
  },
  {
   "cell_type": "code",
   "execution_count": 5,
   "id": "95ab9dac",
   "metadata": {
    "execution": {
     "iopub.execute_input": "2022-04-12T17:09:35.803256Z",
     "iopub.status.busy": "2022-04-12T17:09:35.802619Z",
     "iopub.status.idle": "2022-04-12T17:09:35.819447Z",
     "shell.execute_reply": "2022-04-12T17:09:35.818999Z",
     "shell.execute_reply.started": "2022-04-12T15:15:20.489719Z"
    },
    "papermill": {
     "duration": 0.058285,
     "end_time": "2022-04-12T17:09:35.819583",
     "exception": false,
     "start_time": "2022-04-12T17:09:35.761298",
     "status": "completed"
    },
    "tags": []
   },
   "outputs": [
    {
     "data": {
      "text/plain": [
       "SalePrice        1.000000\n",
       "OverallQual      0.790982\n",
       "GrLivArea        0.708624\n",
       "GarageCars       0.640409\n",
       "GarageArea       0.623431\n",
       "TotalBsmtSF      0.613581\n",
       "1stFlrSF         0.605852\n",
       "FullBath         0.560664\n",
       "TotRmsAbvGrd     0.533723\n",
       "YearBuilt        0.522897\n",
       "YearRemodAdd     0.507101\n",
       "GarageYrBlt      0.486362\n",
       "MasVnrArea       0.477493\n",
       "Fireplaces       0.466929\n",
       "BsmtFinSF1       0.386420\n",
       "LotFrontage      0.351799\n",
       "WoodDeckSF       0.324413\n",
       "2ndFlrSF         0.319334\n",
       "OpenPorchSF      0.315856\n",
       "HalfBath         0.284108\n",
       "LotArea          0.263843\n",
       "BsmtFullBath     0.227122\n",
       "BsmtUnfSF        0.214479\n",
       "BedroomAbvGr     0.168213\n",
       "ScreenPorch      0.111447\n",
       "PoolArea         0.092404\n",
       "MoSold           0.046432\n",
       "3SsnPorch        0.044584\n",
       "BsmtFinSF2      -0.011378\n",
       "BsmtHalfBath    -0.016844\n",
       "MiscVal         -0.021190\n",
       "LowQualFinSF    -0.025606\n",
       "YrSold          -0.028923\n",
       "OverallCond     -0.077856\n",
       "MSSubClass      -0.084284\n",
       "EnclosedPorch   -0.128578\n",
       "KitchenAbvGr    -0.135907\n",
       "Name: SalePrice, dtype: float64"
      ]
     },
     "execution_count": 5,
     "metadata": {},
     "output_type": "execute_result"
    }
   ],
   "source": [
    "top_corr_features = data_with_label.corr()['SalePrice'].sort_values(ascending=False)\n",
    "top_corr_features"
   ]
  },
  {
   "cell_type": "markdown",
   "id": "c486ee4b",
   "metadata": {
    "papermill": {
     "duration": 0.037462,
     "end_time": "2022-04-12T17:09:35.895455",
     "exception": false,
     "start_time": "2022-04-12T17:09:35.857993",
     "status": "completed"
    },
    "tags": []
   },
   "source": [
    "### Check the skewness in the data"
   ]
  },
  {
   "cell_type": "code",
   "execution_count": 6,
   "id": "a17d935c",
   "metadata": {
    "execution": {
     "iopub.execute_input": "2022-04-12T17:09:35.977893Z",
     "iopub.status.busy": "2022-04-12T17:09:35.977244Z",
     "iopub.status.idle": "2022-04-12T17:09:35.991736Z",
     "shell.execute_reply": "2022-04-12T17:09:35.991121Z",
     "shell.execute_reply.started": "2022-04-12T15:15:20.512084Z"
    },
    "papermill": {
     "duration": 0.058448,
     "end_time": "2022-04-12T17:09:35.991900",
     "exception": false,
     "start_time": "2022-04-12T17:09:35.933452",
     "status": "completed"
    },
    "tags": []
   },
   "outputs": [
    {
     "data": {
      "text/plain": [
       "MSSubClass        1.407657\n",
       "LotFrontage       2.163569\n",
       "LotArea          12.207688\n",
       "OverallQual       0.216944\n",
       "OverallCond       0.693067\n",
       "YearBuilt        -0.613461\n",
       "YearRemodAdd     -0.503562\n",
       "MasVnrArea        2.669084\n",
       "BsmtFinSF1        1.685503\n",
       "BsmtFinSF2        4.255261\n",
       "BsmtUnfSF         0.920268\n",
       "TotalBsmtSF       1.524255\n",
       "1stFlrSF          1.376757\n",
       "2ndFlrSF          0.813030\n",
       "LowQualFinSF      9.011341\n",
       "GrLivArea         1.366560\n",
       "BsmtFullBath      0.596067\n",
       "BsmtHalfBath      4.103403\n",
       "FullBath          0.036562\n",
       "HalfBath          0.675897\n",
       "BedroomAbvGr      0.211790\n",
       "KitchenAbvGr      4.488397\n",
       "TotRmsAbvGrd      0.676341\n",
       "Fireplaces        0.649565\n",
       "GarageYrBlt      -0.649415\n",
       "GarageCars       -0.342549\n",
       "GarageArea        0.179981\n",
       "WoodDeckSF        1.541376\n",
       "OpenPorchSF       2.364342\n",
       "EnclosedPorch     3.089872\n",
       "3SsnPorch        10.304342\n",
       "ScreenPorch       4.122214\n",
       "PoolArea         14.828374\n",
       "MiscVal          24.476794\n",
       "MoSold            0.212053\n",
       "YrSold            0.096269\n",
       "SalePrice         1.882876\n",
       "dtype: float64"
      ]
     },
     "execution_count": 6,
     "metadata": {},
     "output_type": "execute_result"
    }
   ],
   "source": [
    "data_with_label.skew()"
   ]
  },
  {
   "cell_type": "markdown",
   "id": "1d20d24f",
   "metadata": {
    "papermill": {
     "duration": 0.04013,
     "end_time": "2022-04-12T17:09:36.071355",
     "exception": false,
     "start_time": "2022-04-12T17:09:36.031225",
     "status": "completed"
    },
    "tags": []
   },
   "source": [
    "### Check the histogram to get how data skewed and nulls Visually will be butter."
   ]
  },
  {
   "cell_type": "code",
   "execution_count": 7,
   "id": "23b6b5e1",
   "metadata": {
    "execution": {
     "iopub.execute_input": "2022-04-12T17:09:36.156902Z",
     "iopub.status.busy": "2022-04-12T17:09:36.156100Z",
     "iopub.status.idle": "2022-04-12T17:09:41.038558Z",
     "shell.execute_reply": "2022-04-12T17:09:41.039014Z",
     "shell.execute_reply.started": "2022-04-12T15:15:20.538551Z"
    },
    "papermill": {
     "duration": 4.926667,
     "end_time": "2022-04-12T17:09:41.039183",
     "exception": false,
     "start_time": "2022-04-12T17:09:36.112516",
     "status": "completed"
    },
    "tags": []
   },
   "outputs": [
    {
     "data": {
      "text/plain": [
       "array([<AxesSubplot:title={'center':'MSSubClass'}>,\n",
       "       <AxesSubplot:title={'center':'LotFrontage'}>,\n",
       "       <AxesSubplot:title={'center':'LotArea'}>,\n",
       "       <AxesSubplot:title={'center':'OverallQual'}>,\n",
       "       <AxesSubplot:title={'center':'OverallCond'}>,\n",
       "       <AxesSubplot:title={'center':'YearBuilt'}>], dtype=object)"
      ]
     },
     "execution_count": 7,
     "metadata": {},
     "output_type": "execute_result"
    },
    {
     "data": {
      "image/png": "[encoded data removed]",
      "text/plain": [
       "<Figure size 1440x1440 with 42 Axes>"
      ]
     },
     "metadata": {
      "needs_background": "light"
     },
     "output_type": "display_data"
    }
   ],
   "source": [
    "data_with_label.hist(figsize = (20 ,20))[0]"
   ]
  },
  {
   "cell_type": "markdown",
   "id": "692d8260",
   "metadata": {
    "papermill": {
     "duration": 0.042111,
     "end_time": "2022-04-12T17:09:41.123150",
     "exception": false,
     "start_time": "2022-04-12T17:09:41.081039",
     "status": "completed"
    },
    "tags": []
   },
   "source": [
    "### Check the correlation between each feature and the others"
   ]
  },
  {
   "cell_type": "code",
   "execution_count": 8,
   "id": "34b71315",
   "metadata": {
    "execution": {
     "iopub.execute_input": "2022-04-12T17:09:41.213586Z",
     "iopub.status.busy": "2022-04-12T17:09:41.209153Z",
     "iopub.status.idle": "2022-04-12T17:09:42.253556Z",
     "shell.execute_reply": "2022-04-12T17:09:42.253059Z",
     "shell.execute_reply.started": "2022-04-12T15:15:26.450878Z"
    },
    "papermill": {
     "duration": 1.088772,
     "end_time": "2022-04-12T17:09:42.253693",
     "exception": false,
     "start_time": "2022-04-12T17:09:41.164921",
     "status": "completed"
    },
    "tags": []
   },
   "outputs": [
    {
     "data": {
      "text/html": [
       "        <script type=\"text/javascript\">\n",
       "        window.PlotlyConfig = {MathJaxConfig: 'local'};\n",
       "        if (window.MathJax) {MathJax.Hub.Config({SVG: {font: \"STIX-Web\"}});}\n",
       "        if (typeof require !== 'undefined') {\n",
       "        require.undef(\"plotly\");\n",
       "        requirejs.config({\n",
       "            paths: {\n",
       "                'plotly': ['https://cdn.plot.ly/plotly-2.9.0.min']\n",
       "            }\n",
       "        });\n",
       "        require(['plotly'], function(Plotly) {\n",
       "            window._Plotly = Plotly;\n",
       "        });\n",
       "        }\n",
       "        </script>\n",
       "        "
      ]
     },
     "metadata": {},
     "output_type": "display_data"
    },
    {
     "data": {
      "text/html": [
       "<div>                            <div id=\"de1f3738-febb-443c-96e0-240ffdae3551\" class=\"plotly-graph-div\" style=\"height:1000px; width:1000px;\"></div>            <script type=\"text/javascript\">                require([\"plotly\"], function(Plotly) {                    window.PLOTLYENV=window.PLOTLYENV || {};                                    if (document.getElementById(\"de1f3738-febb-443c-96e0-240ffdae3551\")) {                    Plotly.newPlot(                        \"de1f3738-febb-443c-96e0-240ffdae3551\",                        [{\"coloraxis\":\"coloraxis\",\"name\":\"0\",\"texttemplate\":\"%{z}\",\"x\":[\"MSSubClass\",\"LotFrontage\",\"LotArea\",\"OverallQual\",\"OverallCond\",\"YearBuilt\",\"YearRemodAdd\",\"MasVnrArea\",\"BsmtFinSF1\",\"BsmtFinSF2\",\"BsmtUnfSF\",\"TotalBsmtSF\",\"1stFlrSF\",\"2ndFlrSF\",\"LowQualFinSF\",\"GrLivArea\",\"BsmtFullBath\",\"BsmtHalfBath\",\"FullBath\",\"HalfBath\",\"BedroomAbvGr\",\"KitchenAbvGr\",\"TotRmsAbvGrd\",\"Fireplaces\",\"GarageYrBlt\",\"GarageCars\",\"GarageArea\",\"WoodDeckSF\",\"OpenPorchSF\",\"EnclosedPorch\",\"3SsnPorch\",\"ScreenPorch\",\"PoolArea\",\"MiscVal\",\"MoSold\",\"YrSold\",\"SalePrice\"],\"y\":[\"MSSubClass\",\"LotFrontage\",\"LotArea\",\"OverallQual\",\"OverallCond\",\"YearBuilt\",\"YearRemodAdd\",\"MasVnrArea\",\"BsmtFinSF1\",\"BsmtFinSF2\",\"BsmtUnfSF\",\"TotalBsmtSF\",\"1stFlrSF\",\"2ndFlrSF\",\"LowQualFinSF\",\"GrLivArea\",\"BsmtFullBath\",\"BsmtHalfBath\",\"FullBath\",\"HalfBath\",\"BedroomAbvGr\",\"KitchenAbvGr\",\"TotRmsAbvGrd\",\"Fireplaces\",\"GarageYrBlt\",\"GarageCars\",\"GarageArea\",\"WoodDeckSF\",\"OpenPorchSF\",\"EnclosedPorch\",\"3SsnPorch\",\"ScreenPorch\",\"PoolArea\",\"MiscVal\",\"MoSold\",\"YrSold\",\"SalePrice\"],\"z\":[[1.0,-0.3863468853449291,-0.13978108172014597,0.032627707521842034,-0.059315817084104695,0.027850136946705798,0.04058104478406425,0.022936285894197328,-0.06983574916710049,-0.06564857918852389,-0.14075948083501172,-0.23851840931511895,-0.25175835187837925,0.30788572075985926,0.046473755899517154,0.0748531796577994,0.003491025779044692,-0.0023325345518022773,0.13160822241028108,0.17735438864391687,-0.02343802846062706,0.2817210402648814,0.04038006478367613,-0.04556934027456939,0.08507186950664718,-0.040109793135783604,-0.09867154319256435,-0.012579358249219592,-0.006100121231942238,-0.012036621902094771,-0.04382454917560846,-0.026030176699806666,0.008282707579624416,-0.007683291329865976,-0.013584643238322348,-0.02140703785109821,-0.08428413512659509],[-0.3863468853449291,1.0,0.4260950187718081,0.2516457754806124,-0.059213450005246894,0.12334946703331619,0.08886557249206646,0.19345806055826867,0.233633167019755,0.0498996766909894,0.13264374162493364,0.3920745763791721,0.45718100199465517,0.08017727062420475,0.038468534328959476,0.40279741408531955,0.10094856694926875,-0.007234304524918128,0.19876867789737823,0.05353185497960593,0.263169915881059,-0.0060688301613090875,0.3520959476602243,0.26663948256030306,0.0702497819166165,0.2856909246851005,0.3449967241064819,0.0885209332894081,0.15197222768060642,0.01070033663888244,0.07002922773085365,0.04138279067500582,0.2061667752760768,0.003367556596191435,0.011199954759134238,0.007449589209750463,0.35179909657067737],[-0.13978108172014597,0.4260950187718081,1.0,0.10580574175496422,-0.005636270274099278,0.014227651757025093,0.013788427078155424,0.10415982154021264,0.21410313070557713,0.11116974549624871,-0.00261835995009543,0.2608331345451572,0.29947457850776266,0.05098594829349377,0.004778969866349555,0.26311616716714803,0.15815453106001476,0.04804557088829686,0.1260306265196436,0.014259468566431947,0.11968990815131542,-0.017783870504841995,0.190014777625409,0.2713640096245418,-0.02494741866564254,0.15487073975354076,0.1804027551511169,0.17169768725711246,0.08477380884021642,-0.018339733672212328,0.020422829586133416,0.04316037769525204,0.07767239188017444,0.03806769201918336,0.0012049882225877268,-0.01426140729855021,0.2638433538714051],[0.032627707521842034,0.2516457754806124,0.10580574175496422,1.0,-0.09193234263907182,0.5723227689623621,0.5506839241941717,0.4118756672776833,0.23966596617889105,-0.05911869267068986,0.30815892690564284,0.5378084986123907,0.4762238290781779,0.29549287919970985,-0.030429283979605037,0.5930074300286512,0.11109778614230235,-0.04015015766998829,0.5505997093682543,0.2734580986427702,0.1016763562417855,-0.18388223454922156,0.42745234327798975,0.39676503795208906,0.5477658448351629,0.6006707165907149,0.5620217566126083,0.23892339224918593,0.3088188233594523,-0.11393685859568162,0.03037056713526452,0.06488636049351544,0.06516584360589199,-0.031406210500746504,0.07081517178517327,-0.027346708327825386,0.7909816005838053],[-0.059315817084104695,-0.059213450005246894,-0.005636270274099278,-0.09193234263907182,1.0,-0.37598319560698945,0.07374149814528905,-0.1281011991656896,-0.04623085591822496,0.040229169899767575,-0.13684056989352233,-0.1710975146249218,-0.1442027840490591,0.028942115965816882,0.025494319914213383,-0.07968586538833815,-0.05494151543295185,0.11782091508139253,-0.1941494887493024,-0.06076932676159483,0.012980060094550628,-0.08700085543638039,-0.057583166112865375,-0.02381997776166212,-0.32429673252939795,-0.18575751057836357,-0.15152137057022985,-0.0033336992893856225,-0.03258881352158505,0.07035618448230374,0.025503660024132138,0.05481052878611526,-0.0019849422681841354,0.0687768060572499,-0.003510838599939743,0.043949745692488544,-0.07785589404867797],[0.027850136946705798,0.12334946703331619,0.014227651757025093,0.5723227689623621,-0.37598319560698945,1.0,0.5928549763436519,0.3157070624361963,0.24950319668479728,-0.049106831196239174,0.14904039195440058,0.3914520020660952,0.2819858586998021,0.010307659584364078,-0.18378434437372046,0.19900971367645826,0.1875985499971434,-0.03816180567123349,0.4682707871726737,0.2426559102410641,-0.07065121690473103,-0.17480024561497706,0.09558912829795185,0.14771639941245646,0.8256674841743408,0.5378500917111052,0.4789538198934904,0.22488014230399744,0.188685840001731,-0.3872677829280785,0.03135451306436603,-0.05036443453861205,0.004949727615942999,-0.03438313873672287,0.012398470595440986,-0.01361768000183213,0.5228973328794967],[0.04058104478406425,0.08886557249206646,0.013788427078155424,0.5506839241941717,0.07374149814528905,0.5928549763436519,1.0,0.17961837073552223,0.12845054712828866,-0.06775851356598699,0.18113308705016903,0.2910655826041661,0.24037926760355463,0.14002377880486447,-0.06241910007833181,0.2873885196503327,0.11946987911123993,-0.012337032127797673,0.4390464838723479,0.1833306117185349,-0.040580928067749454,-0.14959752104274646,0.1917398162928069,0.11258131843947561,0.6422767797035356,0.42062215494321714,0.3715998094973092,0.20572592049010355,0.22629763268298944,-0.1939191470992078,0.045285809814976964,-0.038740010742610125,0.005829372037106204,-0.010286248783081431,0.02149000222687611,0.03574324712127364,0.5071009671113866],[0.022936285894197328,0.19345806055826867,0.10415982154021264,0.4118756672776833,-0.1281011991656896,0.3157070624361963,0.17961837073552223,1.0,0.2647362647138685,-0.0723188482033582,0.11444206231380821,0.3639362217744723,0.3445007468899248,0.1745614734574279,-0.06907085606589286,0.39085663973843854,0.08530982868972814,0.026672828155103145,0.27683284723698837,0.20144394692967832,0.10282115127801787,-0.03761025181986861,0.2806816946085068,0.24906961283714313,0.2526907749903342,0.3642036400698656,0.37306648160023664,0.15971813436595433,0.1257027966825031,-0.11020383387243517,0.018795515294914033,0.06146554318732188,0.01172306121326672,-0.02981539358527878,-0.005964715509114298,-0.008201030967080006,0.47749304709571444],[-0.06983574916710049,0.233633167019755,0.21410313070557713,0.23966596617889105,-0.04623085591822496,0.24950319668479728,0.12845054712828866,0.2647362647138685,1.0,-0.0501174000471511,-0.49525146925701125,0.5223960519923867,0.4458626560920054,-0.13707898608005356,-0.06450259692146844,0.20817113014532704,0.6492117535742649,0.06741847791011696,0.058543136861595194,0.004262424384486936,-0.10735467682307034,-0.08100685077857439,0.044315623912920654,0.2600109202350403,0.1534840980267781,0.22405352239399068,0.2969703853445138,0.20430614523740265,0.11176061335675101,-0.10230330550073197,0.026450506189898953,0.06202062266534991,0.1404912862549568,0.003571473474954695,-0.015726948262154667,0.014358922393909302,0.3864198062421535],[-0.06564857918852389,0.0498996766909894,0.11116974549624871,-0.05911869267068986,0.040229169899767575,-0.049106831196239174,-0.06775851356598699,-0.0723188482033582,-0.0501174000471511,1.0,-0.20929449241994497,0.10480953760636813,0.0971174484566702,-0.09926031602264425,0.01480699794683367,-0.009639891551805443,0.15867806078170135,0.07094813365590413,-0.07644386196518269,-0.032147837468965886,-0.015728113626581035,-0.04075123644840764,-0.03522654794752336,0.04692070882601213,-0.08801081541220088,-0.038263512869251545,-0.018226591907316552,0.06789832641361218,0.003092562209894399,0.036543339448210164,-0.029993397993921023,0.08887125137339073,0.041709054681333575,0.004939781228437705,-0.015210737972006668,0.03170563698487945,-0.011378121450215146],[-0.14075948083501172,0.13264374162493364,-0.00261835995009543,0.30815892690564284,-0.13684056989352233,0.14904039195440058,0.18113308705016903,0.11444206231380821,-0.49525146925701125,-0.20929449241994497,1.0,0.4153596051815893,0.3179874383527259,0.004469092144542392,0.028166688132741206,0.240257268349935,-0.42290047738321335,-0.09580428815248283,0.2888860554869108,-0.04111753014455172,0.16664331698696289,0.030085868314000126,0.25064706137624926,0.0515748822895418,0.19070827345893257,0.2141751897502169,0.18330269774258412,-0.005316424333062066,0.12900541461542128,-0.002537854589751547,0.02076400569654798,-0.012579273444256824,-0.035092240793657914,-0.023836645134507763,0.03488844300908206,-0.04125819493876721,0.21447910554696928],[-0.23851840931511895,0.3920745763791721,0.2608331345451572,0.5378084986123907,-0.1710975146249218,0.3914520020660952,0.2910655826041661,0.3639362217744723,0.5223960519923867,0.10480953760636813,0.4153596051815893,1.0,0.8195299750050339,-0.17451195013496046,-0.0332453873474563,0.45486820254790317,0.30735055373550346,-0.00031458181983374725,0.3237224136066502,-0.04880373863521248,0.05044995551267818,-0.06890064264201659,0.28557256372579454,0.33951932389865597,0.3224451736794739,0.43458483429168865,0.4866654637737961,0.23201860912901803,0.2472637462881078,-0.09547773670640776,0.03738372726300508,0.08448898591431157,0.12605313210083768,-0.018478922431472124,0.013196178616778433,-0.014968648018762356,0.6135805515591943],[-0.25175835187837925,0.45718100199465517,0.29947457850776266,0.4762238290781779,-0.1442027840490591,0.2819858586998021,0.24037926760355463,0.3445007468899248,0.4458626560920054,0.0971174484566702,0.3179874383527259,0.8195299750050339,1.0,-0.20264618100232087,-0.014240672666431285,0.5660239689357486,0.24467110424771052,0.001955653582048656,0.3806374949735071,-0.11991590879396136,0.12740074939236454,0.06810058817691335,0.40951597886683183,0.41053108465984556,0.23344909271486267,0.4393168079906709,0.4897816541041918,0.23545862278369778,0.2116712254979847,-0.0652917009103091,0.05610437448487508,0.08875807262015682,0.13152497564028254,-0.021095719463122223,0.03137156035207926,-0.01360377050464661,0.6058521846919153],[0.30788572075985926,0.08017727062420475,0.05098594829349377,0.29549287919970985,0.028942115965816882,0.010307659584364078,0.14002377880486447,0.1745614734574279,-0.13707898608005356,-0.09926031602264425,0.004469092144542392,-0.17451195013496046,-0.20264618100232087,1.0,0.06335295010932271,0.6875010641666033,-0.16949395173099896,-0.023854783937045255,0.4213779828759713,0.6097073002717436,0.5029006133459056,0.05930575264821624,0.6164226354915431,0.19456089224132392,0.0708323397173792,0.18392558307638002,0.13834695857186657,0.09216541758603868,0.2080260631813579,0.06198869077325203,-0.02435764842204794,0.040606447641001006,0.08148687804909954,0.016196874604388505,0.035164427361791005,-0.02869991393529755,0.31933380283206736],[0.046473755899517154,0.038468534328959476,0.004778969866349555,-0.030429283979605037,0.025494319914213383,-0.18378434437372046,-0.06241910007833181,-0.06907085606589286,-0.06450259692146844,0.01480699794683367,0.028166688132741206,-0.0332453873474563,-0.014240672666431285,0.06335295010932271,1.0,0.13468281300660076,-0.047143421898259166,-0.005841504819311643,-0.0007095096206731084,-0.02708004931716945,0.10560656854090526,0.007521744344233734,0.13118477598954745,-0.02127214341393874,-0.03636323404234127,-0.09447952015593257,-0.06760141323952208,-0.025443647988791077,0.018251039053999052,0.06108123777122687,-0.004295610410300094,0.02679941302177244,0.06215737226918922,-0.003792870779996453,-0.02217396057953783,-0.028920879782296086,-0.02560613000067955],[0.0748531796577994,0.40279741408531955,0.26311616716714803,0.5930074300286512,-0.07968586538833815,0.19900971367645826,0.2873885196503327,0.39085663973843854,0.20817113014532704,-0.009639891551805443,0.240257268349935,0.45486820254790317,0.5660239689357486,0.6875010641666033,0.13468281300660076,1.0,0.03483604954490554,-0.0189184831706347,0.6300116462511148,0.4157716361052652,0.5212695109189948,0.10006316473775474,0.8254893743088425,0.46167913376144704,0.23119674063336224,0.4672474187951873,0.4689974773229655,0.24743282051884846,0.33022396171200064,0.009113210326003087,0.020643189710186576,0.10151039568208567,0.1702053360005616,-0.0024156395502935623,0.05023968081827284,-0.03652581962473121,0.7086244776126515],[0.003491025779044692,0.10094856694926875,0.15815453106001476,0.11109778614230235,-0.05494151543295185,0.1875985499971434,0.11946987911123993,0.08530982868972814,0.6492117535742649,0.15867806078170135,-0.42290047738321335,0.30735055373550346,0.24467110424771052,-0.16949395173099896,-0.047143421898259166,0.03483604954490554,1.0,-0.14787096054760138,-0.06451204863131507,-0.030904959142533293,-0.15067280920795623,-0.041502546431482885,-0.0532752361233972,0.1379277084271981,0.12455252442364974,0.13188122440619438,0.179189480420231,0.17531519007972224,0.06734146137698176,-0.049910649083753186,-0.00010609153998400853,0.023147725763573802,0.06761555618047507,-0.02304702486861695,-0.025360894315259907,0.06704913767140361,0.22712223313149427],[-0.0023325345518022773,-0.007234304524918128,0.04804557088829686,-0.04015015766998829,0.11782091508139253,-0.03816180567123349,-0.012337032127797673,0.026672828155103145,0.06741847791011696,0.07094813365590413,-0.09580428815248283,-0.00031458181983374725,0.001955653582048656,-0.023854783937045255,-0.005841504819311643,-0.0189184831706347,-0.14787096054760138,1.0,-0.054535811983635524,-0.012339900052275487,0.046518848389950684,-0.03794435022720086,-0.023836341262220544,0.028975586646259963,-0.07746361238070294,-0.02089105899687853,-0.02453557957887923,0.04016122325953452,-0.02532375788905772,-0.008555333868578032,0.035113630886772336,0.03212140720908338,0.02002462983851695,-0.007366524543625446,0.03287270523409066,-0.04652388177400862,-0.01684415429735895],[0.13160822241028108,0.19876867789737823,0.1260306265196436,0.5505997093682543,-0.1941494887493024,0.4682707871726737,0.4390464838723479,0.27683284723698837,0.058543136861595194,-0.07644386196518269,0.2888860554869108,0.3237224136066502,0.3806374949735071,0.4213779828759713,-0.0007095096206731084,0.6300116462511148,-0.06451204863131507,-0.054535811983635524,1.0,0.13638058874914522,0.36325198302327694,0.1331152141960393,0.5547842535334836,0.2436705030799116,0.4845573867195222,0.469672043267628,0.4056562084540099,0.18770321383582822,0.25997742546824865,-0.11509296346134239,0.03535301658385297,-0.00810609332811188,0.04960382558403366,-0.014289844970848111,0.055872128991723384,-0.019668840691520386,0.5606637627484453],[0.17735438864391687,0.05353185497960593,0.014259468566431947,0.2734580986427702,-0.06076932676159483,0.2426559102410641,0.1833306117185349,0.20144394692967832,0.004262424384486936,-0.032147837468965886,-0.04111753014455172,-0.04880373863521248,-0.11991590879396136,0.6097073002717436,-0.02708004931716945,0.4157716361052652,-0.030904959142533293,-0.012339900052275487,0.13638058874914522,1.0,0.22665148415094508,-0.06826254889694101,0.3434148575409178,0.20364850809521917,0.19678517580586272,0.21917815216716094,0.1635493640166073,0.10808030267536337,0.19974014751279254,-0.09531652573608992,-0.0049724884173161,0.0724258451703809,0.0223814980554099,0.0012901448492839542,-0.009049888212650292,-0.010268668868105917,0.28410767559478256],[-0.02343802846062706,0.263169915881059,0.11968990815131542,0.1016763562417855,0.012980060094550628,-0.07065121690473103,-0.040580928067749454,0.10282115127801787,-0.10735467682307034,-0.015728113626581035,0.16664331698696289,0.05044995551267818,0.12740074939236454,0.5029006133459056,0.10560656854090526,0.5212695109189948,-0.15067280920795623,0.046518848389950684,0.36325198302327694,0.22665148415094508,1.0,0.1985967577071338,0.676619935742649,0.10756968099132388,-0.06451843698438452,0.08610643768835287,0.06525252989881626,0.04685377306989394,0.09380957160591452,0.04157043451959824,-0.02447779636611455,0.044299691127134826,0.07070258356547471,0.007766971998717607,0.04654385993628238,-0.03601389283370446,0.16821315430073963],[0.2817210402648814,-0.0060688301613090875,-0.017783870504841995,-0.18388223454922156,-0.08700085543638039,-0.17480024561497706,-0.14959752104274646,-0.03761025181986861,-0.08100685077857439,-0.04075123644840764,0.030085868314000126,-0.06890064264201659,0.06810058817691335,0.05930575264821624,0.007521744344233734,0.10006316473775474,-0.041502546431482885,-0.03794435022720086,0.1331152141960393,-0.06826254889694101,0.1985967577071338,1.0,0.2560454085359489,-0.12393623529689729,-0.12441140157001684,-0.05063389240221729,-0.06443304718314395,-0.09013027267903444,-0.07009060989258609,0.03731238503296963,-0.024600358690531954,-0.05161336606147979,-0.014525116015980777,0.062340724004379115,0.026588907230915452,0.031687206500669154,-0.13590737084214105],[0.04038006478367613,0.3520959476602243,0.190014777625409,0.42745234327798975,-0.057583166112865375,0.09558912829795185,0.1917398162928069,0.2806816946085068,0.044315623912920654,-0.03522654794752336,0.25064706137624926,0.28557256372579454,0.40951597886683183,0.6164226354915431,0.13118477598954745,0.8254893743088425,-0.0532752361233972,-0.023836341262220544,0.5547842535334836,0.3434148575409178,0.676619935742649,0.2560454085359489,1.0,0.3261144801772001,0.1481117155859651,0.3622885708147746,0.33782212063683786,0.16598388371493233,0.2341915878315988,0.004151299023856323,-0.006683241010939702,0.059382599559410935,0.0837573495149245,0.024762884163584138,0.036907077159844405,-0.03451635430218269,0.5337231555820284],[-0.04556934027456939,0.26663948256030306,0.2713640096245418,0.39676503795208906,-0.02381997776166212,0.14771639941245646,0.11258131843947561,0.24906961283714313,0.2600109202350403,0.04692070882601213,0.0515748822895418,0.33951932389865597,0.41053108465984556,0.19456089224132392,-0.02127214341393874,0.46167913376144704,0.1379277084271981,0.028975586646259963,0.2436705030799116,0.20364850809521917,0.10756968099132388,-0.12393623529689729,0.3261144801772001,1.0,0.04682164840190421,0.3007887663013562,0.2691412380738719,0.20001879575902368,0.16940532713120185,-0.02482186853706847,0.011257238992774959,0.18453026951684842,0.09507352203619863,0.0014086054430451757,0.04635710249771968,-0.024095564980725313,0.46692883675152763],[0.08507186950664718,0.0702497819166165,-0.02494741866564254,0.5477658448351629,-0.32429673252939795,0.8256674841743408,0.6422767797035356,0.2526907749903342,0.1534840980267781,-0.08801081541220088,0.19070827345893257,0.3224451736794739,0.23344909271486267,0.0708323397173792,-0.03636323404234127,0.23119674063336224,0.12455252442364974,-0.07746361238070294,0.4845573867195222,0.19678517580586272,-0.06451843698438452,-0.12441140157001684,0.1481117155859651,0.04682164840190421,1.0,0.5889200070047002,0.5645670607230577,0.22457699198793213,0.22842457877198022,-0.2970026030557314,0.023543689573665077,-0.07541751376190593,-0.01450067856370222,-0.032417457821261826,0.0053370257603695135,-0.0010142778712734348,0.4863616774878596],[-0.040109793135783604,0.2856909246851005,0.15487073975354076,0.6006707165907149,-0.18575751057836357,0.5378500917111052,0.42062215494321714,0.3642036400698656,0.22405352239399068,-0.038263512869251545,0.2141751897502169,0.43458483429168865,0.4393168079906709,0.18392558307638002,-0.09447952015593257,0.4672474187951873,0.13188122440619438,-0.02089105899687853,0.469672043267628,0.21917815216716094,0.08610643768835287,-0.05063389240221729,0.3622885708147746,0.3007887663013562,0.5889200070047002,1.0,0.882475414281462,0.2263421384698597,0.21356944558969115,-0.15143416002683724,0.035765285146453774,0.05049379192719834,0.020933531041465454,-0.04308012810223063,0.040521730128251755,-0.039116904112831495,0.6404091972583519],[-0.09867154319256435,0.3449967241064819,0.1804027551511169,0.5620217566126083,-0.15152137057022985,0.4789538198934904,0.3715998094973092,0.37306648160023664,0.2969703853445138,-0.018226591907316552,0.18330269774258412,0.4866654637737961,0.4897816541041918,0.13834695857186657,-0.06760141323952208,0.4689974773229655,0.179189480420231,-0.02453557957887923,0.4056562084540099,0.1635493640166073,0.06525252989881626,-0.06443304718314395,0.33782212063683786,0.2691412380738719,0.5645670607230577,0.882475414281462,1.0,0.2246663071787637,0.2414346721380881,-0.1217767195610043,0.03508670020815975,0.05141176244520852,0.061047271702060014,-0.02739991441262488,0.02797379982354057,-0.027377940418545084,0.6234314389183622],[-0.012579358249219592,0.0885209332894081,0.17169768725711246,0.23892339224918593,-0.0033336992893856225,0.22488014230399744,0.20572592049010355,0.15971813436595433,0.20430614523740265,0.06789832641361218,-0.005316424333062066,0.23201860912901803,0.23545862278369778,0.09216541758603868,-0.025443647988791077,0.24743282051884846,0.17531519007972224,0.04016122325953452,0.18770321383582822,0.10808030267536337,0.04685377306989394,-0.09013027267903444,0.16598388371493233,0.20001879575902368,0.22457699198793213,0.2263421384698597,0.2246663071787637,1.0,0.058660608565887375,-0.1259888880376007,-0.03277063359357436,-0.07418135123983237,0.07337820695645396,-0.009551228238372468,0.021011044294297315,0.022270451009253036,0.32441344456812926],[-0.006100121231942238,0.15197222768060642,0.08477380884021642,0.3088188233594523,-0.03258881352158505,0.188685840001731,0.22629763268298944,0.1257027966825031,0.11176061335675101,0.003092562209894399,0.12900541461542128,0.2472637462881078,0.2116712254979847,0.2080260631813579,0.018251039053999052,0.33022396171200064,0.06734146137698176,-0.02532375788905772,0.25997742546824865,0.19974014751279254,0.09380957160591452,-0.07009060989258609,0.2341915878315988,0.16940532713120185,0.22842457877198022,0.21356944558969115,0.2414346721380881,0.058660608565887375,1.0,-0.09307931750864903,-0.005842499340135753,0.07430394385024312,0.060762111489925795,-0.018583738987649336,0.07125488475868938,-0.057619360142091326,0.31585622711605504],[-0.012036621902094771,0.01070033663888244,-0.018339733672212328,-0.11393685859568162,0.07035618448230374,-0.3872677829280785,-0.1939191470992078,-0.11020383387243517,-0.10230330550073197,0.036543339448210164,-0.002537854589751547,-0.09547773670640776,-0.0652917009103091,0.06198869077325203,0.06108123777122687,0.009113210326003087,-0.049910649083753186,-0.008555333868578032,-0.11509296346134239,-0.09531652573608992,0.04157043451959824,0.03731238503296963,0.004151299023856323,-0.02482186853706847,-0.2970026030557314,-0.15143416002683724,-0.1217767195610043,-0.1259888880376007,-0.09307931750864903,1.0,-0.03730528278804611,-0.08286424483260343,0.05420256229213969,0.018360600139447715,-0.028887265707142493,-0.009915936955524396,-0.1285779579259566],[-0.04382454917560846,0.07002922773085365,0.020422829586133416,0.03037056713526452,0.025503660024132138,0.03135451306436603,0.045285809814976964,0.018795515294914033,0.026450506189898953,-0.029993397993921023,0.02076400569654798,0.03738372726300508,0.05610437448487508,-0.02435764842204794,-0.004295610410300094,0.020643189710186576,-0.00010609153998400853,0.035113630886772336,0.03535301658385297,-0.0049724884173161,-0.02447779636611455,-0.024600358690531954,-0.006683241010939702,0.011257238992774959,0.023543689573665077,0.035765285146453774,0.03508670020815975,-0.03277063359357436,-0.005842499340135753,-0.03730528278804611,1.0,-0.03143584703909575,-0.00799154887286895,0.00035396527793940183,0.02947379524994019,0.01864492540475066,0.04458366533574838],[-0.026030176699806666,0.04138279067500582,0.04316037769525204,0.06488636049351544,0.05481052878611526,-0.05036443453861205,-0.038740010742610125,0.06146554318732188,0.06202062266534991,0.08887125137339073,-0.012579273444256824,0.08448898591431157,0.08875807262015682,0.040606447641001006,0.02679941302177244,0.10151039568208567,0.023147725763573802,0.03212140720908338,-0.00810609332811188,0.0724258451703809,0.044299691127134826,-0.05161336606147979,0.059382599559410935,0.18453026951684842,-0.07541751376190593,0.05049379192719834,0.05141176244520852,-0.07418135123983237,0.07430394385024312,-0.08286424483260343,-0.03143584703909575,1.0,0.05130739451790554,0.03194576077490817,0.023216991793307076,0.01069410600377114,0.11144657114291112],[0.008282707579624416,0.2061667752760768,0.07767239188017444,0.06516584360589199,-0.0019849422681841354,0.004949727615942999,0.005829372037106204,0.01172306121326672,0.1404912862549568,0.041709054681333575,-0.035092240793657914,0.12605313210083768,0.13152497564028254,0.08148687804909954,0.06215737226918922,0.1702053360005616,0.06761555618047507,0.02002462983851695,0.04960382558403366,0.0223814980554099,0.07070258356547471,-0.014525116015980777,0.0837573495149245,0.09507352203619863,-0.01450067856370222,0.020933531041465454,0.061047271702060014,0.07337820695645396,0.060762111489925795,0.05420256229213969,-0.00799154887286895,0.05130739451790554,1.0,0.02966865085402175,-0.033736640262791315,-0.0596889316752469,0.09240354949187318],[-0.007683291329865976,0.003367556596191435,0.03806769201918336,-0.031406210500746504,0.0687768060572499,-0.03438313873672287,-0.010286248783081431,-0.02981539358527878,0.003571473474954695,0.004939781228437705,-0.023836645134507763,-0.018478922431472124,-0.021095719463122223,0.016196874604388505,-0.003792870779996453,-0.0024156395502935623,-0.02304702486861695,-0.007366524543625446,-0.014289844970848111,0.0012901448492839542,0.007766971998717607,0.062340724004379115,0.024762884163584138,0.0014086054430451757,-0.032417457821261826,-0.04308012810223063,-0.02739991441262488,-0.009551228238372468,-0.018583738987649336,0.018360600139447715,0.00035396527793940183,0.03194576077490817,0.02966865085402175,1.0,-0.006494550221282175,0.004906262452651876,-0.021189579640303213],[-0.013584643238322348,0.011199954759134238,0.0012049882225877268,0.07081517178517327,-0.003510838599939743,0.012398470595440986,0.02149000222687611,-0.005964715509114298,-0.015726948262154667,-0.015210737972006668,0.03488844300908206,0.013196178616778433,0.03137156035207926,0.035164427361791005,-0.02217396057953783,0.05023968081827284,-0.025360894315259907,0.03287270523409066,0.055872128991723384,-0.009049888212650292,0.04654385993628238,0.026588907230915452,0.036907077159844405,0.04635710249771968,0.0053370257603695135,0.040521730128251755,0.02797379982354057,0.021011044294297315,0.07125488475868938,-0.028887265707142493,0.02947379524994019,0.023216991793307076,-0.033736640262791315,-0.006494550221282175,1.0,-0.1457214126753949,0.046432245223819446],[-0.02140703785109821,0.007449589209750463,-0.01426140729855021,-0.027346708327825386,0.043949745692488544,-0.01361768000183213,0.03574324712127364,-0.008201030967080006,0.014358922393909302,0.03170563698487945,-0.04125819493876721,-0.014968648018762356,-0.01360377050464661,-0.02869991393529755,-0.028920879782296086,-0.03652581962473121,0.06704913767140361,-0.04652388177400862,-0.019668840691520386,-0.010268668868105917,-0.03601389283370446,0.031687206500669154,-0.03451635430218269,-0.024095564980725313,-0.0010142778712734348,-0.039116904112831495,-0.027377940418545084,0.022270451009253036,-0.057619360142091326,-0.009915936955524396,0.01864492540475066,0.01069410600377114,-0.0596889316752469,0.004906262452651876,-0.1457214126753949,1.0,-0.028922585168736813],[-0.08428413512659509,0.35179909657067737,0.2638433538714051,0.7909816005838053,-0.07785589404867797,0.5228973328794967,0.5071009671113866,0.47749304709571444,0.3864198062421535,-0.011378121450215146,0.21447910554696928,0.6135805515591943,0.6058521846919153,0.31933380283206736,-0.02560613000067955,0.7086244776126515,0.22712223313149427,-0.01684415429735895,0.5606637627484453,0.28410767559478256,0.16821315430073963,-0.13590737084214105,0.5337231555820284,0.46692883675152763,0.4863616774878596,0.6404091972583519,0.6234314389183622,0.32441344456812926,0.31585622711605504,-0.1285779579259566,0.04458366533574838,0.11144657114291112,0.09240354949187318,-0.021189579640303213,0.046432245223819446,-0.028922585168736813,1.0]],\"type\":\"heatmap\",\"xaxis\":\"x\",\"yaxis\":\"y\",\"hovertemplate\":\"x: %{x}<br>y: %{y}<br>color: %{z}<extra></extra>\"}],                        {\"template\":{\"data\":{\"bar\":[{\"error_x\":{\"color\":\"#2a3f5f\"},\"error_y\":{\"color\":\"#2a3f5f\"},\"marker\":{\"line\":{\"color\":\"#E5ECF6\",\"width\":0.5},\"pattern\":{\"fillmode\":\"overlay\",\"size\":10,\"solidity\":0.2}},\"type\":\"bar\"}],\"barpolar\":[{\"marker\":{\"line\":{\"color\":\"#E5ECF6\",\"width\":0.5},\"pattern\":{\"fillmode\":\"overlay\",\"size\":10,\"solidity\":0.2}},\"type\":\"barpolar\"}],\"carpet\":[{\"aaxis\":{\"endlinecolor\":\"#2a3f5f\",\"gridcolor\":\"white\",\"linecolor\":\"white\",\"minorgridcolor\":\"white\",\"startlinecolor\":\"#2a3f5f\"},\"baxis\":{\"endlinecolor\":\"#2a3f5f\",\"gridcolor\":\"white\",\"linecolor\":\"white\",\"minorgridcolor\":\"white\",\"startlinecolor\":\"#2a3f5f\"},\"type\":\"carpet\"}],\"choropleth\":[{\"colorbar\":{\"outlinewidth\":0,\"ticks\":\"\"},\"type\":\"choropleth\"}],\"contour\":[{\"colorbar\":{\"outlinewidth\":0,\"ticks\":\"\"},\"colorscale\":[[0.0,\"#0d0887\"],[0.1111111111111111,\"#46039f\"],[0.2222222222222222,\"#7201a8\"],[0.3333333333333333,\"#9c179e\"],[0.4444444444444444,\"#bd3786\"],[0.5555555555555556,\"#d8576b\"],[0.6666666666666666,\"#ed7953\"],[0.7777777777777778,\"#fb9f3a\"],[0.8888888888888888,\"#fdca26\"],[1.0,\"#f0f921\"]],\"type\":\"contour\"}],\"contourcarpet\":[{\"colorbar\":{\"outlinewidth\":0,\"ticks\":\"\"},\"type\":\"contourcarpet\"}],\"heatmap\":[{\"colorbar\":{\"outlinewidth\":0,\"ticks\":\"\"},\"colorscale\":[[0.0,\"#0d0887\"],[0.1111111111111111,\"#46039f\"],[0.2222222222222222,\"#7201a8\"],[0.3333333333333333,\"#9c179e\"],[0.4444444444444444,\"#bd3786\"],[0.5555555555555556,\"#d8576b\"],[0.6666666666666666,\"#ed7953\"],[0.7777777777777778,\"#fb9f3a\"],[0.8888888888888888,\"#fdca26\"],[1.0,\"#f0f921\"]],\"type\":\"heatmap\"}],\"heatmapgl\":[{\"colorbar\":{\"outlinewidth\":0,\"ticks\":\"\"},\"colorscale\":[[0.0,\"#0d0887\"],[0.1111111111111111,\"#46039f\"],[0.2222222222222222,\"#7201a8\"],[0.3333333333333333,\"#9c179e\"],[0.4444444444444444,\"#bd3786\"],[0.5555555555555556,\"#d8576b\"],[0.6666666666666666,\"#ed7953\"],[0.7777777777777778,\"#fb9f3a\"],[0.8888888888888888,\"#fdca26\"],[1.0,\"#f0f921\"]],\"type\":\"heatmapgl\"}],\"histogram\":[{\"marker\":{\"pattern\":{\"fillmode\":\"overlay\",\"size\":10,\"solidity\":0.2}},\"type\":\"histogram\"}],\"histogram2d\":[{\"colorbar\":{\"outlinewidth\":0,\"ticks\":\"\"},\"colorscale\":[[0.0,\"#0d0887\"],[0.1111111111111111,\"#46039f\"],[0.2222222222222222,\"#7201a8\"],[0.3333333333333333,\"#9c179e\"],[0.4444444444444444,\"#bd3786\"],[0.5555555555555556,\"#d8576b\"],[0.6666666666666666,\"#ed7953\"],[0.7777777777777778,\"#fb9f3a\"],[0.8888888888888888,\"#fdca26\"],[1.0,\"#f0f921\"]],\"type\":\"histogram2d\"}],\"histogram2dcontour\":[{\"colorbar\":{\"outlinewidth\":0,\"ticks\":\"\"},\"colorscale\":[[0.0,\"#0d0887\"],[0.1111111111111111,\"#46039f\"],[0.2222222222222222,\"#7201a8\"],[0.3333333333333333,\"#9c179e\"],[0.4444444444444444,\"#bd3786\"],[0.5555555555555556,\"#d8576b\"],[0.6666666666666666,\"#ed7953\"],[0.7777777777777778,\"#fb9f3a\"],[0.8888888888888888,\"#fdca26\"],[1.0,\"#f0f921\"]],\"type\":\"histogram2dcontour\"}],\"mesh3d\":[{\"colorbar\":{\"outlinewidth\":0,\"ticks\":\"\"},\"type\":\"mesh3d\"}],\"parcoords\":[{\"line\":{\"colorbar\":{\"outlinewidth\":0,\"ticks\":\"\"}},\"type\":\"parcoords\"}],\"pie\":[{\"automargin\":true,\"type\":\"pie\"}],\"scatter\":[{\"marker\":{\"colorbar\":{\"outlinewidth\":0,\"ticks\":\"\"}},\"type\":\"scatter\"}],\"scatter3d\":[{\"line\":{\"colorbar\":{\"outlinewidth\":0,\"ticks\":\"\"}},\"marker\":{\"colorbar\":{\"outlinewidth\":0,\"ticks\":\"\"}},\"type\":\"scatter3d\"}],\"scattercarpet\":[{\"marker\":{\"colorbar\":{\"outlinewidth\":0,\"ticks\":\"\"}},\"type\":\"scattercarpet\"}],\"scattergeo\":[{\"marker\":{\"colorbar\":{\"outlinewidth\":0,\"ticks\":\"\"}},\"type\":\"scattergeo\"}],\"scattergl\":[{\"marker\":{\"colorbar\":{\"outlinewidth\":0,\"ticks\":\"\"}},\"type\":\"scattergl\"}],\"scattermapbox\":[{\"marker\":{\"colorbar\":{\"outlinewidth\":0,\"ticks\":\"\"}},\"type\":\"scattermapbox\"}],\"scatterpolar\":[{\"marker\":{\"colorbar\":{\"outlinewidth\":0,\"ticks\":\"\"}},\"type\":\"scatterpolar\"}],\"scatterpolargl\":[{\"marker\":{\"colorbar\":{\"outlinewidth\":0,\"ticks\":\"\"}},\"type\":\"scatterpolargl\"}],\"scatterternary\":[{\"marker\":{\"colorbar\":{\"outlinewidth\":0,\"ticks\":\"\"}},\"type\":\"scatterternary\"}],\"surface\":[{\"colorbar\":{\"outlinewidth\":0,\"ticks\":\"\"},\"colorscale\":[[0.0,\"#0d0887\"],[0.1111111111111111,\"#46039f\"],[0.2222222222222222,\"#7201a8\"],[0.3333333333333333,\"#9c179e\"],[0.4444444444444444,\"#bd3786\"],[0.5555555555555556,\"#d8576b\"],[0.6666666666666666,\"#ed7953\"],[0.7777777777777778,\"#fb9f3a\"],[0.8888888888888888,\"#fdca26\"],[1.0,\"#f0f921\"]],\"type\":\"surface\"}],\"table\":[{\"cells\":{\"fill\":{\"color\":\"#EBF0F8\"},\"line\":{\"color\":\"white\"}},\"header\":{\"fill\":{\"color\":\"#C8D4E3\"},\"line\":{\"color\":\"white\"}},\"type\":\"table\"}]},\"layout\":{\"annotationdefaults\":{\"arrowcolor\":\"#2a3f5f\",\"arrowhead\":0,\"arrowwidth\":1},\"autotypenumbers\":\"strict\",\"coloraxis\":{\"colorbar\":{\"outlinewidth\":0,\"ticks\":\"\"}},\"colorscale\":{\"diverging\":[[0,\"#8e0152\"],[0.1,\"#c51b7d\"],[0.2,\"#de77ae\"],[0.3,\"#f1b6da\"],[0.4,\"#fde0ef\"],[0.5,\"#f7f7f7\"],[0.6,\"#e6f5d0\"],[0.7,\"#b8e186\"],[0.8,\"#7fbc41\"],[0.9,\"#4d9221\"],[1,\"#276419\"]],\"sequential\":[[0.0,\"#0d0887\"],[0.1111111111111111,\"#46039f\"],[0.2222222222222222,\"#7201a8\"],[0.3333333333333333,\"#9c179e\"],[0.4444444444444444,\"#bd3786\"],[0.5555555555555556,\"#d8576b\"],[0.6666666666666666,\"#ed7953\"],[0.7777777777777778,\"#fb9f3a\"],[0.8888888888888888,\"#fdca26\"],[1.0,\"#f0f921\"]],\"sequentialminus\":[[0.0,\"#0d0887\"],[0.1111111111111111,\"#46039f\"],[0.2222222222222222,\"#7201a8\"],[0.3333333333333333,\"#9c179e\"],[0.4444444444444444,\"#bd3786\"],[0.5555555555555556,\"#d8576b\"],[0.6666666666666666,\"#ed7953\"],[0.7777777777777778,\"#fb9f3a\"],[0.8888888888888888,\"#fdca26\"],[1.0,\"#f0f921\"]]},\"colorway\":[\"#636efa\",\"#EF553B\",\"#00cc96\",\"#ab63fa\",\"#FFA15A\",\"#19d3f3\",\"#FF6692\",\"#B6E880\",\"#FF97FF\",\"#FECB52\"],\"font\":{\"color\":\"#2a3f5f\"},\"geo\":{\"bgcolor\":\"white\",\"lakecolor\":\"white\",\"landcolor\":\"#E5ECF6\",\"showlakes\":true,\"showland\":true,\"subunitcolor\":\"white\"},\"hoverlabel\":{\"align\":\"left\"},\"hovermode\":\"closest\",\"mapbox\":{\"style\":\"light\"},\"paper_bgcolor\":\"white\",\"plot_bgcolor\":\"#E5ECF6\",\"polar\":{\"angularaxis\":{\"gridcolor\":\"white\",\"linecolor\":\"white\",\"ticks\":\"\"},\"bgcolor\":\"#E5ECF6\",\"radialaxis\":{\"gridcolor\":\"white\",\"linecolor\":\"white\",\"ticks\":\"\"}},\"scene\":{\"xaxis\":{\"backgroundcolor\":\"#E5ECF6\",\"gridcolor\":\"white\",\"gridwidth\":2,\"linecolor\":\"white\",\"showbackground\":true,\"ticks\":\"\",\"zerolinecolor\":\"white\"},\"yaxis\":{\"backgroundcolor\":\"#E5ECF6\",\"gridcolor\":\"white\",\"gridwidth\":2,\"linecolor\":\"white\",\"showbackground\":true,\"ticks\":\"\",\"zerolinecolor\":\"white\"},\"zaxis\":{\"backgroundcolor\":\"#E5ECF6\",\"gridcolor\":\"white\",\"gridwidth\":2,\"linecolor\":\"white\",\"showbackground\":true,\"ticks\":\"\",\"zerolinecolor\":\"white\"}},\"shapedefaults\":{\"line\":{\"color\":\"#2a3f5f\"}},\"ternary\":{\"aaxis\":{\"gridcolor\":\"white\",\"linecolor\":\"white\",\"ticks\":\"\"},\"baxis\":{\"gridcolor\":\"white\",\"linecolor\":\"white\",\"ticks\":\"\"},\"bgcolor\":\"#E5ECF6\",\"caxis\":{\"gridcolor\":\"white\",\"linecolor\":\"white\",\"ticks\":\"\"}},\"title\":{\"x\":0.05},\"xaxis\":{\"automargin\":true,\"gridcolor\":\"white\",\"linecolor\":\"white\",\"ticks\":\"\",\"title\":{\"standoff\":15},\"zerolinecolor\":\"white\",\"zerolinewidth\":2},\"yaxis\":{\"automargin\":true,\"gridcolor\":\"white\",\"linecolor\":\"white\",\"ticks\":\"\",\"title\":{\"standoff\":15},\"zerolinecolor\":\"white\",\"zerolinewidth\":2}}},\"xaxis\":{\"anchor\":\"y\",\"domain\":[0.0,1.0],\"scaleanchor\":\"y\",\"constrain\":\"domain\"},\"yaxis\":{\"anchor\":\"x\",\"domain\":[0.0,1.0],\"autorange\":\"reversed\",\"constrain\":\"domain\"},\"coloraxis\":{\"colorscale\":[[0.0,\"#440154\"],[0.1111111111111111,\"#482878\"],[0.2222222222222222,\"#3e4989\"],[0.3333333333333333,\"#31688e\"],[0.4444444444444444,\"#26828e\"],[0.5555555555555556,\"#1f9e89\"],[0.6666666666666666,\"#35b779\"],[0.7777777777777778,\"#6ece58\"],[0.8888888888888888,\"#b5de2b\"],[1.0,\"#fde725\"]]},\"margin\":{\"t\":60},\"height\":1000,\"width\":1000},                        {\"responsive\": true}                    ).then(function(){\n",
       "                            \n",
       "var gd = document.getElementById('de1f3738-febb-443c-96e0-240ffdae3551');\n",
       "var x = new MutationObserver(function (mutations, observer) {{\n",
       "        var display = window.getComputedStyle(gd).display;\n",
       "        if (!display || display === 'none') {{\n",
       "            console.log([gd, 'removed!']);\n",
       "            Plotly.purge(gd);\n",
       "            observer.disconnect();\n",
       "        }}\n",
       "}});\n",
       "\n",
       "// Listen for the removal of the full notebook cells\n",
       "var notebookContainer = gd.closest('#notebook-container');\n",
       "if (notebookContainer) {{\n",
       "    x.observe(notebookContainer, {childList: true});\n",
       "}}\n",
       "\n",
       "// Listen for the clearing of the current output cell\n",
       "var outputEl = gd.closest('.output');\n",
       "if (outputEl) {{\n",
       "    x.observe(outputEl, {childList: true});\n",
       "}}\n",
       "\n",
       "                        })                };                });            </script>        </div>"
      ]
     },
     "metadata": {},
     "output_type": "display_data"
    }
   ],
   "source": [
    "Correlation_Matrix = train_data.select_dtypes(np.number).corr()\n",
    "fig = px.imshow(Correlation_Matrix, text_auto=True  , color_continuous_scale=px.colors.sequential.Viridis)\n",
    "fig.layout.height = 1000\n",
    "fig.layout.width = 1000\n",
    "fig.show()"
   ]
  },
  {
   "cell_type": "markdown",
   "id": "7e7c8f63",
   "metadata": {
    "papermill": {
     "duration": 0.046078,
     "end_time": "2022-04-12T17:09:42.346468",
     "exception": false,
     "start_time": "2022-04-12T17:09:42.300390",
     "status": "completed"
    },
    "tags": []
   },
   "source": [
    "# <a name = \"3\"> 3- Feature Selection <a>"
   ]
  },
  {
   "cell_type": "markdown",
   "id": "b7935983",
   "metadata": {
    "papermill": {
     "duration": 0.044102,
     "end_time": "2022-04-12T17:09:42.435101",
     "exception": false,
     "start_time": "2022-04-12T17:09:42.390999",
     "status": "completed"
    },
    "tags": []
   },
   "source": [
    "## Decide Which features Important depend on the exploration above."
   ]
  },
  {
   "cell_type": "code",
   "execution_count": 9,
   "id": "584f0e8d",
   "metadata": {
    "execution": {
     "iopub.execute_input": "2022-04-12T17:09:42.532420Z",
     "iopub.status.busy": "2022-04-12T17:09:42.531194Z",
     "iopub.status.idle": "2022-04-12T17:09:42.533339Z",
     "shell.execute_reply": "2022-04-12T17:09:42.533816Z",
     "shell.execute_reply.started": "2022-04-12T15:15:26.754679Z"
    },
    "papermill": {
     "duration": 0.054199,
     "end_time": "2022-04-12T17:09:42.534003",
     "exception": false,
     "start_time": "2022-04-12T17:09:42.479804",
     "status": "completed"
    },
    "tags": []
   },
   "outputs": [],
   "source": [
    "categorical_feature = [\"Utilities\" ,\"Neighborhood\",  \"Condition1\" , \"Condition2\",\"BldgType\" ,\n",
    "               \"HouseStyle\"  , \"Exterior1st\",\n",
    "               \"Exterior2nd\", \"SaleType\",\"SaleCondition\"]\n",
    "\n",
    "ordinal_feature = [\"BsmtQual\" ,\"Foundation\" ,\"BsmtExposure\"  ,\"BsmtFinType1\" ,\"BsmtFinType2\", \"HeatingQC\" ,\n",
    "                  \"CentralAir\" ,\"Electrical\" ,\"KitchenQual\"]\n",
    "\n",
    "\n",
    "numerical_feature = [\"LotFrontage\" , \"LotArea\" ,\"BsmtFinSF1\" ,\"1stFlrSF\" , \"2ndFlrSF\" , \"FullBath\",\n",
    "                     \"TotRmsAbvGrd\"  ,\"3SsnPorch\",\"ScreenPorch\", \"PoolArea\", \"OverallQual\",\"OverallCond\" ,\"YearRemodAdd\"\n",
    "                    ,\"BsmtFinSF2\",\"TotalBsmtSF\" ,\"GarageCars\"]\n",
    "\n",
    "training_features = categorical_feature+ordinal_feature+numerical_feature+[\"SalePrice\"]\n",
    "test_features = categorical_feature+ordinal_feature+numerical_feature"
   ]
  },
  {
   "cell_type": "markdown",
   "id": "2bc41518",
   "metadata": {
    "papermill": {
     "duration": 0.042971,
     "end_time": "2022-04-12T17:09:42.620304",
     "exception": false,
     "start_time": "2022-04-12T17:09:42.577333",
     "status": "completed"
    },
    "tags": []
   },
   "source": [
    "# <a name = \"4\"> 4- Cleaning Training Data <a> "
   ]
  },
  {
   "cell_type": "code",
   "execution_count": 10,
   "id": "5b253f54",
   "metadata": {
    "execution": {
     "iopub.execute_input": "2022-04-12T17:09:42.710191Z",
     "iopub.status.busy": "2022-04-12T17:09:42.709210Z",
     "iopub.status.idle": "2022-04-12T17:09:42.726400Z",
     "shell.execute_reply": "2022-04-12T17:09:42.726920Z",
     "shell.execute_reply.started": "2022-04-12T15:15:26.764733Z"
    },
    "papermill": {
     "duration": 0.063681,
     "end_time": "2022-04-12T17:09:42.727112",
     "exception": false,
     "start_time": "2022-04-12T17:09:42.663431",
     "status": "completed"
    },
    "tags": []
   },
   "outputs": [
    {
     "name": "stdout",
     "output_type": "stream",
     "text": [
      "<class 'pandas.core.frame.DataFrame'>\n",
      "Int64Index: 1460 entries, 1 to 1460\n",
      "Data columns (total 36 columns):\n",
      " #   Column         Non-Null Count  Dtype  \n",
      "---  ------         --------------  -----  \n",
      " 0   Utilities      1460 non-null   object \n",
      " 1   Neighborhood   1460 non-null   object \n",
      " 2   Condition1     1460 non-null   object \n",
      " 3   Condition2     1460 non-null   object \n",
      " 4   BldgType       1460 non-null   object \n",
      " 5   HouseStyle     1460 non-null   object \n",
      " 6   Exterior1st    1460 non-null   object \n",
      " 7   Exterior2nd    1460 non-null   object \n",
      " 8   SaleType       1460 non-null   object \n",
      " 9   SaleCondition  1460 non-null   object \n",
      " 10  BsmtQual       1423 non-null   object \n",
      " 11  Foundation     1460 non-null   object \n",
      " 12  BsmtExposure   1422 non-null   object \n",
      " 13  BsmtFinType1   1423 non-null   object \n",
      " 14  BsmtFinType2   1422 non-null   object \n",
      " 15  HeatingQC      1460 non-null   object \n",
      " 16  CentralAir     1460 non-null   object \n",
      " 17  Electrical     1459 non-null   object \n",
      " 18  KitchenQual    1460 non-null   object \n",
      " 19  LotFrontage    1201 non-null   float64\n",
      " 20  LotArea        1460 non-null   int64  \n",
      " 21  BsmtFinSF1     1460 non-null   int64  \n",
      " 22  1stFlrSF       1460 non-null   int64  \n",
      " 23  2ndFlrSF       1460 non-null   int64  \n",
      " 24  FullBath       1460 non-null   int64  \n",
      " 25  TotRmsAbvGrd   1460 non-null   int64  \n",
      " 26  3SsnPorch      1460 non-null   int64  \n",
      " 27  ScreenPorch    1460 non-null   int64  \n",
      " 28  PoolArea       1460 non-null   int64  \n",
      " 29  OverallQual    1460 non-null   int64  \n",
      " 30  OverallCond    1460 non-null   int64  \n",
      " 31  YearRemodAdd   1460 non-null   int64  \n",
      " 32  BsmtFinSF2     1460 non-null   int64  \n",
      " 33  TotalBsmtSF    1460 non-null   int64  \n",
      " 34  GarageCars     1460 non-null   int64  \n",
      " 35  SalePrice      1460 non-null   int64  \n",
      "dtypes: float64(1), int64(16), object(19)\n",
      "memory usage: 422.0+ KB\n"
     ]
    }
   ],
   "source": [
    "train_data = train_data[training_features].copy()\n",
    "train_data.info()"
   ]
  },
  {
   "cell_type": "markdown",
   "id": "00e454fc",
   "metadata": {
    "papermill": {
     "duration": 0.044532,
     "end_time": "2022-04-12T17:09:42.815184",
     "exception": false,
     "start_time": "2022-04-12T17:09:42.770652",
     "status": "completed"
    },
    "tags": []
   },
   "source": [
    "## Fill missing values with mean if numeric and mode if catigorical"
   ]
  },
  {
   "cell_type": "code",
   "execution_count": 11,
   "id": "94176e18",
   "metadata": {
    "execution": {
     "iopub.execute_input": "2022-04-12T17:09:42.906620Z",
     "iopub.status.busy": "2022-04-12T17:09:42.905586Z",
     "iopub.status.idle": "2022-04-12T17:09:42.928884Z",
     "shell.execute_reply": "2022-04-12T17:09:42.928293Z",
     "shell.execute_reply.started": "2022-04-12T15:15:26.798456Z"
    },
    "papermill": {
     "duration": 0.070169,
     "end_time": "2022-04-12T17:09:42.929032",
     "exception": false,
     "start_time": "2022-04-12T17:09:42.858863",
     "status": "completed"
    },
    "tags": []
   },
   "outputs": [
    {
     "name": "stdout",
     "output_type": "stream",
     "text": [
      "<class 'pandas.core.frame.DataFrame'>\n",
      "Int64Index: 1459 entries, 1 to 1460\n",
      "Data columns (total 36 columns):\n",
      " #   Column         Non-Null Count  Dtype  \n",
      "---  ------         --------------  -----  \n",
      " 0   Utilities      1459 non-null   object \n",
      " 1   Neighborhood   1459 non-null   object \n",
      " 2   Condition1     1459 non-null   object \n",
      " 3   Condition2     1459 non-null   object \n",
      " 4   BldgType       1459 non-null   object \n",
      " 5   HouseStyle     1459 non-null   object \n",
      " 6   Exterior1st    1459 non-null   object \n",
      " 7   Exterior2nd    1459 non-null   object \n",
      " 8   SaleType       1459 non-null   object \n",
      " 9   SaleCondition  1459 non-null   object \n",
      " 10  BsmtQual       1459 non-null   object \n",
      " 11  Foundation     1459 non-null   object \n",
      " 12  BsmtExposure   1459 non-null   object \n",
      " 13  BsmtFinType1   1459 non-null   object \n",
      " 14  BsmtFinType2   1459 non-null   object \n",
      " 15  HeatingQC      1459 non-null   object \n",
      " 16  CentralAir     1459 non-null   object \n",
      " 17  Electrical     1459 non-null   object \n",
      " 18  KitchenQual    1459 non-null   object \n",
      " 19  LotFrontage    1459 non-null   float64\n",
      " 20  LotArea        1459 non-null   int64  \n",
      " 21  BsmtFinSF1     1459 non-null   int64  \n",
      " 22  1stFlrSF       1459 non-null   int64  \n",
      " 23  2ndFlrSF       1459 non-null   int64  \n",
      " 24  FullBath       1459 non-null   int64  \n",
      " 25  TotRmsAbvGrd   1459 non-null   int64  \n",
      " 26  3SsnPorch      1459 non-null   int64  \n",
      " 27  ScreenPorch    1459 non-null   int64  \n",
      " 28  PoolArea       1459 non-null   int64  \n",
      " 29  OverallQual    1459 non-null   int64  \n",
      " 30  OverallCond    1459 non-null   int64  \n",
      " 31  YearRemodAdd   1459 non-null   int64  \n",
      " 32  BsmtFinSF2     1459 non-null   int64  \n",
      " 33  TotalBsmtSF    1459 non-null   int64  \n",
      " 34  GarageCars     1459 non-null   int64  \n",
      " 35  SalePrice      1459 non-null   int64  \n",
      "dtypes: float64(1), int64(16), object(19)\n",
      "memory usage: 421.7+ KB\n"
     ]
    }
   ],
   "source": [
    "train_filling_null = { \"BsmtQual\" : train_data[\"BsmtQual\"].mode().iloc[0]  ,\n",
    "                \"BsmtExposure\" : train_data[\"BsmtExposure\"].mode().iloc[0],\n",
    "                \"BsmtFinType1\" : train_data[\"BsmtFinType1\"].mode().iloc[0],\n",
    "                \"BsmtFinType2\" : train_data[\"BsmtFinType2\"].mode().iloc[0],    \n",
    "               \"LotFrontage\" : train_data[\"LotFrontage\"].mean()   }\n",
    "\n",
    "train_data = (train_data.fillna(value = train_filling_null)).copy()\n",
    "train_data = train_data.dropna(axis = 0)\n",
    "train_data.head()\n",
    "train_data.info()"
   ]
  },
  {
   "cell_type": "markdown",
   "id": "9b0066e6",
   "metadata": {
    "papermill": {
     "duration": 0.044007,
     "end_time": "2022-04-12T17:09:43.020346",
     "exception": false,
     "start_time": "2022-04-12T17:09:42.976339",
     "status": "completed"
    },
    "tags": []
   },
   "source": [
    "# <a name = \"5\"> 4- Cleaning Test Data <a> "
   ]
  },
  {
   "cell_type": "code",
   "execution_count": 12,
   "id": "daf99572",
   "metadata": {
    "execution": {
     "iopub.execute_input": "2022-04-12T17:09:43.116707Z",
     "iopub.status.busy": "2022-04-12T17:09:43.115810Z",
     "iopub.status.idle": "2022-04-12T17:09:43.130928Z",
     "shell.execute_reply": "2022-04-12T17:09:43.131702Z",
     "shell.execute_reply.started": "2022-04-12T15:15:26.833578Z"
    },
    "papermill": {
     "duration": 0.067307,
     "end_time": "2022-04-12T17:09:43.131982",
     "exception": false,
     "start_time": "2022-04-12T17:09:43.064675",
     "status": "completed"
    },
    "tags": []
   },
   "outputs": [
    {
     "name": "stdout",
     "output_type": "stream",
     "text": [
      "<class 'pandas.core.frame.DataFrame'>\n",
      "RangeIndex: 1459 entries, 0 to 1458\n",
      "Data columns (total 35 columns):\n",
      " #   Column         Non-Null Count  Dtype  \n",
      "---  ------         --------------  -----  \n",
      " 0   Utilities      1457 non-null   object \n",
      " 1   Neighborhood   1459 non-null   object \n",
      " 2   Condition1     1459 non-null   object \n",
      " 3   Condition2     1459 non-null   object \n",
      " 4   BldgType       1459 non-null   object \n",
      " 5   HouseStyle     1459 non-null   object \n",
      " 6   Exterior1st    1458 non-null   object \n",
      " 7   Exterior2nd    1458 non-null   object \n",
      " 8   SaleType       1458 non-null   object \n",
      " 9   SaleCondition  1459 non-null   object \n",
      " 10  BsmtQual       1415 non-null   object \n",
      " 11  Foundation     1459 non-null   object \n",
      " 12  BsmtExposure   1415 non-null   object \n",
      " 13  BsmtFinType1   1417 non-null   object \n",
      " 14  BsmtFinType2   1417 non-null   object \n",
      " 15  HeatingQC      1459 non-null   object \n",
      " 16  CentralAir     1459 non-null   object \n",
      " 17  Electrical     1459 non-null   object \n",
      " 18  KitchenQual    1458 non-null   object \n",
      " 19  LotFrontage    1232 non-null   float64\n",
      " 20  LotArea        1459 non-null   int64  \n",
      " 21  BsmtFinSF1     1458 non-null   float64\n",
      " 22  1stFlrSF       1459 non-null   int64  \n",
      " 23  2ndFlrSF       1459 non-null   int64  \n",
      " 24  FullBath       1459 non-null   int64  \n",
      " 25  TotRmsAbvGrd   1459 non-null   int64  \n",
      " 26  3SsnPorch      1459 non-null   int64  \n",
      " 27  ScreenPorch    1459 non-null   int64  \n",
      " 28  PoolArea       1459 non-null   int64  \n",
      " 29  OverallQual    1459 non-null   int64  \n",
      " 30  OverallCond    1459 non-null   int64  \n",
      " 31  YearRemodAdd   1459 non-null   int64  \n",
      " 32  BsmtFinSF2     1458 non-null   float64\n",
      " 33  TotalBsmtSF    1458 non-null   float64\n",
      " 34  GarageCars     1458 non-null   float64\n",
      "dtypes: float64(5), int64(11), object(19)\n",
      "memory usage: 399.1+ KB\n"
     ]
    }
   ],
   "source": [
    "test_data = test_data[test_features]\n",
    "test_data.info()"
   ]
  },
  {
   "cell_type": "code",
   "execution_count": 13,
   "id": "cea418db",
   "metadata": {
    "execution": {
     "iopub.execute_input": "2022-04-12T17:09:43.237521Z",
     "iopub.status.busy": "2022-04-12T17:09:43.234629Z",
     "iopub.status.idle": "2022-04-12T17:09:43.253993Z",
     "shell.execute_reply": "2022-04-12T17:09:43.254467Z",
     "shell.execute_reply.started": "2022-04-12T15:15:26.860875Z"
    },
    "papermill": {
     "duration": 0.076737,
     "end_time": "2022-04-12T17:09:43.254651",
     "exception": false,
     "start_time": "2022-04-12T17:09:43.177914",
     "status": "completed"
    },
    "tags": []
   },
   "outputs": [
    {
     "name": "stdout",
     "output_type": "stream",
     "text": [
      "<class 'pandas.core.frame.DataFrame'>\n",
      "RangeIndex: 1459 entries, 0 to 1458\n",
      "Data columns (total 35 columns):\n",
      " #   Column         Non-Null Count  Dtype  \n",
      "---  ------         --------------  -----  \n",
      " 0   Utilities      1459 non-null   object \n",
      " 1   Neighborhood   1459 non-null   object \n",
      " 2   Condition1     1459 non-null   object \n",
      " 3   Condition2     1459 non-null   object \n",
      " 4   BldgType       1459 non-null   object \n",
      " 5   HouseStyle     1459 non-null   object \n",
      " 6   Exterior1st    1459 non-null   object \n",
      " 7   Exterior2nd    1459 non-null   object \n",
      " 8   SaleType       1459 non-null   object \n",
      " 9   SaleCondition  1459 non-null   object \n",
      " 10  BsmtQual       1459 non-null   object \n",
      " 11  Foundation     1459 non-null   object \n",
      " 12  BsmtExposure   1459 non-null   object \n",
      " 13  BsmtFinType1   1459 non-null   object \n",
      " 14  BsmtFinType2   1459 non-null   object \n",
      " 15  HeatingQC      1459 non-null   object \n",
      " 16  CentralAir     1459 non-null   object \n",
      " 17  Electrical     1459 non-null   object \n",
      " 18  KitchenQual    1459 non-null   object \n",
      " 19  LotFrontage    1459 non-null   float64\n",
      " 20  LotArea        1459 non-null   int64  \n",
      " 21  BsmtFinSF1     1459 non-null   float64\n",
      " 22  1stFlrSF       1459 non-null   int64  \n",
      " 23  2ndFlrSF       1459 non-null   int64  \n",
      " 24  FullBath       1459 non-null   int64  \n",
      " 25  TotRmsAbvGrd   1459 non-null   int64  \n",
      " 26  3SsnPorch      1459 non-null   int64  \n",
      " 27  ScreenPorch    1459 non-null   int64  \n",
      " 28  PoolArea       1459 non-null   int64  \n",
      " 29  OverallQual    1459 non-null   int64  \n",
      " 30  OverallCond    1459 non-null   int64  \n",
      " 31  YearRemodAdd   1459 non-null   int64  \n",
      " 32  BsmtFinSF2     1459 non-null   float64\n",
      " 33  TotalBsmtSF    1459 non-null   float64\n",
      " 34  GarageCars     1459 non-null   float64\n",
      "dtypes: float64(5), int64(11), object(19)\n",
      "memory usage: 399.1+ KB\n"
     ]
    }
   ],
   "source": [
    "test_filling_null = { \"BsmtQual\" : test_data[\"BsmtQual\"].mode().iloc[0]  ,\n",
    "                     \"BsmtExposure\" : test_data[\"BsmtExposure\"].mode().iloc[0],\n",
    "                     \"BsmtFinType1\" : test_data[\"BsmtFinType1\"].mode().iloc[0],\n",
    "                     \"BsmtFinType2\" : test_data[\"BsmtFinType2\"].mode().iloc[0],    \n",
    "                     \"LotFrontage\" : test_data[\"LotFrontage\"].mean(),\n",
    "                     \"Utilities\" : test_data[\"Utilities\"].mode().iloc[0],\n",
    "                     \"Exterior1st\" : test_data[\"Exterior1st\"].mode().iloc[0],\n",
    "                     \"SaleType\" : test_data[\"SaleType\"].mode().iloc[0],\n",
    "                     \"Exterior2nd\" : test_data[\"Exterior2nd\"].mode().iloc[0],\n",
    "                     \"KitchenQual\" : test_data[\"KitchenQual\"].mode().iloc[0],\n",
    "                     \"BsmtFinSF1\" : test_data[\"BsmtFinSF1\"].mean(),\n",
    "                     \"BsmtFinSF2\" : test_data[\"BsmtFinSF2\"].mean(),\n",
    "                     \"TotalBsmtSF\" : test_data[\"TotalBsmtSF\"].mean(),\n",
    "                     \"GarageCars\" : test_data[\"GarageCars\"].mean(),\n",
    "                     \n",
    "                     \n",
    "                    }\n",
    "\n",
    "test_data = test_data.fillna(value = test_filling_null)\n",
    "# test_data = test_data.dropna(axis = 0)\n",
    "test_data.head()\n",
    "test_data.info()"
   ]
  },
  {
   "cell_type": "markdown",
   "id": "b5542e5c",
   "metadata": {
    "papermill": {
     "duration": 0.04726,
     "end_time": "2022-04-12T17:09:43.347161",
     "exception": false,
     "start_time": "2022-04-12T17:09:43.299901",
     "status": "completed"
    },
    "tags": []
   },
   "source": [
    "# <a name = \"6\"> 6- Ecode Training and Test Data <a>  "
   ]
  },
  {
   "cell_type": "markdown",
   "id": "dada99f8",
   "metadata": {
    "papermill": {
     "duration": 0.046781,
     "end_time": "2022-04-12T17:09:43.440074",
     "exception": false,
     "start_time": "2022-04-12T17:09:43.393293",
     "status": "completed"
    },
    "tags": []
   },
   "source": [
    "# One Hot Encoding with Training Data "
   ]
  },
  {
   "cell_type": "code",
   "execution_count": 14,
   "id": "7d32357c",
   "metadata": {
    "execution": {
     "iopub.execute_input": "2022-04-12T17:09:43.536185Z",
     "iopub.status.busy": "2022-04-12T17:09:43.535147Z",
     "iopub.status.idle": "2022-04-12T17:09:43.663093Z",
     "shell.execute_reply": "2022-04-12T17:09:43.662569Z",
     "shell.execute_reply.started": "2022-04-12T15:15:26.899001Z"
    },
    "papermill": {
     "duration": 0.176572,
     "end_time": "2022-04-12T17:09:43.663246",
     "exception": false,
     "start_time": "2022-04-12T17:09:43.486674",
     "status": "completed"
    },
    "tags": []
   },
   "outputs": [
    {
     "data": {
      "text/html": [
       "<div>\n",
       "<style scoped>\n",
       "    .dataframe tbody tr th:only-of-type {\n",
       "        vertical-align: middle;\n",
       "    }\n",
       "\n",
       "    .dataframe tbody tr th {\n",
       "        vertical-align: top;\n",
       "    }\n",
       "\n",
       "    .dataframe thead th {\n",
       "        text-align: right;\n",
       "    }\n",
       "</style>\n",
       "<table border=\"1\" class=\"dataframe\">\n",
       "  <thead>\n",
       "    <tr style=\"text-align: right;\">\n",
       "      <th></th>\n",
       "      <th>BsmtQual</th>\n",
       "      <th>Foundation</th>\n",
       "      <th>BsmtExposure</th>\n",
       "      <th>BsmtFinType1</th>\n",
       "      <th>BsmtFinType2</th>\n",
       "      <th>HeatingQC</th>\n",
       "      <th>CentralAir</th>\n",
       "      <th>Electrical</th>\n",
       "      <th>KitchenQual</th>\n",
       "      <th>LotFrontage</th>\n",
       "      <th>...</th>\n",
       "      <th>SaleType_ConLw</th>\n",
       "      <th>SaleType_New</th>\n",
       "      <th>SaleType_Oth</th>\n",
       "      <th>SaleType_WD</th>\n",
       "      <th>SaleCondition_Abnorml</th>\n",
       "      <th>SaleCondition_AdjLand</th>\n",
       "      <th>SaleCondition_Alloca</th>\n",
       "      <th>SaleCondition_Family</th>\n",
       "      <th>SaleCondition_Normal</th>\n",
       "      <th>SaleCondition_Partial</th>\n",
       "    </tr>\n",
       "    <tr>\n",
       "      <th>Id</th>\n",
       "      <th></th>\n",
       "      <th></th>\n",
       "      <th></th>\n",
       "      <th></th>\n",
       "      <th></th>\n",
       "      <th></th>\n",
       "      <th></th>\n",
       "      <th></th>\n",
       "      <th></th>\n",
       "      <th></th>\n",
       "      <th></th>\n",
       "      <th></th>\n",
       "      <th></th>\n",
       "      <th></th>\n",
       "      <th></th>\n",
       "      <th></th>\n",
       "      <th></th>\n",
       "      <th></th>\n",
       "      <th></th>\n",
       "      <th></th>\n",
       "      <th></th>\n",
       "    </tr>\n",
       "  </thead>\n",
       "  <tbody>\n",
       "    <tr>\n",
       "      <th>1</th>\n",
       "      <td>Gd</td>\n",
       "      <td>PConc</td>\n",
       "      <td>No</td>\n",
       "      <td>GLQ</td>\n",
       "      <td>Unf</td>\n",
       "      <td>Ex</td>\n",
       "      <td>Y</td>\n",
       "      <td>SBrkr</td>\n",
       "      <td>Gd</td>\n",
       "      <td>65.0</td>\n",
       "      <td>...</td>\n",
       "      <td>0.0</td>\n",
       "      <td>0.0</td>\n",
       "      <td>0.0</td>\n",
       "      <td>1.0</td>\n",
       "      <td>0.0</td>\n",
       "      <td>0.0</td>\n",
       "      <td>0.0</td>\n",
       "      <td>0.0</td>\n",
       "      <td>1.0</td>\n",
       "      <td>0.0</td>\n",
       "    </tr>\n",
       "    <tr>\n",
       "      <th>2</th>\n",
       "      <td>Gd</td>\n",
       "      <td>CBlock</td>\n",
       "      <td>Gd</td>\n",
       "      <td>ALQ</td>\n",
       "      <td>Unf</td>\n",
       "      <td>Ex</td>\n",
       "      <td>Y</td>\n",
       "      <td>SBrkr</td>\n",
       "      <td>TA</td>\n",
       "      <td>80.0</td>\n",
       "      <td>...</td>\n",
       "      <td>0.0</td>\n",
       "      <td>0.0</td>\n",
       "      <td>0.0</td>\n",
       "      <td>1.0</td>\n",
       "      <td>0.0</td>\n",
       "      <td>0.0</td>\n",
       "      <td>0.0</td>\n",
       "      <td>0.0</td>\n",
       "      <td>1.0</td>\n",
       "      <td>0.0</td>\n",
       "    </tr>\n",
       "    <tr>\n",
       "      <th>3</th>\n",
       "      <td>Gd</td>\n",
       "      <td>PConc</td>\n",
       "      <td>Mn</td>\n",
       "      <td>GLQ</td>\n",
       "      <td>Unf</td>\n",
       "      <td>Ex</td>\n",
       "      <td>Y</td>\n",
       "      <td>SBrkr</td>\n",
       "      <td>Gd</td>\n",
       "      <td>68.0</td>\n",
       "      <td>...</td>\n",
       "      <td>0.0</td>\n",
       "      <td>0.0</td>\n",
       "      <td>0.0</td>\n",
       "      <td>1.0</td>\n",
       "      <td>1.0</td>\n",
       "      <td>0.0</td>\n",
       "      <td>0.0</td>\n",
       "      <td>0.0</td>\n",
       "      <td>0.0</td>\n",
       "      <td>0.0</td>\n",
       "    </tr>\n",
       "    <tr>\n",
       "      <th>4</th>\n",
       "      <td>TA</td>\n",
       "      <td>BrkTil</td>\n",
       "      <td>No</td>\n",
       "      <td>ALQ</td>\n",
       "      <td>Unf</td>\n",
       "      <td>Gd</td>\n",
       "      <td>Y</td>\n",
       "      <td>SBrkr</td>\n",
       "      <td>Gd</td>\n",
       "      <td>60.0</td>\n",
       "      <td>...</td>\n",
       "      <td>0.0</td>\n",
       "      <td>0.0</td>\n",
       "      <td>0.0</td>\n",
       "      <td>1.0</td>\n",
       "      <td>0.0</td>\n",
       "      <td>0.0</td>\n",
       "      <td>0.0</td>\n",
       "      <td>0.0</td>\n",
       "      <td>1.0</td>\n",
       "      <td>0.0</td>\n",
       "    </tr>\n",
       "    <tr>\n",
       "      <th>5</th>\n",
       "      <td>Gd</td>\n",
       "      <td>PConc</td>\n",
       "      <td>Av</td>\n",
       "      <td>GLQ</td>\n",
       "      <td>Unf</td>\n",
       "      <td>Ex</td>\n",
       "      <td>Y</td>\n",
       "      <td>SBrkr</td>\n",
       "      <td>Gd</td>\n",
       "      <td>84.0</td>\n",
       "      <td>...</td>\n",
       "      <td>0.0</td>\n",
       "      <td>0.0</td>\n",
       "      <td>0.0</td>\n",
       "      <td>1.0</td>\n",
       "      <td>0.0</td>\n",
       "      <td>0.0</td>\n",
       "      <td>0.0</td>\n",
       "      <td>0.0</td>\n",
       "      <td>1.0</td>\n",
       "      <td>0.0</td>\n",
       "    </tr>\n",
       "  </tbody>\n",
       "</table>\n",
       "<p>5 rows × 129 columns</p>\n",
       "</div>"
      ],
      "text/plain": [
       "   BsmtQual Foundation BsmtExposure BsmtFinType1 BsmtFinType2 HeatingQC  \\\n",
       "Id                                                                        \n",
       "1        Gd      PConc           No          GLQ          Unf        Ex   \n",
       "2        Gd     CBlock           Gd          ALQ          Unf        Ex   \n",
       "3        Gd      PConc           Mn          GLQ          Unf        Ex   \n",
       "4        TA     BrkTil           No          ALQ          Unf        Gd   \n",
       "5        Gd      PConc           Av          GLQ          Unf        Ex   \n",
       "\n",
       "   CentralAir Electrical KitchenQual  LotFrontage  ...  SaleType_ConLw  \\\n",
       "Id                                                 ...                   \n",
       "1           Y      SBrkr          Gd         65.0  ...             0.0   \n",
       "2           Y      SBrkr          TA         80.0  ...             0.0   \n",
       "3           Y      SBrkr          Gd         68.0  ...             0.0   \n",
       "4           Y      SBrkr          Gd         60.0  ...             0.0   \n",
       "5           Y      SBrkr          Gd         84.0  ...             0.0   \n",
       "\n",
       "    SaleType_New  SaleType_Oth  SaleType_WD  SaleCondition_Abnorml  \\\n",
       "Id                                                                   \n",
       "1            0.0           0.0          1.0                    0.0   \n",
       "2            0.0           0.0          1.0                    0.0   \n",
       "3            0.0           0.0          1.0                    1.0   \n",
       "4            0.0           0.0          1.0                    0.0   \n",
       "5            0.0           0.0          1.0                    0.0   \n",
       "\n",
       "    SaleCondition_AdjLand  SaleCondition_Alloca  SaleCondition_Family  \\\n",
       "Id                                                                      \n",
       "1                     0.0                   0.0                   0.0   \n",
       "2                     0.0                   0.0                   0.0   \n",
       "3                     0.0                   0.0                   0.0   \n",
       "4                     0.0                   0.0                   0.0   \n",
       "5                     0.0                   0.0                   0.0   \n",
       "\n",
       "    SaleCondition_Normal  SaleCondition_Partial  \n",
       "Id                                               \n",
       "1                    1.0                    0.0  \n",
       "2                    1.0                    0.0  \n",
       "3                    0.0                    0.0  \n",
       "4                    1.0                    0.0  \n",
       "5                    1.0                    0.0  \n",
       "\n",
       "[5 rows x 129 columns]"
      ]
     },
     "execution_count": 14,
     "metadata": {},
     "output_type": "execute_result"
    }
   ],
   "source": [
    "Onehot_Encoding = OneHotEncoder(sparse=False)\n",
    "features_Onehot_encoded = pd.DataFrame(Onehot_Encoding.fit_transform(train_data[categorical_feature] ))\n",
    "features_Onehot_encoded.columns = Onehot_Encoding.get_feature_names(categorical_feature)\n",
    "# train_features = pd.concat([train_features , pd.DataFrame(features)],axis=1)\n",
    "train_data[features_Onehot_encoded.columns] = features_Onehot_encoded\n",
    "train_data = train_data.drop(train_data[categorical_feature] ,axis =1)\n",
    "train_data = train_data.dropna()\n",
    "train_data.head()"
   ]
  },
  {
   "cell_type": "markdown",
   "id": "b72e46f8",
   "metadata": {
    "papermill": {
     "duration": 0.045976,
     "end_time": "2022-04-12T17:09:43.755163",
     "exception": false,
     "start_time": "2022-04-12T17:09:43.709187",
     "status": "completed"
    },
    "tags": []
   },
   "source": [
    "# Ordinal Encoding with Training Data "
   ]
  },
  {
   "cell_type": "code",
   "execution_count": 15,
   "id": "fac99955",
   "metadata": {
    "execution": {
     "iopub.execute_input": "2022-04-12T17:09:43.853753Z",
     "iopub.status.busy": "2022-04-12T17:09:43.853129Z",
     "iopub.status.idle": "2022-04-12T17:09:43.890834Z",
     "shell.execute_reply": "2022-04-12T17:09:43.891302Z",
     "shell.execute_reply.started": "2022-04-12T15:15:27.046803Z"
    },
    "papermill": {
     "duration": 0.089086,
     "end_time": "2022-04-12T17:09:43.891488",
     "exception": false,
     "start_time": "2022-04-12T17:09:43.802402",
     "status": "completed"
    },
    "tags": []
   },
   "outputs": [
    {
     "data": {
      "text/html": [
       "<div>\n",
       "<style scoped>\n",
       "    .dataframe tbody tr th:only-of-type {\n",
       "        vertical-align: middle;\n",
       "    }\n",
       "\n",
       "    .dataframe tbody tr th {\n",
       "        vertical-align: top;\n",
       "    }\n",
       "\n",
       "    .dataframe thead th {\n",
       "        text-align: right;\n",
       "    }\n",
       "</style>\n",
       "<table border=\"1\" class=\"dataframe\">\n",
       "  <thead>\n",
       "    <tr style=\"text-align: right;\">\n",
       "      <th></th>\n",
       "      <th>LotFrontage</th>\n",
       "      <th>LotArea</th>\n",
       "      <th>BsmtFinSF1</th>\n",
       "      <th>1stFlrSF</th>\n",
       "      <th>2ndFlrSF</th>\n",
       "      <th>FullBath</th>\n",
       "      <th>TotRmsAbvGrd</th>\n",
       "      <th>3SsnPorch</th>\n",
       "      <th>ScreenPorch</th>\n",
       "      <th>PoolArea</th>\n",
       "      <th>...</th>\n",
       "      <th>SaleCondition_Partial</th>\n",
       "      <th>0</th>\n",
       "      <th>1</th>\n",
       "      <th>2</th>\n",
       "      <th>3</th>\n",
       "      <th>4</th>\n",
       "      <th>5</th>\n",
       "      <th>6</th>\n",
       "      <th>7</th>\n",
       "      <th>8</th>\n",
       "    </tr>\n",
       "    <tr>\n",
       "      <th>Id</th>\n",
       "      <th></th>\n",
       "      <th></th>\n",
       "      <th></th>\n",
       "      <th></th>\n",
       "      <th></th>\n",
       "      <th></th>\n",
       "      <th></th>\n",
       "      <th></th>\n",
       "      <th></th>\n",
       "      <th></th>\n",
       "      <th></th>\n",
       "      <th></th>\n",
       "      <th></th>\n",
       "      <th></th>\n",
       "      <th></th>\n",
       "      <th></th>\n",
       "      <th></th>\n",
       "      <th></th>\n",
       "      <th></th>\n",
       "      <th></th>\n",
       "      <th></th>\n",
       "    </tr>\n",
       "  </thead>\n",
       "  <tbody>\n",
       "    <tr>\n",
       "      <th>1</th>\n",
       "      <td>65.0</td>\n",
       "      <td>8450</td>\n",
       "      <td>706</td>\n",
       "      <td>856</td>\n",
       "      <td>854</td>\n",
       "      <td>2</td>\n",
       "      <td>8</td>\n",
       "      <td>0</td>\n",
       "      <td>0</td>\n",
       "      <td>0</td>\n",
       "      <td>...</td>\n",
       "      <td>0.0</td>\n",
       "      <td>2.0</td>\n",
       "      <td>1.0</td>\n",
       "      <td>1.0</td>\n",
       "      <td>0.0</td>\n",
       "      <td>5.0</td>\n",
       "      <td>0.0</td>\n",
       "      <td>1.0</td>\n",
       "      <td>4.0</td>\n",
       "      <td>3.0</td>\n",
       "    </tr>\n",
       "    <tr>\n",
       "      <th>2</th>\n",
       "      <td>80.0</td>\n",
       "      <td>9600</td>\n",
       "      <td>978</td>\n",
       "      <td>1262</td>\n",
       "      <td>0</td>\n",
       "      <td>2</td>\n",
       "      <td>6</td>\n",
       "      <td>0</td>\n",
       "      <td>0</td>\n",
       "      <td>0</td>\n",
       "      <td>...</td>\n",
       "      <td>0.0</td>\n",
       "      <td>2.0</td>\n",
       "      <td>2.0</td>\n",
       "      <td>2.0</td>\n",
       "      <td>2.0</td>\n",
       "      <td>5.0</td>\n",
       "      <td>0.0</td>\n",
       "      <td>1.0</td>\n",
       "      <td>4.0</td>\n",
       "      <td>2.0</td>\n",
       "    </tr>\n",
       "    <tr>\n",
       "      <th>3</th>\n",
       "      <td>68.0</td>\n",
       "      <td>11250</td>\n",
       "      <td>486</td>\n",
       "      <td>920</td>\n",
       "      <td>866</td>\n",
       "      <td>2</td>\n",
       "      <td>6</td>\n",
       "      <td>0</td>\n",
       "      <td>0</td>\n",
       "      <td>0</td>\n",
       "      <td>...</td>\n",
       "      <td>0.0</td>\n",
       "      <td>3.0</td>\n",
       "      <td>0.0</td>\n",
       "      <td>3.0</td>\n",
       "      <td>0.0</td>\n",
       "      <td>5.0</td>\n",
       "      <td>2.0</td>\n",
       "      <td>1.0</td>\n",
       "      <td>4.0</td>\n",
       "      <td>2.0</td>\n",
       "    </tr>\n",
       "    <tr>\n",
       "      <th>4</th>\n",
       "      <td>60.0</td>\n",
       "      <td>9550</td>\n",
       "      <td>216</td>\n",
       "      <td>961</td>\n",
       "      <td>756</td>\n",
       "      <td>1</td>\n",
       "      <td>7</td>\n",
       "      <td>0</td>\n",
       "      <td>0</td>\n",
       "      <td>0</td>\n",
       "      <td>...</td>\n",
       "      <td>0.0</td>\n",
       "      <td>2.0</td>\n",
       "      <td>2.0</td>\n",
       "      <td>0.0</td>\n",
       "      <td>2.0</td>\n",
       "      <td>5.0</td>\n",
       "      <td>0.0</td>\n",
       "      <td>1.0</td>\n",
       "      <td>4.0</td>\n",
       "      <td>2.0</td>\n",
       "    </tr>\n",
       "    <tr>\n",
       "      <th>5</th>\n",
       "      <td>84.0</td>\n",
       "      <td>14260</td>\n",
       "      <td>655</td>\n",
       "      <td>1145</td>\n",
       "      <td>1053</td>\n",
       "      <td>2</td>\n",
       "      <td>9</td>\n",
       "      <td>0</td>\n",
       "      <td>0</td>\n",
       "      <td>0</td>\n",
       "      <td>...</td>\n",
       "      <td>0.0</td>\n",
       "      <td>2.0</td>\n",
       "      <td>5.0</td>\n",
       "      <td>3.0</td>\n",
       "      <td>2.0</td>\n",
       "      <td>5.0</td>\n",
       "      <td>0.0</td>\n",
       "      <td>1.0</td>\n",
       "      <td>4.0</td>\n",
       "      <td>3.0</td>\n",
       "    </tr>\n",
       "  </tbody>\n",
       "</table>\n",
       "<p>5 rows × 129 columns</p>\n",
       "</div>"
      ],
      "text/plain": [
       "    LotFrontage  LotArea  BsmtFinSF1  1stFlrSF  2ndFlrSF  FullBath  \\\n",
       "Id                                                                   \n",
       "1          65.0     8450         706       856       854         2   \n",
       "2          80.0     9600         978      1262         0         2   \n",
       "3          68.0    11250         486       920       866         2   \n",
       "4          60.0     9550         216       961       756         1   \n",
       "5          84.0    14260         655      1145      1053         2   \n",
       "\n",
       "    TotRmsAbvGrd  3SsnPorch  ScreenPorch  PoolArea  ...  \\\n",
       "Id                                                  ...   \n",
       "1              8          0            0         0  ...   \n",
       "2              6          0            0         0  ...   \n",
       "3              6          0            0         0  ...   \n",
       "4              7          0            0         0  ...   \n",
       "5              9          0            0         0  ...   \n",
       "\n",
       "    SaleCondition_Partial    0    1    2    3    4    5    6    7    8  \n",
       "Id                                                                      \n",
       "1                     0.0  2.0  1.0  1.0  0.0  5.0  0.0  1.0  4.0  3.0  \n",
       "2                     0.0  2.0  2.0  2.0  2.0  5.0  0.0  1.0  4.0  2.0  \n",
       "3                     0.0  3.0  0.0  3.0  0.0  5.0  2.0  1.0  4.0  2.0  \n",
       "4                     0.0  2.0  2.0  0.0  2.0  5.0  0.0  1.0  4.0  2.0  \n",
       "5                     0.0  2.0  5.0  3.0  2.0  5.0  0.0  1.0  4.0  3.0  \n",
       "\n",
       "[5 rows x 129 columns]"
      ]
     },
     "execution_count": 15,
     "metadata": {},
     "output_type": "execute_result"
    }
   ],
   "source": [
    "\n",
    "ordinal_encoder = OrdinalEncoder()\n",
    "ord_encoded_feature = pd.DataFrame(ordinal_encoder.fit_transform(train_data[ordinal_feature] ))\n",
    "\n",
    "train_data[ord_encoded_feature.columns] = ord_encoded_feature\n",
    "train_data = train_data.drop(train_data[ordinal_feature] ,axis =1)\n",
    "# train_features = train_features.dropna()\n",
    "train_data.head()"
   ]
  },
  {
   "cell_type": "markdown",
   "id": "6d2bd7c5",
   "metadata": {
    "papermill": {
     "duration": 0.05807,
     "end_time": "2022-04-12T17:09:43.996044",
     "exception": false,
     "start_time": "2022-04-12T17:09:43.937974",
     "status": "completed"
    },
    "tags": []
   },
   "source": [
    "## Check data after encoding"
   ]
  },
  {
   "cell_type": "code",
   "execution_count": 16,
   "id": "0c0f5785",
   "metadata": {
    "execution": {
     "iopub.execute_input": "2022-04-12T17:09:44.112681Z",
     "iopub.status.busy": "2022-04-12T17:09:44.110407Z",
     "iopub.status.idle": "2022-04-12T17:09:44.115055Z",
     "shell.execute_reply": "2022-04-12T17:09:44.115580Z",
     "shell.execute_reply.started": "2022-04-12T15:15:27.102043Z"
    },
    "papermill": {
     "duration": 0.05561,
     "end_time": "2022-04-12T17:09:44.115757",
     "exception": false,
     "start_time": "2022-04-12T17:09:44.060147",
     "status": "completed"
    },
    "tags": []
   },
   "outputs": [
    {
     "data": {
      "text/plain": [
       "(1457, 129)"
      ]
     },
     "execution_count": 16,
     "metadata": {},
     "output_type": "execute_result"
    }
   ],
   "source": [
    "train_data.shape"
   ]
  },
  {
   "cell_type": "markdown",
   "id": "b4814d40",
   "metadata": {
    "papermill": {
     "duration": 0.046818,
     "end_time": "2022-04-12T17:09:44.210483",
     "exception": false,
     "start_time": "2022-04-12T17:09:44.163665",
     "status": "completed"
    },
    "tags": []
   },
   "source": [
    "# One Hot Encoding test Data"
   ]
  },
  {
   "cell_type": "code",
   "execution_count": 17,
   "id": "f9038cef",
   "metadata": {
    "execution": {
     "iopub.execute_input": "2022-04-12T17:09:44.308724Z",
     "iopub.status.busy": "2022-04-12T17:09:44.308172Z",
     "iopub.status.idle": "2022-04-12T17:09:44.362161Z",
     "shell.execute_reply": "2022-04-12T17:09:44.362648Z",
     "shell.execute_reply.started": "2022-04-12T15:15:27.110311Z"
    },
    "papermill": {
     "duration": 0.104342,
     "end_time": "2022-04-12T17:09:44.362827",
     "exception": false,
     "start_time": "2022-04-12T17:09:44.258485",
     "status": "completed"
    },
    "tags": []
   },
   "outputs": [],
   "source": [
    "t = pd.DataFrame(Onehot_Encoding.transform(test_data[categorical_feature] ))\n",
    "t.columns = Onehot_Encoding.get_feature_names(categorical_feature)\n",
    "test_data[t.columns] = t\n",
    "test_data = test_data.drop(test_data[categorical_feature] ,axis =1)\n"
   ]
  },
  {
   "cell_type": "code",
   "execution_count": 18,
   "id": "3af395ec",
   "metadata": {
    "execution": {
     "iopub.execute_input": "2022-04-12T17:09:44.458888Z",
     "iopub.status.busy": "2022-04-12T17:09:44.458310Z",
     "iopub.status.idle": "2022-04-12T17:09:44.487485Z",
     "shell.execute_reply": "2022-04-12T17:09:44.487914Z",
     "shell.execute_reply.started": "2022-04-12T15:15:27.190977Z"
    },
    "papermill": {
     "duration": 0.078684,
     "end_time": "2022-04-12T17:09:44.488105",
     "exception": false,
     "start_time": "2022-04-12T17:09:44.409421",
     "status": "completed"
    },
    "tags": []
   },
   "outputs": [
    {
     "name": "stdout",
     "output_type": "stream",
     "text": [
      "<class 'pandas.core.frame.DataFrame'>\n",
      "RangeIndex: 1459 entries, 0 to 1458\n",
      "Columns: 128 entries, LotFrontage to 8\n",
      "dtypes: float64(117), int64(11)\n",
      "memory usage: 1.4 MB\n"
     ]
    }
   ],
   "source": [
    "ord_feature = pd.DataFrame(ordinal_encoder.fit_transform(test_data[ordinal_feature]))\n",
    "\n",
    "test_data[ord_feature.columns] = ord_feature\n",
    "test_data = test_data.drop(test_data[ordinal_feature] ,axis =1)\n",
    "# test_data = test_data.dropna()\n",
    "test_data.info()"
   ]
  },
  {
   "cell_type": "code",
   "execution_count": 19,
   "id": "c7d58244",
   "metadata": {
    "execution": {
     "iopub.execute_input": "2022-04-12T17:09:44.587746Z",
     "iopub.status.busy": "2022-04-12T17:09:44.586873Z",
     "iopub.status.idle": "2022-04-12T17:09:44.590225Z",
     "shell.execute_reply": "2022-04-12T17:09:44.590638Z",
     "shell.execute_reply.started": "2022-04-12T15:15:27.229648Z"
    },
    "papermill": {
     "duration": 0.055636,
     "end_time": "2022-04-12T17:09:44.590821",
     "exception": false,
     "start_time": "2022-04-12T17:09:44.535185",
     "status": "completed"
    },
    "tags": []
   },
   "outputs": [
    {
     "data": {
      "text/plain": [
       "(1459, 128)"
      ]
     },
     "execution_count": 19,
     "metadata": {},
     "output_type": "execute_result"
    }
   ],
   "source": [
    "test_data.shape"
   ]
  },
  {
   "cell_type": "markdown",
   "id": "320adb21",
   "metadata": {
    "papermill": {
     "duration": 0.047569,
     "end_time": "2022-04-12T17:09:44.685427",
     "exception": false,
     "start_time": "2022-04-12T17:09:44.637858",
     "status": "completed"
    },
    "tags": []
   },
   "source": [
    "# Split SalePrice As label"
   ]
  },
  {
   "cell_type": "code",
   "execution_count": 20,
   "id": "1ce922c7",
   "metadata": {
    "execution": {
     "iopub.execute_input": "2022-04-12T17:09:44.787356Z",
     "iopub.status.busy": "2022-04-12T17:09:44.786371Z",
     "iopub.status.idle": "2022-04-12T17:09:44.789435Z",
     "shell.execute_reply": "2022-04-12T17:09:44.788872Z",
     "shell.execute_reply.started": "2022-04-12T15:15:27.240611Z"
    },
    "papermill": {
     "duration": 0.05687,
     "end_time": "2022-04-12T17:09:44.789576",
     "exception": false,
     "start_time": "2022-04-12T17:09:44.732706",
     "status": "completed"
    },
    "tags": []
   },
   "outputs": [],
   "source": [
    "train_labels = train_data.SalePrice\n",
    "train_data.drop(['SalePrice'], axis=1, inplace=True)"
   ]
  },
  {
   "cell_type": "markdown",
   "id": "6ddaef07",
   "metadata": {
    "papermill": {
     "duration": 0.047861,
     "end_time": "2022-04-12T17:09:44.886709",
     "exception": false,
     "start_time": "2022-04-12T17:09:44.838848",
     "status": "completed"
    },
    "tags": []
   },
   "source": [
    "# <a name = \"7\"> 7- Split Data <a>"
   ]
  },
  {
   "cell_type": "markdown",
   "id": "b6a56da1",
   "metadata": {
    "papermill": {
     "duration": 0.04789,
     "end_time": "2022-04-12T17:09:44.982862",
     "exception": false,
     "start_time": "2022-04-12T17:09:44.934972",
     "status": "completed"
    },
    "tags": []
   },
   "source": [
    "## Split to train and validation to select the suitabel parameters"
   ]
  },
  {
   "cell_type": "code",
   "execution_count": 21,
   "id": "d93c4223",
   "metadata": {
    "execution": {
     "iopub.execute_input": "2022-04-12T17:09:45.089311Z",
     "iopub.status.busy": "2022-04-12T17:09:45.088241Z",
     "iopub.status.idle": "2022-04-12T17:09:45.091270Z",
     "shell.execute_reply": "2022-04-12T17:09:45.090711Z",
     "shell.execute_reply.started": "2022-04-12T15:15:27.254859Z"
    },
    "papermill": {
     "duration": 0.058867,
     "end_time": "2022-04-12T17:09:45.091419",
     "exception": false,
     "start_time": "2022-04-12T17:09:45.032552",
     "status": "completed"
    },
    "tags": []
   },
   "outputs": [],
   "source": [
    "def split_data(train_features , train_labels):\n",
    "    validation_set = train_features.iloc[1100:]\n",
    "    validation_labels = train_labels.iloc[1100:]\n",
    "\n",
    "    train_features = train_features.iloc[0:1100]\n",
    "    train_labels = train_labels.iloc[0:1100]\n",
    "    return validation_set , validation_labels , train_features , train_labels\n",
    "    # validation_set.shape"
   ]
  },
  {
   "cell_type": "markdown",
   "id": "818c7c3c",
   "metadata": {
    "papermill": {
     "duration": 0.046776,
     "end_time": "2022-04-12T17:09:45.185427",
     "exception": false,
     "start_time": "2022-04-12T17:09:45.138651",
     "status": "completed"
    },
    "tags": []
   },
   "source": [
    "## Fix train and test NaNs after the encoding"
   ]
  },
  {
   "cell_type": "code",
   "execution_count": 22,
   "id": "9daddde8",
   "metadata": {
    "execution": {
     "iopub.execute_input": "2022-04-12T17:09:45.286383Z",
     "iopub.status.busy": "2022-04-12T17:09:45.285209Z",
     "iopub.status.idle": "2022-04-12T17:09:45.290907Z",
     "shell.execute_reply": "2022-04-12T17:09:45.290392Z",
     "shell.execute_reply.started": "2022-04-12T15:15:27.270343Z"
    },
    "papermill": {
     "duration": 0.058413,
     "end_time": "2022-04-12T17:09:45.291083",
     "exception": false,
     "start_time": "2022-04-12T17:09:45.232670",
     "status": "completed"
    },
    "tags": []
   },
   "outputs": [],
   "source": [
    "train_data = train_data.fillna(0)\n",
    "test_data = test_data.fillna(0)"
   ]
  },
  {
   "cell_type": "markdown",
   "id": "851ccc4a",
   "metadata": {
    "papermill": {
     "duration": 0.049182,
     "end_time": "2022-04-12T17:09:45.387782",
     "exception": false,
     "start_time": "2022-04-12T17:09:45.338600",
     "status": "completed"
    },
    "tags": []
   },
   "source": [
    "# 8- Apply Models<a name = \"8\">.<a>"
   ]
  },
  {
   "cell_type": "markdown",
   "id": "f506a750",
   "metadata": {
    "papermill": {
     "duration": 0.048002,
     "end_time": "2022-04-12T17:09:45.484554",
     "exception": false,
     "start_time": "2022-04-12T17:09:45.436552",
     "status": "completed"
    },
    "tags": []
   },
   "source": [
    "# <a name = \"9\"> 9- Linear Regression <a>"
   ]
  },
  {
   "cell_type": "code",
   "execution_count": 23,
   "id": "807b95a2",
   "metadata": {
    "execution": {
     "iopub.execute_input": "2022-04-12T17:09:45.586475Z",
     "iopub.status.busy": "2022-04-12T17:09:45.585826Z",
     "iopub.status.idle": "2022-04-12T17:09:45.645609Z",
     "shell.execute_reply": "2022-04-12T17:09:45.646719Z",
     "shell.execute_reply.started": "2022-04-12T15:15:27.290674Z"
    },
    "papermill": {
     "duration": 0.115298,
     "end_time": "2022-04-12T17:09:45.647030",
     "exception": false,
     "start_time": "2022-04-12T17:09:45.531732",
     "status": "completed"
    },
    "tags": []
   },
   "outputs": [
    {
     "data": {
      "text/plain": [
       "0.7991593649641737"
      ]
     },
     "execution_count": 23,
     "metadata": {},
     "output_type": "execute_result"
    }
   ],
   "source": [
    "\n",
    "reg = LinearRegression().fit(train_data, train_labels)\n",
    "reg.score(train_data, train_labels)\n"
   ]
  },
  {
   "cell_type": "code",
   "execution_count": 24,
   "id": "3f48aaef",
   "metadata": {
    "execution": {
     "iopub.execute_input": "2022-04-12T17:09:45.819922Z",
     "iopub.status.busy": "2022-04-12T17:09:45.818983Z",
     "iopub.status.idle": "2022-04-12T17:09:45.831365Z",
     "shell.execute_reply": "2022-04-12T17:09:45.832250Z",
     "shell.execute_reply.started": "2022-04-12T15:15:27.372279Z"
    },
    "papermill": {
     "duration": 0.066259,
     "end_time": "2022-04-12T17:09:45.832557",
     "exception": false,
     "start_time": "2022-04-12T17:09:45.766298",
     "status": "completed"
    },
    "tags": []
   },
   "outputs": [
    {
     "data": {
      "text/plain": [
       "(1459, 2)"
      ]
     },
     "execution_count": 24,
     "metadata": {},
     "output_type": "execute_result"
    }
   ],
   "source": [
    "LR_predection = reg.predict(test_data)\n",
    "LiearReg_predection = pd.DataFrame()\n",
    "LiearReg_predection['Id'] = Test_data_Id\n",
    "LiearReg_predection['SalePrice'] = LR_predection[0:1459]\n",
    "LiearReg_predection.shape"
   ]
  },
  {
   "cell_type": "markdown",
   "id": "4645c4bb",
   "metadata": {
    "papermill": {
     "duration": 0.054173,
     "end_time": "2022-04-12T17:09:45.984786",
     "exception": false,
     "start_time": "2022-04-12T17:09:45.930613",
     "status": "completed"
    },
    "tags": []
   },
   "source": [
    "# <a name = \"10\"> 10- Random Forest <a>"
   ]
  },
  {
   "cell_type": "code",
   "execution_count": 25,
   "id": "2c53d4fd",
   "metadata": {
    "execution": {
     "iopub.execute_input": "2022-04-12T17:09:46.092589Z",
     "iopub.status.busy": "2022-04-12T17:09:46.091359Z",
     "iopub.status.idle": "2022-04-12T17:09:47.798744Z",
     "shell.execute_reply": "2022-04-12T17:09:47.798111Z",
     "shell.execute_reply.started": "2022-04-12T15:15:27.415445Z"
    },
    "papermill": {
     "duration": 1.764836,
     "end_time": "2022-04-12T17:09:47.798880",
     "exception": false,
     "start_time": "2022-04-12T17:09:46.034044",
     "status": "completed"
    },
    "tags": []
   },
   "outputs": [
    {
     "data": {
      "text/plain": [
       "0.9788420545664865"
      ]
     },
     "execution_count": 25,
     "metadata": {},
     "output_type": "execute_result"
    }
   ],
   "source": [
    "\n",
    "reg = RandomForestRegressor(max_depth=19, random_state=0)\n",
    "reg.fit(train_data, train_labels)\n",
    "reg.score(train_data, train_labels)"
   ]
  },
  {
   "cell_type": "code",
   "execution_count": 26,
   "id": "4a8a5b0b",
   "metadata": {
    "execution": {
     "iopub.execute_input": "2022-04-12T17:09:47.898965Z",
     "iopub.status.busy": "2022-04-12T17:09:47.898307Z",
     "iopub.status.idle": "2022-04-12T17:09:47.944916Z",
     "shell.execute_reply": "2022-04-12T17:09:47.945415Z",
     "shell.execute_reply.started": "2022-04-12T15:15:29.23897Z"
    },
    "papermill": {
     "duration": 0.098504,
     "end_time": "2022-04-12T17:09:47.945596",
     "exception": false,
     "start_time": "2022-04-12T17:09:47.847092",
     "status": "completed"
    },
    "tags": []
   },
   "outputs": [
    {
     "data": {
      "text/plain": [
       "(1459, 2)"
      ]
     },
     "execution_count": 26,
     "metadata": {},
     "output_type": "execute_result"
    }
   ],
   "source": [
    "RF_predection = reg.predict(test_data)\n",
    "RandomForest_predection = pd.DataFrame()\n",
    "RandomForest_predection['Id'] = Test_data_Id\n",
    "RandomForest_predection['SalePrice'] = RF_predection[0:1459]\n",
    "RandomForest_predection.shape"
   ]
  },
  {
   "cell_type": "markdown",
   "id": "c05640e4",
   "metadata": {
    "papermill": {
     "duration": 0.048631,
     "end_time": "2022-04-12T17:09:48.043397",
     "exception": false,
     "start_time": "2022-04-12T17:09:47.994766",
     "status": "completed"
    },
    "tags": []
   },
   "source": [
    "# <a name = \"11\"> 11- GradientBoosting <a>"
   ]
  },
  {
   "cell_type": "code",
   "execution_count": 27,
   "id": "ac494c9a",
   "metadata": {
    "execution": {
     "iopub.execute_input": "2022-04-12T17:09:48.149510Z",
     "iopub.status.busy": "2022-04-12T17:09:48.148794Z",
     "iopub.status.idle": "2022-04-12T17:09:48.204389Z",
     "shell.execute_reply": "2022-04-12T17:09:48.204802Z",
     "shell.execute_reply.started": "2022-04-12T15:15:29.305575Z"
    },
    "papermill": {
     "duration": 0.112207,
     "end_time": "2022-04-12T17:09:48.205001",
     "exception": false,
     "start_time": "2022-04-12T17:09:48.092794",
     "status": "completed"
    },
    "tags": []
   },
   "outputs": [
    {
     "data": {
      "text/plain": [
       "0.006556585511733104"
      ]
     },
     "execution_count": 27,
     "metadata": {},
     "output_type": "execute_result"
    }
   ],
   "source": [
    "reg = GradientBoostingRegressor(n_estimators=13, learning_rate= 0.0004,\n",
    "max_depth=2, random_state=0).fit(train_data, train_labels)\n",
    "reg.score(train_data, train_labels)"
   ]
  },
  {
   "cell_type": "code",
   "execution_count": 28,
   "id": "060f2196",
   "metadata": {
    "execution": {
     "iopub.execute_input": "2022-04-12T17:09:48.309978Z",
     "iopub.status.busy": "2022-04-12T17:09:48.304954Z",
     "iopub.status.idle": "2022-04-12T17:09:48.318295Z",
     "shell.execute_reply": "2022-04-12T17:09:48.317678Z",
     "shell.execute_reply.started": "2022-04-12T15:15:29.376597Z"
    },
    "papermill": {
     "duration": 0.064582,
     "end_time": "2022-04-12T17:09:48.318432",
     "exception": false,
     "start_time": "2022-04-12T17:09:48.253850",
     "status": "completed"
    },
    "tags": []
   },
   "outputs": [
    {
     "data": {
      "text/plain": [
       "(1459, 2)"
      ]
     },
     "execution_count": 28,
     "metadata": {},
     "output_type": "execute_result"
    }
   ],
   "source": [
    "GB_predection = reg.predict(test_data)\n",
    "GradientBoost_predection = pd.DataFrame()\n",
    "GradientBoost_predection['Id'] = Test_data_Id\n",
    "GradientBoost_predection['SalePrice'] = GB_predection[0:1459]\n",
    "GradientBoost_predection.shape"
   ]
  },
  {
   "cell_type": "markdown",
   "id": "31546d13",
   "metadata": {
    "papermill": {
     "duration": 0.049393,
     "end_time": "2022-04-12T17:09:48.417720",
     "exception": false,
     "start_time": "2022-04-12T17:09:48.368327",
     "status": "completed"
    },
    "tags": []
   },
   "source": [
    "# <a name = \"12\"> 12- Select Prameters <a>"
   ]
  },
  {
   "cell_type": "markdown",
   "id": "31d63763",
   "metadata": {
    "papermill": {
     "duration": 0.048634,
     "end_time": "2022-04-12T17:09:48.515127",
     "exception": false,
     "start_time": "2022-04-12T17:09:48.466493",
     "status": "completed"
    },
    "tags": []
   },
   "source": [
    "# Graph of scores vs 10 Parameters of Max_depth"
   ]
  },
  {
   "cell_type": "code",
   "execution_count": 29,
   "id": "7b728286",
   "metadata": {
    "execution": {
     "iopub.execute_input": "2022-04-12T17:09:48.622903Z",
     "iopub.status.busy": "2022-04-12T17:09:48.622285Z",
     "iopub.status.idle": "2022-04-12T17:10:42.952826Z",
     "shell.execute_reply": "2022-04-12T17:10:42.952359Z",
     "shell.execute_reply.started": "2022-04-12T15:15:29.396958Z"
    },
    "papermill": {
     "duration": 54.389093,
     "end_time": "2022-04-12T17:10:42.952998",
     "exception": false,
     "start_time": "2022-04-12T17:09:48.563905",
     "status": "completed"
    },
    "tags": []
   },
   "outputs": [
    {
     "data": {
      "text/plain": [
       "<function matplotlib.pyplot.show(close=None, block=None)>"
      ]
     },
     "execution_count": 29,
     "metadata": {},
     "output_type": "execute_result"
    },
    {
     "data": {
      "image/png": "[encoded data removed]",
      "text/plain": [
       "<Figure size 432x288 with 1 Axes>"
      ]
     },
     "metadata": {
      "needs_background": "light"
     },
     "output_type": "display_data"
    }
   ],
   "source": [
    "validation_set ,validation_labels , train_set , label_train_set =  split_data(train_data , train_labels)\n",
    "listof_scores = []\n",
    "list_of_paramters = [2 , 10 , 5 , 3 , 15 , 30 , 9 , 4 , 12 , 35]\n",
    "for i in range(1,50):\n",
    "    regrr = RandomForestRegressor(max_depth=i, random_state=0)\n",
    "    regrr.fit(train_set, label_train_set)\n",
    "    listof_scores.append(regrr.score(validation_set, validation_labels))\n",
    "    \n",
    "plt.plot(listof_scores)    \n",
    "plt.xlabel(\"Score\")\n",
    "plt.ylabel(\"parameter\")\n",
    "plt.show"
   ]
  },
  {
   "cell_type": "code",
   "execution_count": 30,
   "id": "2ce3b52d",
   "metadata": {
    "execution": {
     "iopub.execute_input": "2022-04-12T17:10:43.058036Z",
     "iopub.status.busy": "2022-04-12T17:10:43.057369Z",
     "iopub.status.idle": "2022-04-12T17:10:43.060146Z",
     "shell.execute_reply": "2022-04-12T17:10:43.060620Z",
     "shell.execute_reply.started": "2022-04-12T15:16:26.831137Z"
    },
    "papermill": {
     "duration": 0.057726,
     "end_time": "2022-04-12T17:10:43.060781",
     "exception": false,
     "start_time": "2022-04-12T17:10:43.003055",
     "status": "completed"
    },
    "tags": []
   },
   "outputs": [
    {
     "name": "stdout",
     "output_type": "stream",
     "text": [
      "[0.47865998429226886, 0.6449697094765141, 0.7337235613958959, 0.7778662042778343, 0.8026517585646906, 0.8176839986063091, 0.8268014036817852, 0.8227670250970073, 0.8336685171702742, 0.8348114654173293, 0.8325163408158605, 0.8356500577655225, 0.8338854942594308, 0.8370668386264368, 0.832692148198204, 0.8378229730705508, 0.8379858546618093, 0.8350301614174271, 0.8313565291699971, 0.8364442402604676, 0.8318051602416976, 0.8350139586775714, 0.8323598590122269, 0.836704561801697, 0.834099182559785, 0.8340337150104924, 0.8327144757420639, 0.8340283170794183, 0.8345058670125348, 0.8330352748233153, 0.8346086773578402, 0.8346086773578402, 0.8346086773578402, 0.8346086773578402, 0.8346086773578402, 0.8346086773578402, 0.8346086773578402, 0.8346086773578402, 0.8346086773578402, 0.8346086773578402, 0.8346086773578402, 0.8346086773578402, 0.8346086773578402, 0.8346086773578402, 0.8346086773578402, 0.8346086773578402, 0.8346086773578402, 0.8346086773578402, 0.8346086773578402]\n",
      "16\n"
     ]
    }
   ],
   "source": [
    "print(listof_scores)\n",
    "print(listof_scores.index(max(listof_scores)))"
   ]
  },
  {
   "cell_type": "markdown",
   "id": "546154ba",
   "metadata": {
    "papermill": {
     "duration": 0.050224,
     "end_time": "2022-04-12T17:10:43.161373",
     "exception": false,
     "start_time": "2022-04-12T17:10:43.111149",
     "status": "completed"
    },
    "tags": []
   },
   "source": [
    "# Graph of scores vs 10 alphas"
   ]
  },
  {
   "cell_type": "code",
   "execution_count": 31,
   "id": "ce7cfeb4",
   "metadata": {
    "execution": {
     "iopub.execute_input": "2022-04-12T17:10:43.268865Z",
     "iopub.status.busy": "2022-04-12T17:10:43.268210Z",
     "iopub.status.idle": "2022-04-12T17:10:46.112850Z",
     "shell.execute_reply": "2022-04-12T17:10:46.112250Z",
     "shell.execute_reply.started": "2022-04-12T15:16:26.839804Z"
    },
    "papermill": {
     "duration": 2.901721,
     "end_time": "2022-04-12T17:10:46.113010",
     "exception": false,
     "start_time": "2022-04-12T17:10:43.211289",
     "status": "completed"
    },
    "tags": []
   },
   "outputs": [
    {
     "data": {
      "image/png": "[encoded data removed]",
      "text/plain": [
       "<Figure size 432x288 with 1 Axes>"
      ]
     },
     "metadata": {
      "needs_background": "light"
     },
     "output_type": "display_data"
    }
   ],
   "source": [
    "validation_set ,validation_labels , train_set , label_train_set =  split_data(train_data , train_labels)\n",
    "listof_scores = []\n",
    "list_of_alpha = [0.1 , 0.5 , 0.8 , 0.55 , 0.001 , 1.0 , 0.009 , 0.0004 , 0.2 , 0.6]\n",
    "for i in list_of_alpha:\n",
    "    regrr = GradientBoostingRegressor(n_estimators=100, learning_rate=i,\n",
    "            max_depth=2, random_state=0).fit(train_set, label_train_set)\n",
    "    listof_scores.append(regrr.score(validation_set, validation_labels))\n",
    "    \n",
    "plt.plot(listof_scores)    \n",
    "plt.xlabel(\"parameter\")\n",
    "plt.ylabel(\"Score\")\n",
    "plt.show\n",
    "\n",
    "import warnings\n",
    "\n",
    "def fxn():\n",
    "    warnings.warn(\"deprecated\", DeprecationWarning)\n",
    "\n",
    "with warnings.catch_warnings():\n",
    "    warnings.simplefilter(\"ignore\")\n",
    "    fxn()"
   ]
  },
  {
   "cell_type": "markdown",
   "id": "642fe2d3",
   "metadata": {
    "papermill": {
     "duration": 0.050942,
     "end_time": "2022-04-12T17:10:46.215060",
     "exception": false,
     "start_time": "2022-04-12T17:10:46.164118",
     "status": "completed"
    },
    "tags": []
   },
   "source": [
    "# Save Predictions"
   ]
  },
  {
   "cell_type": "code",
   "execution_count": 32,
   "id": "611805b7",
   "metadata": {
    "execution": {
     "iopub.execute_input": "2022-04-12T17:10:46.322832Z",
     "iopub.status.busy": "2022-04-12T17:10:46.322249Z",
     "iopub.status.idle": "2022-04-12T17:10:46.329683Z",
     "shell.execute_reply": "2022-04-12T17:10:46.330153Z"
    },
    "papermill": {
     "duration": 0.06398,
     "end_time": "2022-04-12T17:10:46.330329",
     "exception": false,
     "start_time": "2022-04-12T17:10:46.266349",
     "status": "completed"
    },
    "tags": []
   },
   "outputs": [],
   "source": [
    "RandomForest_predection.to_csv(\"predections.csv\", index=None, sep=\",\")"
   ]
  }
 ],
 "metadata": {
  "kernelspec": {
   "display_name": "Python 3",
   "language": "python",
   "name": "python3"
  },
  "language_info": {
   "codemirror_mode": {
    "name": "ipython",
    "version": 3
   },
   "file_extension": ".py",
   "mimetype": "text/x-python",
   "name": "python",
   "nbconvert_exporter": "python",
   "pygments_lexer": "ipython3",
   "version": "3.7.12"
  },
  "papermill": {
   "default_parameters": {},
   "duration": 83.504928,
   "end_time": "2022-04-12T17:10:47.299136",
   "environment_variables": {},
   "exception": null,
   "input_path": "__notebook__.ipynb",
   "output_path": "__notebook__.ipynb",
   "parameters": {},
   "start_time": "2022-04-12T17:09:23.794208",
   "version": "2.3.3"
  }
 },
 "nbformat": 4,
 "nbformat_minor": 5
}
