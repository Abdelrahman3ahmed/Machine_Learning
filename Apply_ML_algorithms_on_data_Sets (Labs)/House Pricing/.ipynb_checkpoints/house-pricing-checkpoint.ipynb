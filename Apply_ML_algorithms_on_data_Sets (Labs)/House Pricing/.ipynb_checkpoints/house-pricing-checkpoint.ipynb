{
 "cells": [
  {
   "cell_type": "code",
   "execution_count": 1,
   "metadata": {
    "_cell_guid": "b1076dfc-b9ad-4769-8c92-a6c4dae69d19",
    "_uuid": "8f2839f25d086af736a60e9eeb907d3b93b6e0e5",
    "execution": {
     "iopub.execute_input": "2022-04-07T00:38:41.224046Z",
     "iopub.status.busy": "2022-04-07T00:38:41.222218Z",
     "iopub.status.idle": "2022-04-07T00:38:41.237240Z",
     "shell.execute_reply": "2022-04-07T00:38:41.238191Z",
     "shell.execute_reply.started": "2022-04-07T00:34:12.312364Z"
    },
    "papermill": {
     "duration": 0.060722,
     "end_time": "2022-04-07T00:38:41.238606",
     "exception": false,
     "start_time": "2022-04-07T00:38:41.177884",
     "status": "completed"
    },
    "tags": []
   },
   "outputs": [],
   "source": [
    "# This Python 3 environment comes with many helpful analytics libraries installed\n",
    "# It is defined by the kaggle/python Docker image: https://github.com/kaggle/docker-python\n",
    "# For example, here's several helpful packages to load\n",
    "\n",
    "import numpy as np # linear algebra\n",
    "import pandas as pd # data processing, CSV file I/O (e.g. pd.read_csv)\n",
    "\n",
    "# Input data files are available in the read-only \"../input/\" directory\n",
    "# For example, running this (by clicking run or pressing Shift+Enter) will list all files under the input directory\n",
    "\n",
    "import os\n",
    "for dirname, _, filenames in os.walk('/kaggle/input'):\n",
    "    for filename in filenames:\n",
    "        print(os.path.join(dirname, filename))\n",
    "\n",
    "# You can write up to 20GB to the current directory (/kaggle/working/) that gets preserved as output when you create a version using \"Save & Run All\" \n",
    "# You can also write temporary files to /kaggle/temp/, but they won't be saved outside of the current session"
   ]
  },
  {
   "cell_type": "markdown",
   "metadata": {
    "papermill": {
     "duration": 0.039289,
     "end_time": "2022-04-07T00:38:41.324219",
     "exception": false,
     "start_time": "2022-04-07T00:38:41.284930",
     "status": "completed"
    },
    "tags": []
   },
   "source": [
    "# Data Exploring and Cleaning"
   ]
  },
  {
   "cell_type": "markdown",
   "metadata": {
    "papermill": {
     "duration": 0.04067,
     "end_time": "2022-04-07T00:38:41.404443",
     "exception": false,
     "start_time": "2022-04-07T00:38:41.363773",
     "status": "completed"
    },
    "tags": []
   },
   "source": [
    "## Read Data"
   ]
  },
  {
   "cell_type": "code",
   "execution_count": 2,
   "metadata": {
    "execution": {
     "iopub.execute_input": "2022-04-07T00:38:41.486541Z",
     "iopub.status.busy": "2022-04-07T00:38:41.485881Z",
     "iopub.status.idle": "2022-04-07T00:38:42.622288Z",
     "shell.execute_reply": "2022-04-07T00:38:42.621744Z",
     "shell.execute_reply.started": "2022-04-07T00:34:12.330590Z"
    },
    "papermill": {
     "duration": 1.178718,
     "end_time": "2022-04-07T00:38:42.622439",
     "exception": false,
     "start_time": "2022-04-07T00:38:41.443721",
     "status": "completed"
    },
    "tags": []
   },
   "outputs": [],
   "source": [
    "import sklearn as sk"
   ]
  },
  {
   "cell_type": "code",
   "execution_count": 6,
   "metadata": {
    "execution": {
     "iopub.execute_input": "2022-04-07T00:38:42.710375Z",
     "iopub.status.busy": "2022-04-07T00:38:42.709674Z",
     "iopub.status.idle": "2022-04-07T00:38:42.829855Z",
     "shell.execute_reply": "2022-04-07T00:38:42.830327Z",
     "shell.execute_reply.started": "2022-04-07T00:34:12.826610Z"
    },
    "papermill": {
     "duration": 0.168162,
     "end_time": "2022-04-07T00:38:42.830505",
     "exception": false,
     "start_time": "2022-04-07T00:38:42.662343",
     "status": "completed"
    },
    "tags": []
   },
   "outputs": [],
   "source": [
    "train_data = pd.read_csv('train.csv' , index_col= 'Id')\n",
    "test_data = pd.read_csv('test.csv')\n",
    "train_data.dropna(axis=0, subset=['SalePrice'], inplace=True)\n",
    "\n",
    "Test_data_Id = test_data[\"Id\"]\n",
    "\n",
    "data_with_label = pd.read_csv('train.csv' , index_col= 'Id')\n",
    "data_with_label.dropna(axis=0, subset=['SalePrice'], inplace=True)"
   ]
  },
  {
   "cell_type": "code",
   "execution_count": 7,
   "metadata": {
    "execution": {
     "iopub.execute_input": "2022-04-07T00:38:42.915623Z",
     "iopub.status.busy": "2022-04-07T00:38:42.914899Z",
     "iopub.status.idle": "2022-04-07T00:38:42.946868Z",
     "shell.execute_reply": "2022-04-07T00:38:42.947370Z",
     "shell.execute_reply.started": "2022-04-07T00:34:12.915970Z"
    },
    "papermill": {
     "duration": 0.07551,
     "end_time": "2022-04-07T00:38:42.947557",
     "exception": false,
     "start_time": "2022-04-07T00:38:42.872047",
     "status": "completed"
    },
    "tags": []
   },
   "outputs": [
    {
     "data": {
      "text/html": [
       "<div>\n",
       "<style scoped>\n",
       "    .dataframe tbody tr th:only-of-type {\n",
       "        vertical-align: middle;\n",
       "    }\n",
       "\n",
       "    .dataframe tbody tr th {\n",
       "        vertical-align: top;\n",
       "    }\n",
       "\n",
       "    .dataframe thead th {\n",
       "        text-align: right;\n",
       "    }\n",
       "</style>\n",
       "<table border=\"1\" class=\"dataframe\">\n",
       "  <thead>\n",
       "    <tr style=\"text-align: right;\">\n",
       "      <th></th>\n",
       "      <th>MSSubClass</th>\n",
       "      <th>MSZoning</th>\n",
       "      <th>LotFrontage</th>\n",
       "      <th>LotArea</th>\n",
       "      <th>Street</th>\n",
       "      <th>Alley</th>\n",
       "      <th>LotShape</th>\n",
       "      <th>LandContour</th>\n",
       "      <th>Utilities</th>\n",
       "      <th>LotConfig</th>\n",
       "      <th>...</th>\n",
       "      <th>PoolArea</th>\n",
       "      <th>PoolQC</th>\n",
       "      <th>Fence</th>\n",
       "      <th>MiscFeature</th>\n",
       "      <th>MiscVal</th>\n",
       "      <th>MoSold</th>\n",
       "      <th>YrSold</th>\n",
       "      <th>SaleType</th>\n",
       "      <th>SaleCondition</th>\n",
       "      <th>SalePrice</th>\n",
       "    </tr>\n",
       "    <tr>\n",
       "      <th>Id</th>\n",
       "      <th></th>\n",
       "      <th></th>\n",
       "      <th></th>\n",
       "      <th></th>\n",
       "      <th></th>\n",
       "      <th></th>\n",
       "      <th></th>\n",
       "      <th></th>\n",
       "      <th></th>\n",
       "      <th></th>\n",
       "      <th></th>\n",
       "      <th></th>\n",
       "      <th></th>\n",
       "      <th></th>\n",
       "      <th></th>\n",
       "      <th></th>\n",
       "      <th></th>\n",
       "      <th></th>\n",
       "      <th></th>\n",
       "      <th></th>\n",
       "      <th></th>\n",
       "    </tr>\n",
       "  </thead>\n",
       "  <tbody>\n",
       "    <tr>\n",
       "      <th>1</th>\n",
       "      <td>60</td>\n",
       "      <td>RL</td>\n",
       "      <td>65.0</td>\n",
       "      <td>8450</td>\n",
       "      <td>Pave</td>\n",
       "      <td>NaN</td>\n",
       "      <td>Reg</td>\n",
       "      <td>Lvl</td>\n",
       "      <td>AllPub</td>\n",
       "      <td>Inside</td>\n",
       "      <td>...</td>\n",
       "      <td>0</td>\n",
       "      <td>NaN</td>\n",
       "      <td>NaN</td>\n",
       "      <td>NaN</td>\n",
       "      <td>0</td>\n",
       "      <td>2</td>\n",
       "      <td>2008</td>\n",
       "      <td>WD</td>\n",
       "      <td>Normal</td>\n",
       "      <td>208500</td>\n",
       "    </tr>\n",
       "    <tr>\n",
       "      <th>2</th>\n",
       "      <td>20</td>\n",
       "      <td>RL</td>\n",
       "      <td>80.0</td>\n",
       "      <td>9600</td>\n",
       "      <td>Pave</td>\n",
       "      <td>NaN</td>\n",
       "      <td>Reg</td>\n",
       "      <td>Lvl</td>\n",
       "      <td>AllPub</td>\n",
       "      <td>FR2</td>\n",
       "      <td>...</td>\n",
       "      <td>0</td>\n",
       "      <td>NaN</td>\n",
       "      <td>NaN</td>\n",
       "      <td>NaN</td>\n",
       "      <td>0</td>\n",
       "      <td>5</td>\n",
       "      <td>2007</td>\n",
       "      <td>WD</td>\n",
       "      <td>Normal</td>\n",
       "      <td>181500</td>\n",
       "    </tr>\n",
       "    <tr>\n",
       "      <th>3</th>\n",
       "      <td>60</td>\n",
       "      <td>RL</td>\n",
       "      <td>68.0</td>\n",
       "      <td>11250</td>\n",
       "      <td>Pave</td>\n",
       "      <td>NaN</td>\n",
       "      <td>IR1</td>\n",
       "      <td>Lvl</td>\n",
       "      <td>AllPub</td>\n",
       "      <td>Inside</td>\n",
       "      <td>...</td>\n",
       "      <td>0</td>\n",
       "      <td>NaN</td>\n",
       "      <td>NaN</td>\n",
       "      <td>NaN</td>\n",
       "      <td>0</td>\n",
       "      <td>9</td>\n",
       "      <td>2008</td>\n",
       "      <td>WD</td>\n",
       "      <td>Normal</td>\n",
       "      <td>223500</td>\n",
       "    </tr>\n",
       "    <tr>\n",
       "      <th>4</th>\n",
       "      <td>70</td>\n",
       "      <td>RL</td>\n",
       "      <td>60.0</td>\n",
       "      <td>9550</td>\n",
       "      <td>Pave</td>\n",
       "      <td>NaN</td>\n",
       "      <td>IR1</td>\n",
       "      <td>Lvl</td>\n",
       "      <td>AllPub</td>\n",
       "      <td>Corner</td>\n",
       "      <td>...</td>\n",
       "      <td>0</td>\n",
       "      <td>NaN</td>\n",
       "      <td>NaN</td>\n",
       "      <td>NaN</td>\n",
       "      <td>0</td>\n",
       "      <td>2</td>\n",
       "      <td>2006</td>\n",
       "      <td>WD</td>\n",
       "      <td>Abnorml</td>\n",
       "      <td>140000</td>\n",
       "    </tr>\n",
       "    <tr>\n",
       "      <th>5</th>\n",
       "      <td>60</td>\n",
       "      <td>RL</td>\n",
       "      <td>84.0</td>\n",
       "      <td>14260</td>\n",
       "      <td>Pave</td>\n",
       "      <td>NaN</td>\n",
       "      <td>IR1</td>\n",
       "      <td>Lvl</td>\n",
       "      <td>AllPub</td>\n",
       "      <td>FR2</td>\n",
       "      <td>...</td>\n",
       "      <td>0</td>\n",
       "      <td>NaN</td>\n",
       "      <td>NaN</td>\n",
       "      <td>NaN</td>\n",
       "      <td>0</td>\n",
       "      <td>12</td>\n",
       "      <td>2008</td>\n",
       "      <td>WD</td>\n",
       "      <td>Normal</td>\n",
       "      <td>250000</td>\n",
       "    </tr>\n",
       "  </tbody>\n",
       "</table>\n",
       "<p>5 rows × 80 columns</p>\n",
       "</div>"
      ],
      "text/plain": [
       "    MSSubClass MSZoning  LotFrontage  LotArea Street Alley LotShape  \\\n",
       "Id                                                                    \n",
       "1           60       RL         65.0     8450   Pave   NaN      Reg   \n",
       "2           20       RL         80.0     9600   Pave   NaN      Reg   \n",
       "3           60       RL         68.0    11250   Pave   NaN      IR1   \n",
       "4           70       RL         60.0     9550   Pave   NaN      IR1   \n",
       "5           60       RL         84.0    14260   Pave   NaN      IR1   \n",
       "\n",
       "   LandContour Utilities LotConfig  ... PoolArea PoolQC Fence MiscFeature  \\\n",
       "Id                                  ...                                     \n",
       "1          Lvl    AllPub    Inside  ...        0    NaN   NaN         NaN   \n",
       "2          Lvl    AllPub       FR2  ...        0    NaN   NaN         NaN   \n",
       "3          Lvl    AllPub    Inside  ...        0    NaN   NaN         NaN   \n",
       "4          Lvl    AllPub    Corner  ...        0    NaN   NaN         NaN   \n",
       "5          Lvl    AllPub       FR2  ...        0    NaN   NaN         NaN   \n",
       "\n",
       "   MiscVal MoSold  YrSold  SaleType  SaleCondition  SalePrice  \n",
       "Id                                                             \n",
       "1        0      2    2008        WD         Normal     208500  \n",
       "2        0      5    2007        WD         Normal     181500  \n",
       "3        0      9    2008        WD         Normal     223500  \n",
       "4        0      2    2006        WD        Abnorml     140000  \n",
       "5        0     12    2008        WD         Normal     250000  \n",
       "\n",
       "[5 rows x 80 columns]"
      ]
     },
     "execution_count": 7,
     "metadata": {},
     "output_type": "execute_result"
    }
   ],
   "source": [
    "data_with_label.head()"
   ]
  },
  {
   "cell_type": "code",
   "execution_count": 8,
   "metadata": {
    "execution": {
     "iopub.execute_input": "2022-04-07T00:38:43.033264Z",
     "iopub.status.busy": "2022-04-07T00:38:43.032314Z",
     "iopub.status.idle": "2022-04-07T00:38:43.062748Z",
     "shell.execute_reply": "2022-04-07T00:38:43.063407Z",
     "shell.execute_reply.started": "2022-04-07T00:34:12.951128Z"
    },
    "papermill": {
     "duration": 0.076388,
     "end_time": "2022-04-07T00:38:43.063724",
     "exception": false,
     "start_time": "2022-04-07T00:38:42.987336",
     "status": "completed"
    },
    "tags": []
   },
   "outputs": [
    {
     "name": "stdout",
     "output_type": "stream",
     "text": [
      "<class 'pandas.core.frame.DataFrame'>\n",
      "Int64Index: 1460 entries, 1 to 1460\n",
      "Data columns (total 80 columns):\n",
      " #   Column         Non-Null Count  Dtype  \n",
      "---  ------         --------------  -----  \n",
      " 0   MSSubClass     1460 non-null   int64  \n",
      " 1   MSZoning       1460 non-null   object \n",
      " 2   LotFrontage    1201 non-null   float64\n",
      " 3   LotArea        1460 non-null   int64  \n",
      " 4   Street         1460 non-null   object \n",
      " 5   Alley          91 non-null     object \n",
      " 6   LotShape       1460 non-null   object \n",
      " 7   LandContour    1460 non-null   object \n",
      " 8   Utilities      1460 non-null   object \n",
      " 9   LotConfig      1460 non-null   object \n",
      " 10  LandSlope      1460 non-null   object \n",
      " 11  Neighborhood   1460 non-null   object \n",
      " 12  Condition1     1460 non-null   object \n",
      " 13  Condition2     1460 non-null   object \n",
      " 14  BldgType       1460 non-null   object \n",
      " 15  HouseStyle     1460 non-null   object \n",
      " 16  OverallQual    1460 non-null   int64  \n",
      " 17  OverallCond    1460 non-null   int64  \n",
      " 18  YearBuilt      1460 non-null   int64  \n",
      " 19  YearRemodAdd   1460 non-null   int64  \n",
      " 20  RoofStyle      1460 non-null   object \n",
      " 21  RoofMatl       1460 non-null   object \n",
      " 22  Exterior1st    1460 non-null   object \n",
      " 23  Exterior2nd    1460 non-null   object \n",
      " 24  MasVnrType     1452 non-null   object \n",
      " 25  MasVnrArea     1452 non-null   float64\n",
      " 26  ExterQual      1460 non-null   object \n",
      " 27  ExterCond      1460 non-null   object \n",
      " 28  Foundation     1460 non-null   object \n",
      " 29  BsmtQual       1423 non-null   object \n",
      " 30  BsmtCond       1423 non-null   object \n",
      " 31  BsmtExposure   1422 non-null   object \n",
      " 32  BsmtFinType1   1423 non-null   object \n",
      " 33  BsmtFinSF1     1460 non-null   int64  \n",
      " 34  BsmtFinType2   1422 non-null   object \n",
      " 35  BsmtFinSF2     1460 non-null   int64  \n",
      " 36  BsmtUnfSF      1460 non-null   int64  \n",
      " 37  TotalBsmtSF    1460 non-null   int64  \n",
      " 38  Heating        1460 non-null   object \n",
      " 39  HeatingQC      1460 non-null   object \n",
      " 40  CentralAir     1460 non-null   object \n",
      " 41  Electrical     1459 non-null   object \n",
      " 42  1stFlrSF       1460 non-null   int64  \n",
      " 43  2ndFlrSF       1460 non-null   int64  \n",
      " 44  LowQualFinSF   1460 non-null   int64  \n",
      " 45  GrLivArea      1460 non-null   int64  \n",
      " 46  BsmtFullBath   1460 non-null   int64  \n",
      " 47  BsmtHalfBath   1460 non-null   int64  \n",
      " 48  FullBath       1460 non-null   int64  \n",
      " 49  HalfBath       1460 non-null   int64  \n",
      " 50  BedroomAbvGr   1460 non-null   int64  \n",
      " 51  KitchenAbvGr   1460 non-null   int64  \n",
      " 52  KitchenQual    1460 non-null   object \n",
      " 53  TotRmsAbvGrd   1460 non-null   int64  \n",
      " 54  Functional     1460 non-null   object \n",
      " 55  Fireplaces     1460 non-null   int64  \n",
      " 56  FireplaceQu    770 non-null    object \n",
      " 57  GarageType     1379 non-null   object \n",
      " 58  GarageYrBlt    1379 non-null   float64\n",
      " 59  GarageFinish   1379 non-null   object \n",
      " 60  GarageCars     1460 non-null   int64  \n",
      " 61  GarageArea     1460 non-null   int64  \n",
      " 62  GarageQual     1379 non-null   object \n",
      " 63  GarageCond     1379 non-null   object \n",
      " 64  PavedDrive     1460 non-null   object \n",
      " 65  WoodDeckSF     1460 non-null   int64  \n",
      " 66  OpenPorchSF    1460 non-null   int64  \n",
      " 67  EnclosedPorch  1460 non-null   int64  \n",
      " 68  3SsnPorch      1460 non-null   int64  \n",
      " 69  ScreenPorch    1460 non-null   int64  \n",
      " 70  PoolArea       1460 non-null   int64  \n",
      " 71  PoolQC         7 non-null      object \n",
      " 72  Fence          281 non-null    object \n",
      " 73  MiscFeature    54 non-null     object \n",
      " 74  MiscVal        1460 non-null   int64  \n",
      " 75  MoSold         1460 non-null   int64  \n",
      " 76  YrSold         1460 non-null   int64  \n",
      " 77  SaleType       1460 non-null   object \n",
      " 78  SaleCondition  1460 non-null   object \n",
      " 79  SalePrice      1460 non-null   int64  \n",
      "dtypes: float64(3), int64(34), object(43)\n",
      "memory usage: 923.9+ KB\n"
     ]
    }
   ],
   "source": [
    "data_with_label.info()"
   ]
  },
  {
   "cell_type": "code",
   "execution_count": 9,
   "metadata": {
    "execution": {
     "iopub.execute_input": "2022-04-07T00:38:43.153231Z",
     "iopub.status.busy": "2022-04-07T00:38:43.152532Z",
     "iopub.status.idle": "2022-04-07T00:38:43.168873Z",
     "shell.execute_reply": "2022-04-07T00:38:43.169348Z",
     "shell.execute_reply.started": "2022-04-07T00:34:12.981392Z"
    },
    "papermill": {
     "duration": 0.063393,
     "end_time": "2022-04-07T00:38:43.169525",
     "exception": false,
     "start_time": "2022-04-07T00:38:43.106132",
     "status": "completed"
    },
    "tags": []
   },
   "outputs": [
    {
     "data": {
      "text/plain": [
       "SalePrice        1.000000\n",
       "OverallQual      0.790982\n",
       "GrLivArea        0.708624\n",
       "GarageCars       0.640409\n",
       "GarageArea       0.623431\n",
       "TotalBsmtSF      0.613581\n",
       "1stFlrSF         0.605852\n",
       "FullBath         0.560664\n",
       "TotRmsAbvGrd     0.533723\n",
       "YearBuilt        0.522897\n",
       "YearRemodAdd     0.507101\n",
       "GarageYrBlt      0.486362\n",
       "MasVnrArea       0.477493\n",
       "Fireplaces       0.466929\n",
       "BsmtFinSF1       0.386420\n",
       "LotFrontage      0.351799\n",
       "WoodDeckSF       0.324413\n",
       "2ndFlrSF         0.319334\n",
       "OpenPorchSF      0.315856\n",
       "HalfBath         0.284108\n",
       "LotArea          0.263843\n",
       "BsmtFullBath     0.227122\n",
       "BsmtUnfSF        0.214479\n",
       "BedroomAbvGr     0.168213\n",
       "ScreenPorch      0.111447\n",
       "PoolArea         0.092404\n",
       "MoSold           0.046432\n",
       "3SsnPorch        0.044584\n",
       "BsmtFinSF2      -0.011378\n",
       "BsmtHalfBath    -0.016844\n",
       "MiscVal         -0.021190\n",
       "LowQualFinSF    -0.025606\n",
       "YrSold          -0.028923\n",
       "OverallCond     -0.077856\n",
       "MSSubClass      -0.084284\n",
       "EnclosedPorch   -0.128578\n",
       "KitchenAbvGr    -0.135907\n",
       "Name: SalePrice, dtype: float64"
      ]
     },
     "execution_count": 9,
     "metadata": {},
     "output_type": "execute_result"
    }
   ],
   "source": [
    "top_corr_features = data_with_label.corr()['SalePrice'].sort_values(ascending=False)\n",
    "top_corr_features"
   ]
  },
  {
   "cell_type": "markdown",
   "metadata": {
    "papermill": {
     "duration": 0.041778,
     "end_time": "2022-04-07T00:38:43.252385",
     "exception": false,
     "start_time": "2022-04-07T00:38:43.210607",
     "status": "completed"
    },
    "tags": []
   },
   "source": [
    "# Decide Which features Important"
   ]
  },
  {
   "cell_type": "code",
   "execution_count": 10,
   "metadata": {
    "execution": {
     "iopub.execute_input": "2022-04-07T00:38:43.342313Z",
     "iopub.status.busy": "2022-04-07T00:38:43.341537Z",
     "iopub.status.idle": "2022-04-07T00:38:43.344437Z",
     "shell.execute_reply": "2022-04-07T00:38:43.343860Z",
     "shell.execute_reply.started": "2022-04-07T00:34:12.999170Z"
    },
    "papermill": {
     "duration": 0.050628,
     "end_time": "2022-04-07T00:38:43.344591",
     "exception": false,
     "start_time": "2022-04-07T00:38:43.293963",
     "status": "completed"
    },
    "tags": []
   },
   "outputs": [],
   "source": [
    "categorical_feature = [\"Utilities\" ,\"Neighborhood\",  \"Condition1\" , \"Condition2\",\"BldgType\" ,\n",
    "               \"HouseStyle\"  , \"Exterior1st\",\n",
    "               \"Exterior2nd\",\"Foundation\" ,\"BsmtQual\" ,\"BsmtExposure\"  , \"BsmtFinType1\" ,\"BsmtFinType2\",\n",
    "                \"HeatingQC\" , \"CentralAir\" , \"Electrical\" ,\"KitchenQual\", \"SaleType\",\"SaleCondition\"]\n",
    "\n",
    "\n",
    "numerical_feature = [\"LotFrontage\" , \"LotArea\" ,\"BsmtFinSF1\" ,\"1stFlrSF\" , \"2ndFlrSF\" , \"FullBath\",\n",
    "                     \"TotRmsAbvGrd\"  ,\"3SsnPorch\",\"ScreenPorch\", \"PoolArea\", \"OverallQual\",\"OverallCond\" ,\"YearRemodAdd\"\n",
    "                    ,\"BsmtFinSF2\",\"TotalBsmtSF\" ,\"GarageCars\"]\n",
    "important_features = categorical_feature+numerical_feature+[\"SalePrice\"]\n",
    "test_features = categorical_feature+numerical_feature"
   ]
  },
  {
   "cell_type": "markdown",
   "metadata": {
    "papermill": {
     "duration": 0.04227,
     "end_time": "2022-04-07T00:38:43.427699",
     "exception": false,
     "start_time": "2022-04-07T00:38:43.385429",
     "status": "completed"
    },
    "tags": []
   },
   "source": [
    "# clean Training Data"
   ]
  },
  {
   "cell_type": "code",
   "execution_count": 11,
   "metadata": {
    "execution": {
     "iopub.execute_input": "2022-04-07T00:38:43.516159Z",
     "iopub.status.busy": "2022-04-07T00:38:43.515131Z",
     "iopub.status.idle": "2022-04-07T00:38:43.533054Z",
     "shell.execute_reply": "2022-04-07T00:38:43.532279Z",
     "shell.execute_reply.started": "2022-04-07T00:34:13.006867Z"
    },
    "papermill": {
     "duration": 0.064292,
     "end_time": "2022-04-07T00:38:43.533304",
     "exception": false,
     "start_time": "2022-04-07T00:38:43.469012",
     "status": "completed"
    },
    "tags": []
   },
   "outputs": [
    {
     "name": "stdout",
     "output_type": "stream",
     "text": [
      "<class 'pandas.core.frame.DataFrame'>\n",
      "Int64Index: 1460 entries, 1 to 1460\n",
      "Data columns (total 36 columns):\n",
      " #   Column         Non-Null Count  Dtype  \n",
      "---  ------         --------------  -----  \n",
      " 0   Utilities      1460 non-null   object \n",
      " 1   Neighborhood   1460 non-null   object \n",
      " 2   Condition1     1460 non-null   object \n",
      " 3   Condition2     1460 non-null   object \n",
      " 4   BldgType       1460 non-null   object \n",
      " 5   HouseStyle     1460 non-null   object \n",
      " 6   Exterior1st    1460 non-null   object \n",
      " 7   Exterior2nd    1460 non-null   object \n",
      " 8   Foundation     1460 non-null   object \n",
      " 9   BsmtQual       1423 non-null   object \n",
      " 10  BsmtExposure   1422 non-null   object \n",
      " 11  BsmtFinType1   1423 non-null   object \n",
      " 12  BsmtFinType2   1422 non-null   object \n",
      " 13  HeatingQC      1460 non-null   object \n",
      " 14  CentralAir     1460 non-null   object \n",
      " 15  Electrical     1459 non-null   object \n",
      " 16  KitchenQual    1460 non-null   object \n",
      " 17  SaleType       1460 non-null   object \n",
      " 18  SaleCondition  1460 non-null   object \n",
      " 19  LotFrontage    1201 non-null   float64\n",
      " 20  LotArea        1460 non-null   int64  \n",
      " 21  BsmtFinSF1     1460 non-null   int64  \n",
      " 22  1stFlrSF       1460 non-null   int64  \n",
      " 23  2ndFlrSF       1460 non-null   int64  \n",
      " 24  FullBath       1460 non-null   int64  \n",
      " 25  TotRmsAbvGrd   1460 non-null   int64  \n",
      " 26  3SsnPorch      1460 non-null   int64  \n",
      " 27  ScreenPorch    1460 non-null   int64  \n",
      " 28  PoolArea       1460 non-null   int64  \n",
      " 29  OverallQual    1460 non-null   int64  \n",
      " 30  OverallCond    1460 non-null   int64  \n",
      " 31  YearRemodAdd   1460 non-null   int64  \n",
      " 32  BsmtFinSF2     1460 non-null   int64  \n",
      " 33  TotalBsmtSF    1460 non-null   int64  \n",
      " 34  GarageCars     1460 non-null   int64  \n",
      " 35  SalePrice      1460 non-null   int64  \n",
      "dtypes: float64(1), int64(16), object(19)\n",
      "memory usage: 422.0+ KB\n"
     ]
    }
   ],
   "source": [
    "train_features = train_data[important_features]\n",
    "train_features.info()"
   ]
  },
  {
   "cell_type": "code",
   "execution_count": 12,
   "metadata": {
    "execution": {
     "iopub.execute_input": "2022-04-07T00:38:43.627151Z",
     "iopub.status.busy": "2022-04-07T00:38:43.626433Z",
     "iopub.status.idle": "2022-04-07T00:38:43.648757Z",
     "shell.execute_reply": "2022-04-07T00:38:43.649241Z",
     "shell.execute_reply.started": "2022-04-07T00:34:13.043647Z"
    },
    "papermill": {
     "duration": 0.073493,
     "end_time": "2022-04-07T00:38:43.649406",
     "exception": false,
     "start_time": "2022-04-07T00:38:43.575913",
     "status": "completed"
    },
    "tags": []
   },
   "outputs": [
    {
     "name": "stdout",
     "output_type": "stream",
     "text": [
      "<class 'pandas.core.frame.DataFrame'>\n",
      "Int64Index: 1459 entries, 1 to 1460\n",
      "Data columns (total 36 columns):\n",
      " #   Column         Non-Null Count  Dtype  \n",
      "---  ------         --------------  -----  \n",
      " 0   Utilities      1459 non-null   object \n",
      " 1   Neighborhood   1459 non-null   object \n",
      " 2   Condition1     1459 non-null   object \n",
      " 3   Condition2     1459 non-null   object \n",
      " 4   BldgType       1459 non-null   object \n",
      " 5   HouseStyle     1459 non-null   object \n",
      " 6   Exterior1st    1459 non-null   object \n",
      " 7   Exterior2nd    1459 non-null   object \n",
      " 8   Foundation     1459 non-null   object \n",
      " 9   BsmtQual       1459 non-null   object \n",
      " 10  BsmtExposure   1459 non-null   object \n",
      " 11  BsmtFinType1   1459 non-null   object \n",
      " 12  BsmtFinType2   1459 non-null   object \n",
      " 13  HeatingQC      1459 non-null   object \n",
      " 14  CentralAir     1459 non-null   object \n",
      " 15  Electrical     1459 non-null   object \n",
      " 16  KitchenQual    1459 non-null   object \n",
      " 17  SaleType       1459 non-null   object \n",
      " 18  SaleCondition  1459 non-null   object \n",
      " 19  LotFrontage    1459 non-null   float64\n",
      " 20  LotArea        1459 non-null   int64  \n",
      " 21  BsmtFinSF1     1459 non-null   int64  \n",
      " 22  1stFlrSF       1459 non-null   int64  \n",
      " 23  2ndFlrSF       1459 non-null   int64  \n",
      " 24  FullBath       1459 non-null   int64  \n",
      " 25  TotRmsAbvGrd   1459 non-null   int64  \n",
      " 26  3SsnPorch      1459 non-null   int64  \n",
      " 27  ScreenPorch    1459 non-null   int64  \n",
      " 28  PoolArea       1459 non-null   int64  \n",
      " 29  OverallQual    1459 non-null   int64  \n",
      " 30  OverallCond    1459 non-null   int64  \n",
      " 31  YearRemodAdd   1459 non-null   int64  \n",
      " 32  BsmtFinSF2     1459 non-null   int64  \n",
      " 33  TotalBsmtSF    1459 non-null   int64  \n",
      " 34  GarageCars     1459 non-null   int64  \n",
      " 35  SalePrice      1459 non-null   int64  \n",
      "dtypes: float64(1), int64(16), object(19)\n",
      "memory usage: 421.7+ KB\n"
     ]
    }
   ],
   "source": [
    "filling_null = { \"BsmtQual\" : train_features[\"BsmtQual\"].mode().iloc[0]  ,\n",
    "                \"BsmtExposure\" : train_features[\"BsmtExposure\"].mode().iloc[0],\n",
    "                \"BsmtFinType1\" : train_features[\"BsmtFinType1\"].mode().iloc[0],\n",
    "                \"BsmtFinType2\" : train_features[\"BsmtFinType2\"].mode().iloc[0],    \n",
    "               \"LotFrontage\" : train_features[\"LotFrontage\"].mean()   }\n",
    "\n",
    "train_features = train_features.fillna(value = filling_null)\n",
    "train_features = train_features.dropna(axis = 0)\n",
    "train_features.head()\n",
    "train_features.info()"
   ]
  },
  {
   "cell_type": "markdown",
   "metadata": {
    "papermill": {
     "duration": 0.041292,
     "end_time": "2022-04-07T00:38:43.732332",
     "exception": false,
     "start_time": "2022-04-07T00:38:43.691040",
     "status": "completed"
    },
    "tags": []
   },
   "source": [
    "# Clean Test Data"
   ]
  },
  {
   "cell_type": "code",
   "execution_count": 13,
   "metadata": {
    "execution": {
     "iopub.execute_input": "2022-04-07T00:38:43.818776Z",
     "iopub.status.busy": "2022-04-07T00:38:43.818161Z",
     "iopub.status.idle": "2022-04-07T00:38:43.836474Z",
     "shell.execute_reply": "2022-04-07T00:38:43.837383Z",
     "shell.execute_reply.started": "2022-04-07T00:34:13.080850Z"
    },
    "papermill": {
     "duration": 0.063613,
     "end_time": "2022-04-07T00:38:43.837699",
     "exception": false,
     "start_time": "2022-04-07T00:38:43.774086",
     "status": "completed"
    },
    "tags": []
   },
   "outputs": [
    {
     "name": "stdout",
     "output_type": "stream",
     "text": [
      "<class 'pandas.core.frame.DataFrame'>\n",
      "RangeIndex: 1459 entries, 0 to 1458\n",
      "Data columns (total 35 columns):\n",
      " #   Column         Non-Null Count  Dtype  \n",
      "---  ------         --------------  -----  \n",
      " 0   Utilities      1457 non-null   object \n",
      " 1   Neighborhood   1459 non-null   object \n",
      " 2   Condition1     1459 non-null   object \n",
      " 3   Condition2     1459 non-null   object \n",
      " 4   BldgType       1459 non-null   object \n",
      " 5   HouseStyle     1459 non-null   object \n",
      " 6   Exterior1st    1458 non-null   object \n",
      " 7   Exterior2nd    1458 non-null   object \n",
      " 8   Foundation     1459 non-null   object \n",
      " 9   BsmtQual       1415 non-null   object \n",
      " 10  BsmtExposure   1415 non-null   object \n",
      " 11  BsmtFinType1   1417 non-null   object \n",
      " 12  BsmtFinType2   1417 non-null   object \n",
      " 13  HeatingQC      1459 non-null   object \n",
      " 14  CentralAir     1459 non-null   object \n",
      " 15  Electrical     1459 non-null   object \n",
      " 16  KitchenQual    1458 non-null   object \n",
      " 17  SaleType       1458 non-null   object \n",
      " 18  SaleCondition  1459 non-null   object \n",
      " 19  LotFrontage    1232 non-null   float64\n",
      " 20  LotArea        1459 non-null   int64  \n",
      " 21  BsmtFinSF1     1458 non-null   float64\n",
      " 22  1stFlrSF       1459 non-null   int64  \n",
      " 23  2ndFlrSF       1459 non-null   int64  \n",
      " 24  FullBath       1459 non-null   int64  \n",
      " 25  TotRmsAbvGrd   1459 non-null   int64  \n",
      " 26  3SsnPorch      1459 non-null   int64  \n",
      " 27  ScreenPorch    1459 non-null   int64  \n",
      " 28  PoolArea       1459 non-null   int64  \n",
      " 29  OverallQual    1459 non-null   int64  \n",
      " 30  OverallCond    1459 non-null   int64  \n",
      " 31  YearRemodAdd   1459 non-null   int64  \n",
      " 32  BsmtFinSF2     1458 non-null   float64\n",
      " 33  TotalBsmtSF    1458 non-null   float64\n",
      " 34  GarageCars     1458 non-null   float64\n",
      "dtypes: float64(5), int64(11), object(19)\n",
      "memory usage: 399.1+ KB\n"
     ]
    }
   ],
   "source": [
    "test_data = test_data[test_features]\n",
    "test_data.info()"
   ]
  },
  {
   "cell_type": "markdown",
   "metadata": {
    "papermill": {
     "duration": 0.04247,
     "end_time": "2022-04-07T00:38:43.924640",
     "exception": false,
     "start_time": "2022-04-07T00:38:43.882170",
     "status": "completed"
    },
    "tags": []
   },
   "source": [
    "# One Hot Encoding with Training Data "
   ]
  },
  {
   "cell_type": "code",
   "execution_count": 14,
   "metadata": {
    "execution": {
     "iopub.execute_input": "2022-04-07T00:38:44.013485Z",
     "iopub.status.busy": "2022-04-07T00:38:44.012844Z",
     "iopub.status.idle": "2022-04-07T00:38:44.048560Z",
     "shell.execute_reply": "2022-04-07T00:38:44.048023Z",
     "shell.execute_reply.started": "2022-04-07T00:34:13.103164Z"
    },
    "papermill": {
     "duration": 0.080859,
     "end_time": "2022-04-07T00:38:44.048725",
     "exception": false,
     "start_time": "2022-04-07T00:38:43.967866",
     "status": "completed"
    },
    "tags": []
   },
   "outputs": [],
   "source": [
    "from sklearn.preprocessing import OneHotEncoder"
   ]
  },
  {
   "cell_type": "code",
   "execution_count": 15,
   "metadata": {
    "execution": {
     "iopub.execute_input": "2022-04-07T00:38:44.140702Z",
     "iopub.status.busy": "2022-04-07T00:38:44.140013Z",
     "iopub.status.idle": "2022-04-07T00:38:44.334020Z",
     "shell.execute_reply": "2022-04-07T00:38:44.333441Z",
     "shell.execute_reply.started": "2022-04-07T00:34:13.119086Z"
    },
    "papermill": {
     "duration": 0.24273,
     "end_time": "2022-04-07T00:38:44.334172",
     "exception": false,
     "start_time": "2022-04-07T00:38:44.091442",
     "status": "completed"
    },
    "tags": []
   },
   "outputs": [
    {
     "name": "stderr",
     "output_type": "stream",
     "text": [
      "C:\\Users\\Abdelrahman\\AppData\\Roaming\\Python\\Python38\\site-packages\\pandas\\core\\frame.py:3641: PerformanceWarning: DataFrame is highly fragmented.  This is usually the result of calling `frame.insert` many times, which has poor performance.  Consider joining all columns at once using pd.concat(axis=1) instead.  To get a de-fragmented frame, use `newframe = frame.copy()`\n",
      "  self[k1] = value[k2]\n"
     ]
    },
    {
     "data": {
      "text/html": [
       "<div>\n",
       "<style scoped>\n",
       "    .dataframe tbody tr th:only-of-type {\n",
       "        vertical-align: middle;\n",
       "    }\n",
       "\n",
       "    .dataframe tbody tr th {\n",
       "        vertical-align: top;\n",
       "    }\n",
       "\n",
       "    .dataframe thead th {\n",
       "        text-align: right;\n",
       "    }\n",
       "</style>\n",
       "<table border=\"1\" class=\"dataframe\">\n",
       "  <thead>\n",
       "    <tr style=\"text-align: right;\">\n",
       "      <th></th>\n",
       "      <th>LotFrontage</th>\n",
       "      <th>LotArea</th>\n",
       "      <th>BsmtFinSF1</th>\n",
       "      <th>1stFlrSF</th>\n",
       "      <th>2ndFlrSF</th>\n",
       "      <th>FullBath</th>\n",
       "      <th>TotRmsAbvGrd</th>\n",
       "      <th>3SsnPorch</th>\n",
       "      <th>ScreenPorch</th>\n",
       "      <th>PoolArea</th>\n",
       "      <th>...</th>\n",
       "      <th>SaleType_ConLw</th>\n",
       "      <th>SaleType_New</th>\n",
       "      <th>SaleType_Oth</th>\n",
       "      <th>SaleType_WD</th>\n",
       "      <th>SaleCondition_Abnorml</th>\n",
       "      <th>SaleCondition_AdjLand</th>\n",
       "      <th>SaleCondition_Alloca</th>\n",
       "      <th>SaleCondition_Family</th>\n",
       "      <th>SaleCondition_Normal</th>\n",
       "      <th>SaleCondition_Partial</th>\n",
       "    </tr>\n",
       "    <tr>\n",
       "      <th>Id</th>\n",
       "      <th></th>\n",
       "      <th></th>\n",
       "      <th></th>\n",
       "      <th></th>\n",
       "      <th></th>\n",
       "      <th></th>\n",
       "      <th></th>\n",
       "      <th></th>\n",
       "      <th></th>\n",
       "      <th></th>\n",
       "      <th></th>\n",
       "      <th></th>\n",
       "      <th></th>\n",
       "      <th></th>\n",
       "      <th></th>\n",
       "      <th></th>\n",
       "      <th></th>\n",
       "      <th></th>\n",
       "      <th></th>\n",
       "      <th></th>\n",
       "      <th></th>\n",
       "    </tr>\n",
       "  </thead>\n",
       "  <tbody>\n",
       "    <tr>\n",
       "      <th>1</th>\n",
       "      <td>65.0</td>\n",
       "      <td>8450</td>\n",
       "      <td>706</td>\n",
       "      <td>856</td>\n",
       "      <td>854</td>\n",
       "      <td>2</td>\n",
       "      <td>8</td>\n",
       "      <td>0</td>\n",
       "      <td>0</td>\n",
       "      <td>0</td>\n",
       "      <td>...</td>\n",
       "      <td>0.0</td>\n",
       "      <td>0.0</td>\n",
       "      <td>0.0</td>\n",
       "      <td>1.0</td>\n",
       "      <td>0.0</td>\n",
       "      <td>0.0</td>\n",
       "      <td>0.0</td>\n",
       "      <td>0.0</td>\n",
       "      <td>1.0</td>\n",
       "      <td>0.0</td>\n",
       "    </tr>\n",
       "    <tr>\n",
       "      <th>2</th>\n",
       "      <td>80.0</td>\n",
       "      <td>9600</td>\n",
       "      <td>978</td>\n",
       "      <td>1262</td>\n",
       "      <td>0</td>\n",
       "      <td>2</td>\n",
       "      <td>6</td>\n",
       "      <td>0</td>\n",
       "      <td>0</td>\n",
       "      <td>0</td>\n",
       "      <td>...</td>\n",
       "      <td>0.0</td>\n",
       "      <td>0.0</td>\n",
       "      <td>0.0</td>\n",
       "      <td>1.0</td>\n",
       "      <td>0.0</td>\n",
       "      <td>0.0</td>\n",
       "      <td>0.0</td>\n",
       "      <td>0.0</td>\n",
       "      <td>1.0</td>\n",
       "      <td>0.0</td>\n",
       "    </tr>\n",
       "    <tr>\n",
       "      <th>3</th>\n",
       "      <td>68.0</td>\n",
       "      <td>11250</td>\n",
       "      <td>486</td>\n",
       "      <td>920</td>\n",
       "      <td>866</td>\n",
       "      <td>2</td>\n",
       "      <td>6</td>\n",
       "      <td>0</td>\n",
       "      <td>0</td>\n",
       "      <td>0</td>\n",
       "      <td>...</td>\n",
       "      <td>0.0</td>\n",
       "      <td>0.0</td>\n",
       "      <td>0.0</td>\n",
       "      <td>1.0</td>\n",
       "      <td>1.0</td>\n",
       "      <td>0.0</td>\n",
       "      <td>0.0</td>\n",
       "      <td>0.0</td>\n",
       "      <td>0.0</td>\n",
       "      <td>0.0</td>\n",
       "    </tr>\n",
       "    <tr>\n",
       "      <th>4</th>\n",
       "      <td>60.0</td>\n",
       "      <td>9550</td>\n",
       "      <td>216</td>\n",
       "      <td>961</td>\n",
       "      <td>756</td>\n",
       "      <td>1</td>\n",
       "      <td>7</td>\n",
       "      <td>0</td>\n",
       "      <td>0</td>\n",
       "      <td>0</td>\n",
       "      <td>...</td>\n",
       "      <td>0.0</td>\n",
       "      <td>0.0</td>\n",
       "      <td>0.0</td>\n",
       "      <td>1.0</td>\n",
       "      <td>0.0</td>\n",
       "      <td>0.0</td>\n",
       "      <td>0.0</td>\n",
       "      <td>0.0</td>\n",
       "      <td>1.0</td>\n",
       "      <td>0.0</td>\n",
       "    </tr>\n",
       "    <tr>\n",
       "      <th>5</th>\n",
       "      <td>84.0</td>\n",
       "      <td>14260</td>\n",
       "      <td>655</td>\n",
       "      <td>1145</td>\n",
       "      <td>1053</td>\n",
       "      <td>2</td>\n",
       "      <td>9</td>\n",
       "      <td>0</td>\n",
       "      <td>0</td>\n",
       "      <td>0</td>\n",
       "      <td>...</td>\n",
       "      <td>0.0</td>\n",
       "      <td>0.0</td>\n",
       "      <td>0.0</td>\n",
       "      <td>1.0</td>\n",
       "      <td>0.0</td>\n",
       "      <td>0.0</td>\n",
       "      <td>0.0</td>\n",
       "      <td>0.0</td>\n",
       "      <td>1.0</td>\n",
       "      <td>0.0</td>\n",
       "    </tr>\n",
       "  </tbody>\n",
       "</table>\n",
       "<p>5 rows × 162 columns</p>\n",
       "</div>"
      ],
      "text/plain": [
       "    LotFrontage  LotArea  BsmtFinSF1  1stFlrSF  2ndFlrSF  FullBath  \\\n",
       "Id                                                                   \n",
       "1          65.0     8450         706       856       854         2   \n",
       "2          80.0     9600         978      1262         0         2   \n",
       "3          68.0    11250         486       920       866         2   \n",
       "4          60.0     9550         216       961       756         1   \n",
       "5          84.0    14260         655      1145      1053         2   \n",
       "\n",
       "    TotRmsAbvGrd  3SsnPorch  ScreenPorch  PoolArea  ...  SaleType_ConLw  \\\n",
       "Id                                                  ...                   \n",
       "1              8          0            0         0  ...             0.0   \n",
       "2              6          0            0         0  ...             0.0   \n",
       "3              6          0            0         0  ...             0.0   \n",
       "4              7          0            0         0  ...             0.0   \n",
       "5              9          0            0         0  ...             0.0   \n",
       "\n",
       "    SaleType_New  SaleType_Oth  SaleType_WD  SaleCondition_Abnorml  \\\n",
       "Id                                                                   \n",
       "1            0.0           0.0          1.0                    0.0   \n",
       "2            0.0           0.0          1.0                    0.0   \n",
       "3            0.0           0.0          1.0                    1.0   \n",
       "4            0.0           0.0          1.0                    0.0   \n",
       "5            0.0           0.0          1.0                    0.0   \n",
       "\n",
       "    SaleCondition_AdjLand  SaleCondition_Alloca  SaleCondition_Family  \\\n",
       "Id                                                                      \n",
       "1                     0.0                   0.0                   0.0   \n",
       "2                     0.0                   0.0                   0.0   \n",
       "3                     0.0                   0.0                   0.0   \n",
       "4                     0.0                   0.0                   0.0   \n",
       "5                     0.0                   0.0                   0.0   \n",
       "\n",
       "    SaleCondition_Normal  SaleCondition_Partial  \n",
       "Id                                               \n",
       "1                    1.0                    0.0  \n",
       "2                    1.0                    0.0  \n",
       "3                    0.0                    0.0  \n",
       "4                    1.0                    0.0  \n",
       "5                    1.0                    0.0  \n",
       "\n",
       "[5 rows x 162 columns]"
      ]
     },
     "execution_count": 15,
     "metadata": {},
     "output_type": "execute_result"
    }
   ],
   "source": [
    "Encode_features = OneHotEncoder(sparse=False)\n",
    "features = pd.DataFrame(Encode_features.fit_transform(train_features[categorical_feature] ))\n",
    "features.columns = Encode_features.get_feature_names(categorical_feature)\n",
    "# train_features = pd.concat([train_features , pd.DataFrame(features)],axis=1)\n",
    "train_features[features.columns] = features\n",
    "train_features = train_features.drop(train_features[categorical_feature] ,axis =1)\n",
    "train_features = train_features.dropna()\n",
    "train_features.head()"
   ]
  },
  {
   "cell_type": "markdown",
   "metadata": {
    "papermill": {
     "duration": 0.043689,
     "end_time": "2022-04-07T00:38:44.424817",
     "exception": false,
     "start_time": "2022-04-07T00:38:44.381128",
     "status": "completed"
    },
    "tags": []
   },
   "source": [
    "# Split SalePrice As label"
   ]
  },
  {
   "cell_type": "code",
   "execution_count": 16,
   "metadata": {
    "execution": {
     "iopub.execute_input": "2022-04-07T00:38:44.518975Z",
     "iopub.status.busy": "2022-04-07T00:38:44.518318Z",
     "iopub.status.idle": "2022-04-07T00:38:44.521213Z",
     "shell.execute_reply": "2022-04-07T00:38:44.520684Z",
     "shell.execute_reply.started": "2022-04-07T00:34:13.319739Z"
    },
    "papermill": {
     "duration": 0.053306,
     "end_time": "2022-04-07T00:38:44.521351",
     "exception": false,
     "start_time": "2022-04-07T00:38:44.468045",
     "status": "completed"
    },
    "tags": []
   },
   "outputs": [],
   "source": [
    "train_labels = train_features.SalePrice\n",
    "train_features.drop(['SalePrice'], axis=1, inplace=True)"
   ]
  },
  {
   "cell_type": "markdown",
   "metadata": {
    "papermill": {
     "duration": 0.043613,
     "end_time": "2022-04-07T00:38:44.608453",
     "exception": false,
     "start_time": "2022-04-07T00:38:44.564840",
     "status": "completed"
    },
    "tags": []
   },
   "source": [
    "# One Hot Encoding test Data"
   ]
  },
  {
   "cell_type": "code",
   "execution_count": 17,
   "metadata": {
    "execution": {
     "iopub.execute_input": "2022-04-07T00:38:44.699752Z",
     "iopub.status.busy": "2022-04-07T00:38:44.699069Z",
     "iopub.status.idle": "2022-04-07T00:38:44.711742Z",
     "shell.execute_reply": "2022-04-07T00:38:44.712446Z",
     "shell.execute_reply.started": "2022-04-07T00:34:13.327405Z"
    },
    "papermill": {
     "duration": 0.060652,
     "end_time": "2022-04-07T00:38:44.712692",
     "exception": false,
     "start_time": "2022-04-07T00:38:44.652040",
     "status": "completed"
    },
    "tags": []
   },
   "outputs": [
    {
     "name": "stdout",
     "output_type": "stream",
     "text": [
      "<class 'pandas.core.frame.DataFrame'>\n",
      "RangeIndex: 1459 entries, 0 to 1458\n",
      "Data columns (total 16 columns):\n",
      " #   Column        Non-Null Count  Dtype  \n",
      "---  ------        --------------  -----  \n",
      " 0   LotFrontage   1232 non-null   float64\n",
      " 1   LotArea       1459 non-null   int64  \n",
      " 2   BsmtFinSF1    1458 non-null   float64\n",
      " 3   1stFlrSF      1459 non-null   int64  \n",
      " 4   2ndFlrSF      1459 non-null   int64  \n",
      " 5   FullBath      1459 non-null   int64  \n",
      " 6   TotRmsAbvGrd  1459 non-null   int64  \n",
      " 7   3SsnPorch     1459 non-null   int64  \n",
      " 8   ScreenPorch   1459 non-null   int64  \n",
      " 9   PoolArea      1459 non-null   int64  \n",
      " 10  OverallQual   1459 non-null   int64  \n",
      " 11  OverallCond   1459 non-null   int64  \n",
      " 12  YearRemodAdd  1459 non-null   int64  \n",
      " 13  BsmtFinSF2    1458 non-null   float64\n",
      " 14  TotalBsmtSF   1458 non-null   float64\n",
      " 15  GarageCars    1458 non-null   float64\n",
      "dtypes: float64(5), int64(11)\n",
      "memory usage: 182.5 KB\n"
     ]
    }
   ],
   "source": [
    "test_data[numerical_feature].info()"
   ]
  },
  {
   "cell_type": "code",
   "execution_count": 18,
   "metadata": {
    "execution": {
     "iopub.execute_input": "2022-04-07T00:38:44.804652Z",
     "iopub.status.busy": "2022-04-07T00:38:44.803933Z",
     "iopub.status.idle": "2022-04-07T00:38:44.806477Z",
     "shell.execute_reply": "2022-04-07T00:38:44.807034Z",
     "shell.execute_reply.started": "2022-04-07T00:34:13.357514Z"
    },
    "papermill": {
     "duration": 0.049513,
     "end_time": "2022-04-07T00:38:44.807201",
     "exception": false,
     "start_time": "2022-04-07T00:38:44.757688",
     "status": "completed"
    },
    "tags": []
   },
   "outputs": [],
   "source": [
    "# test_data = test_data.fillna(0)\n",
    "# test_data.shape"
   ]
  },
  {
   "cell_type": "code",
   "execution_count": 19,
   "metadata": {
    "execution": {
     "iopub.execute_input": "2022-04-07T00:38:44.899122Z",
     "iopub.status.busy": "2022-04-07T00:38:44.898465Z",
     "iopub.status.idle": "2022-04-07T00:38:44.934052Z",
     "shell.execute_reply": "2022-04-07T00:38:44.934820Z",
     "shell.execute_reply.started": "2022-04-07T00:34:13.363384Z"
    },
    "papermill": {
     "duration": 0.083492,
     "end_time": "2022-04-07T00:38:44.935049",
     "exception": false,
     "start_time": "2022-04-07T00:38:44.851557",
     "status": "completed"
    },
    "tags": []
   },
   "outputs": [
    {
     "ename": "ValueError",
     "evalue": "Input contains NaN",
     "output_type": "error",
     "traceback": [
      "\u001b[1;31m---------------------------------------------------------------------------\u001b[0m",
      "\u001b[1;31mValueError\u001b[0m                                Traceback (most recent call last)",
      "\u001b[1;32m<ipython-input-19-6d4a5dc6f180>\u001b[0m in \u001b[0;36m<module>\u001b[1;34m\u001b[0m\n\u001b[0;32m      3\u001b[0m \u001b[1;31m# test_data = test_data.fillna(value = test_data.mode())\u001b[0m\u001b[1;33m\u001b[0m\u001b[1;33m\u001b[0m\u001b[1;33m\u001b[0m\u001b[0m\n\u001b[0;32m      4\u001b[0m \u001b[1;33m\u001b[0m\u001b[0m\n\u001b[1;32m----> 5\u001b[1;33m \u001b[0mt\u001b[0m \u001b[1;33m=\u001b[0m \u001b[0mpd\u001b[0m\u001b[1;33m.\u001b[0m\u001b[0mDataFrame\u001b[0m\u001b[1;33m(\u001b[0m\u001b[0mEncode_features\u001b[0m\u001b[1;33m.\u001b[0m\u001b[0mfit_transform\u001b[0m\u001b[1;33m(\u001b[0m\u001b[0mtest_data\u001b[0m\u001b[1;33m[\u001b[0m\u001b[0mcategorical_feature\u001b[0m\u001b[1;33m]\u001b[0m \u001b[1;33m)\u001b[0m\u001b[1;33m)\u001b[0m\u001b[1;33m\u001b[0m\u001b[1;33m\u001b[0m\u001b[0m\n\u001b[0m\u001b[0;32m      6\u001b[0m \u001b[0mt\u001b[0m\u001b[1;33m.\u001b[0m\u001b[0mcolumns\u001b[0m \u001b[1;33m=\u001b[0m \u001b[0mEncode_features\u001b[0m\u001b[1;33m.\u001b[0m\u001b[0mget_feature_names\u001b[0m\u001b[1;33m(\u001b[0m\u001b[0mcategorical_feature\u001b[0m\u001b[1;33m)\u001b[0m\u001b[1;33m\u001b[0m\u001b[1;33m\u001b[0m\u001b[0m\n\u001b[0;32m      7\u001b[0m \u001b[0mtest_data\u001b[0m \u001b[1;33m=\u001b[0m \u001b[0mpd\u001b[0m\u001b[1;33m.\u001b[0m\u001b[0mconcat\u001b[0m\u001b[1;33m(\u001b[0m\u001b[1;33m[\u001b[0m\u001b[0mtest_data\u001b[0m \u001b[1;33m,\u001b[0m \u001b[0mpd\u001b[0m\u001b[1;33m.\u001b[0m\u001b[0mDataFrame\u001b[0m\u001b[1;33m(\u001b[0m\u001b[0mt\u001b[0m\u001b[1;33m)\u001b[0m\u001b[1;33m]\u001b[0m\u001b[1;33m,\u001b[0m\u001b[0maxis\u001b[0m\u001b[1;33m=\u001b[0m\u001b[1;36m1\u001b[0m\u001b[1;33m)\u001b[0m\u001b[1;33m\u001b[0m\u001b[1;33m\u001b[0m\u001b[0m\n",
      "\u001b[1;32m~\\anaconda3\\lib\\site-packages\\sklearn\\preprocessing\\_encoders.py\u001b[0m in \u001b[0;36mfit_transform\u001b[1;34m(self, X, y)\u001b[0m\n\u001b[0;32m    408\u001b[0m         \"\"\"\n\u001b[0;32m    409\u001b[0m         \u001b[0mself\u001b[0m\u001b[1;33m.\u001b[0m\u001b[0m_validate_keywords\u001b[0m\u001b[1;33m(\u001b[0m\u001b[1;33m)\u001b[0m\u001b[1;33m\u001b[0m\u001b[1;33m\u001b[0m\u001b[0m\n\u001b[1;32m--> 410\u001b[1;33m         \u001b[1;32mreturn\u001b[0m \u001b[0msuper\u001b[0m\u001b[1;33m(\u001b[0m\u001b[1;33m)\u001b[0m\u001b[1;33m.\u001b[0m\u001b[0mfit_transform\u001b[0m\u001b[1;33m(\u001b[0m\u001b[0mX\u001b[0m\u001b[1;33m,\u001b[0m \u001b[0my\u001b[0m\u001b[1;33m)\u001b[0m\u001b[1;33m\u001b[0m\u001b[1;33m\u001b[0m\u001b[0m\n\u001b[0m\u001b[0;32m    411\u001b[0m \u001b[1;33m\u001b[0m\u001b[0m\n\u001b[0;32m    412\u001b[0m     \u001b[1;32mdef\u001b[0m \u001b[0mtransform\u001b[0m\u001b[1;33m(\u001b[0m\u001b[0mself\u001b[0m\u001b[1;33m,\u001b[0m \u001b[0mX\u001b[0m\u001b[1;33m)\u001b[0m\u001b[1;33m:\u001b[0m\u001b[1;33m\u001b[0m\u001b[1;33m\u001b[0m\u001b[0m\n",
      "\u001b[1;32m~\\anaconda3\\lib\\site-packages\\sklearn\\base.py\u001b[0m in \u001b[0;36mfit_transform\u001b[1;34m(self, X, y, **fit_params)\u001b[0m\n\u001b[0;32m    688\u001b[0m         \u001b[1;32mif\u001b[0m \u001b[0my\u001b[0m \u001b[1;32mis\u001b[0m \u001b[1;32mNone\u001b[0m\u001b[1;33m:\u001b[0m\u001b[1;33m\u001b[0m\u001b[1;33m\u001b[0m\u001b[0m\n\u001b[0;32m    689\u001b[0m             \u001b[1;31m# fit method of arity 1 (unsupervised transformation)\u001b[0m\u001b[1;33m\u001b[0m\u001b[1;33m\u001b[0m\u001b[1;33m\u001b[0m\u001b[0m\n\u001b[1;32m--> 690\u001b[1;33m             \u001b[1;32mreturn\u001b[0m \u001b[0mself\u001b[0m\u001b[1;33m.\u001b[0m\u001b[0mfit\u001b[0m\u001b[1;33m(\u001b[0m\u001b[0mX\u001b[0m\u001b[1;33m,\u001b[0m \u001b[1;33m**\u001b[0m\u001b[0mfit_params\u001b[0m\u001b[1;33m)\u001b[0m\u001b[1;33m.\u001b[0m\u001b[0mtransform\u001b[0m\u001b[1;33m(\u001b[0m\u001b[0mX\u001b[0m\u001b[1;33m)\u001b[0m\u001b[1;33m\u001b[0m\u001b[1;33m\u001b[0m\u001b[0m\n\u001b[0m\u001b[0;32m    691\u001b[0m         \u001b[1;32melse\u001b[0m\u001b[1;33m:\u001b[0m\u001b[1;33m\u001b[0m\u001b[1;33m\u001b[0m\u001b[0m\n\u001b[0;32m    692\u001b[0m             \u001b[1;31m# fit method of arity 2 (supervised transformation)\u001b[0m\u001b[1;33m\u001b[0m\u001b[1;33m\u001b[0m\u001b[1;33m\u001b[0m\u001b[0m\n",
      "\u001b[1;32m~\\anaconda3\\lib\\site-packages\\sklearn\\preprocessing\\_encoders.py\u001b[0m in \u001b[0;36mfit\u001b[1;34m(self, X, y)\u001b[0m\n\u001b[0;32m    383\u001b[0m         \"\"\"\n\u001b[0;32m    384\u001b[0m         \u001b[0mself\u001b[0m\u001b[1;33m.\u001b[0m\u001b[0m_validate_keywords\u001b[0m\u001b[1;33m(\u001b[0m\u001b[1;33m)\u001b[0m\u001b[1;33m\u001b[0m\u001b[1;33m\u001b[0m\u001b[0m\n\u001b[1;32m--> 385\u001b[1;33m         \u001b[0mself\u001b[0m\u001b[1;33m.\u001b[0m\u001b[0m_fit\u001b[0m\u001b[1;33m(\u001b[0m\u001b[0mX\u001b[0m\u001b[1;33m,\u001b[0m \u001b[0mhandle_unknown\u001b[0m\u001b[1;33m=\u001b[0m\u001b[0mself\u001b[0m\u001b[1;33m.\u001b[0m\u001b[0mhandle_unknown\u001b[0m\u001b[1;33m)\u001b[0m\u001b[1;33m\u001b[0m\u001b[1;33m\u001b[0m\u001b[0m\n\u001b[0m\u001b[0;32m    386\u001b[0m         \u001b[0mself\u001b[0m\u001b[1;33m.\u001b[0m\u001b[0mdrop_idx_\u001b[0m \u001b[1;33m=\u001b[0m \u001b[0mself\u001b[0m\u001b[1;33m.\u001b[0m\u001b[0m_compute_drop_idx\u001b[0m\u001b[1;33m(\u001b[0m\u001b[1;33m)\u001b[0m\u001b[1;33m\u001b[0m\u001b[1;33m\u001b[0m\u001b[0m\n\u001b[0;32m    387\u001b[0m         \u001b[1;32mreturn\u001b[0m \u001b[0mself\u001b[0m\u001b[1;33m\u001b[0m\u001b[1;33m\u001b[0m\u001b[0m\n",
      "\u001b[1;32m~\\anaconda3\\lib\\site-packages\\sklearn\\preprocessing\\_encoders.py\u001b[0m in \u001b[0;36m_fit\u001b[1;34m(self, X, handle_unknown)\u001b[0m\n\u001b[0;32m     72\u001b[0m \u001b[1;33m\u001b[0m\u001b[0m\n\u001b[0;32m     73\u001b[0m     \u001b[1;32mdef\u001b[0m \u001b[0m_fit\u001b[0m\u001b[1;33m(\u001b[0m\u001b[0mself\u001b[0m\u001b[1;33m,\u001b[0m \u001b[0mX\u001b[0m\u001b[1;33m,\u001b[0m \u001b[0mhandle_unknown\u001b[0m\u001b[1;33m=\u001b[0m\u001b[1;34m'error'\u001b[0m\u001b[1;33m)\u001b[0m\u001b[1;33m:\u001b[0m\u001b[1;33m\u001b[0m\u001b[1;33m\u001b[0m\u001b[0m\n\u001b[1;32m---> 74\u001b[1;33m         \u001b[0mX_list\u001b[0m\u001b[1;33m,\u001b[0m \u001b[0mn_samples\u001b[0m\u001b[1;33m,\u001b[0m \u001b[0mn_features\u001b[0m \u001b[1;33m=\u001b[0m \u001b[0mself\u001b[0m\u001b[1;33m.\u001b[0m\u001b[0m_check_X\u001b[0m\u001b[1;33m(\u001b[0m\u001b[0mX\u001b[0m\u001b[1;33m)\u001b[0m\u001b[1;33m\u001b[0m\u001b[1;33m\u001b[0m\u001b[0m\n\u001b[0m\u001b[0;32m     75\u001b[0m \u001b[1;33m\u001b[0m\u001b[0m\n\u001b[0;32m     76\u001b[0m         \u001b[1;32mif\u001b[0m \u001b[0mself\u001b[0m\u001b[1;33m.\u001b[0m\u001b[0mcategories\u001b[0m \u001b[1;33m!=\u001b[0m \u001b[1;34m'auto'\u001b[0m\u001b[1;33m:\u001b[0m\u001b[1;33m\u001b[0m\u001b[1;33m\u001b[0m\u001b[0m\n",
      "\u001b[1;32m~\\anaconda3\\lib\\site-packages\\sklearn\\preprocessing\\_encoders.py\u001b[0m in \u001b[0;36m_check_X\u001b[1;34m(self, X)\u001b[0m\n\u001b[0;32m     58\u001b[0m         \u001b[1;32mfor\u001b[0m \u001b[0mi\u001b[0m \u001b[1;32min\u001b[0m \u001b[0mrange\u001b[0m\u001b[1;33m(\u001b[0m\u001b[0mn_features\u001b[0m\u001b[1;33m)\u001b[0m\u001b[1;33m:\u001b[0m\u001b[1;33m\u001b[0m\u001b[1;33m\u001b[0m\u001b[0m\n\u001b[0;32m     59\u001b[0m             \u001b[0mXi\u001b[0m \u001b[1;33m=\u001b[0m \u001b[0mself\u001b[0m\u001b[1;33m.\u001b[0m\u001b[0m_get_feature\u001b[0m\u001b[1;33m(\u001b[0m\u001b[0mX\u001b[0m\u001b[1;33m,\u001b[0m \u001b[0mfeature_idx\u001b[0m\u001b[1;33m=\u001b[0m\u001b[0mi\u001b[0m\u001b[1;33m)\u001b[0m\u001b[1;33m\u001b[0m\u001b[1;33m\u001b[0m\u001b[0m\n\u001b[1;32m---> 60\u001b[1;33m             Xi = check_array(Xi, ensure_2d=False, dtype=None,\n\u001b[0m\u001b[0;32m     61\u001b[0m                              force_all_finite=needs_validation)\n\u001b[0;32m     62\u001b[0m             \u001b[0mX_columns\u001b[0m\u001b[1;33m.\u001b[0m\u001b[0mappend\u001b[0m\u001b[1;33m(\u001b[0m\u001b[0mXi\u001b[0m\u001b[1;33m)\u001b[0m\u001b[1;33m\u001b[0m\u001b[1;33m\u001b[0m\u001b[0m\n",
      "\u001b[1;32m~\\anaconda3\\lib\\site-packages\\sklearn\\utils\\validation.py\u001b[0m in \u001b[0;36minner_f\u001b[1;34m(*args, **kwargs)\u001b[0m\n\u001b[0;32m     70\u001b[0m                           FutureWarning)\n\u001b[0;32m     71\u001b[0m         \u001b[0mkwargs\u001b[0m\u001b[1;33m.\u001b[0m\u001b[0mupdate\u001b[0m\u001b[1;33m(\u001b[0m\u001b[1;33m{\u001b[0m\u001b[0mk\u001b[0m\u001b[1;33m:\u001b[0m \u001b[0marg\u001b[0m \u001b[1;32mfor\u001b[0m \u001b[0mk\u001b[0m\u001b[1;33m,\u001b[0m \u001b[0marg\u001b[0m \u001b[1;32min\u001b[0m \u001b[0mzip\u001b[0m\u001b[1;33m(\u001b[0m\u001b[0msig\u001b[0m\u001b[1;33m.\u001b[0m\u001b[0mparameters\u001b[0m\u001b[1;33m,\u001b[0m \u001b[0margs\u001b[0m\u001b[1;33m)\u001b[0m\u001b[1;33m}\u001b[0m\u001b[1;33m)\u001b[0m\u001b[1;33m\u001b[0m\u001b[1;33m\u001b[0m\u001b[0m\n\u001b[1;32m---> 72\u001b[1;33m         \u001b[1;32mreturn\u001b[0m \u001b[0mf\u001b[0m\u001b[1;33m(\u001b[0m\u001b[1;33m**\u001b[0m\u001b[0mkwargs\u001b[0m\u001b[1;33m)\u001b[0m\u001b[1;33m\u001b[0m\u001b[1;33m\u001b[0m\u001b[0m\n\u001b[0m\u001b[0;32m     73\u001b[0m     \u001b[1;32mreturn\u001b[0m \u001b[0minner_f\u001b[0m\u001b[1;33m\u001b[0m\u001b[1;33m\u001b[0m\u001b[0m\n\u001b[0;32m     74\u001b[0m \u001b[1;33m\u001b[0m\u001b[0m\n",
      "\u001b[1;32m~\\anaconda3\\lib\\site-packages\\sklearn\\utils\\validation.py\u001b[0m in \u001b[0;36mcheck_array\u001b[1;34m(array, accept_sparse, accept_large_sparse, dtype, order, copy, force_all_finite, ensure_2d, allow_nd, ensure_min_samples, ensure_min_features, estimator)\u001b[0m\n\u001b[0;32m    642\u001b[0m \u001b[1;33m\u001b[0m\u001b[0m\n\u001b[0;32m    643\u001b[0m         \u001b[1;32mif\u001b[0m \u001b[0mforce_all_finite\u001b[0m\u001b[1;33m:\u001b[0m\u001b[1;33m\u001b[0m\u001b[1;33m\u001b[0m\u001b[0m\n\u001b[1;32m--> 644\u001b[1;33m             _assert_all_finite(array,\n\u001b[0m\u001b[0;32m    645\u001b[0m                                allow_nan=force_all_finite == 'allow-nan')\n\u001b[0;32m    646\u001b[0m \u001b[1;33m\u001b[0m\u001b[0m\n",
      "\u001b[1;32m~\\anaconda3\\lib\\site-packages\\sklearn\\utils\\validation.py\u001b[0m in \u001b[0;36m_assert_all_finite\u001b[1;34m(X, allow_nan, msg_dtype)\u001b[0m\n\u001b[0;32m    102\u001b[0m     \u001b[1;32melif\u001b[0m \u001b[0mX\u001b[0m\u001b[1;33m.\u001b[0m\u001b[0mdtype\u001b[0m \u001b[1;33m==\u001b[0m \u001b[0mnp\u001b[0m\u001b[1;33m.\u001b[0m\u001b[0mdtype\u001b[0m\u001b[1;33m(\u001b[0m\u001b[1;34m'object'\u001b[0m\u001b[1;33m)\u001b[0m \u001b[1;32mand\u001b[0m \u001b[1;32mnot\u001b[0m \u001b[0mallow_nan\u001b[0m\u001b[1;33m:\u001b[0m\u001b[1;33m\u001b[0m\u001b[1;33m\u001b[0m\u001b[0m\n\u001b[0;32m    103\u001b[0m         \u001b[1;32mif\u001b[0m \u001b[0m_object_dtype_isnan\u001b[0m\u001b[1;33m(\u001b[0m\u001b[0mX\u001b[0m\u001b[1;33m)\u001b[0m\u001b[1;33m.\u001b[0m\u001b[0many\u001b[0m\u001b[1;33m(\u001b[0m\u001b[1;33m)\u001b[0m\u001b[1;33m:\u001b[0m\u001b[1;33m\u001b[0m\u001b[1;33m\u001b[0m\u001b[0m\n\u001b[1;32m--> 104\u001b[1;33m             \u001b[1;32mraise\u001b[0m \u001b[0mValueError\u001b[0m\u001b[1;33m(\u001b[0m\u001b[1;34m\"Input contains NaN\"\u001b[0m\u001b[1;33m)\u001b[0m\u001b[1;33m\u001b[0m\u001b[1;33m\u001b[0m\u001b[0m\n\u001b[0m\u001b[0;32m    105\u001b[0m \u001b[1;33m\u001b[0m\u001b[0m\n\u001b[0;32m    106\u001b[0m \u001b[1;33m\u001b[0m\u001b[0m\n",
      "\u001b[1;31mValueError\u001b[0m: Input contains NaN"
     ]
    }
   ],
   "source": [
    "# Clean test Data\n",
    "# test_data = test_data[test_features]\n",
    "# test_data = test_data.fillna(value = test_data.mode())\n",
    "\n",
    "t = pd.DataFrame(Encode_features.fit_transform(test_data[categorical_feature] ))\n",
    "t.columns = Encode_features.get_feature_names(categorical_feature)\n",
    "test_data = pd.concat([test_data , pd.DataFrame(t)],axis=1)\n",
    "test_data = test_data.drop(test_data[categorical_feature] ,axis =1)\n",
    "# test_data = test_data.fillna(0)\n",
    "# test_data = test_data.fillna(value = test_data.mode())"
   ]
  },
  {
   "cell_type": "code",
   "execution_count": 20,
   "metadata": {
    "execution": {
     "iopub.execute_input": "2022-04-07T00:38:45.029697Z",
     "iopub.status.busy": "2022-04-07T00:38:45.029005Z",
     "iopub.status.idle": "2022-04-07T00:38:45.033727Z",
     "shell.execute_reply": "2022-04-07T00:38:45.034217Z",
     "shell.execute_reply.started": "2022-04-07T00:34:13.407293Z"
    },
    "papermill": {
     "duration": 0.053104,
     "end_time": "2022-04-07T00:38:45.034382",
     "exception": false,
     "start_time": "2022-04-07T00:38:44.981278",
     "status": "completed"
    },
    "tags": []
   },
   "outputs": [
    {
     "data": {
      "text/plain": [
       "(1459, 35)"
      ]
     },
     "execution_count": 20,
     "metadata": {},
     "output_type": "execute_result"
    }
   ],
   "source": [
    "test_data.shape"
   ]
  },
  {
   "cell_type": "markdown",
   "metadata": {
    "papermill": {
     "duration": 0.044074,
     "end_time": "2022-04-07T00:38:45.124333",
     "exception": false,
     "start_time": "2022-04-07T00:38:45.080259",
     "status": "completed"
    },
    "tags": []
   },
   "source": [
    "# Take Common features between Train and Test"
   ]
  },
  {
   "cell_type": "code",
   "execution_count": 18,
   "metadata": {
    "execution": {
     "iopub.execute_input": "2022-04-07T00:38:45.218202Z",
     "iopub.status.busy": "2022-04-07T00:38:45.217497Z",
     "iopub.status.idle": "2022-04-07T00:38:45.220236Z",
     "shell.execute_reply": "2022-04-07T00:38:45.220732Z",
     "shell.execute_reply.started": "2022-04-07T00:34:13.414506Z"
    },
    "papermill": {
     "duration": 0.050469,
     "end_time": "2022-04-07T00:38:45.220897",
     "exception": false,
     "start_time": "2022-04-07T00:38:45.170428",
     "status": "completed"
    },
    "tags": []
   },
   "outputs": [],
   "source": [
    "# common_cols = list(set(train_features.columns).intersection(test_data.columns))\n",
    "# train_features = train_features[common_cols]\n",
    "# test_data = test_data[common_cols]"
   ]
  },
  {
   "cell_type": "markdown",
   "metadata": {
    "papermill": {
     "duration": 0.044355,
     "end_time": "2022-04-07T00:38:45.311093",
     "exception": false,
     "start_time": "2022-04-07T00:38:45.266738",
     "status": "completed"
    },
    "tags": []
   },
   "source": [
    "## Split to train and validation"
   ]
  },
  {
   "cell_type": "code",
   "execution_count": 19,
   "metadata": {
    "execution": {
     "iopub.execute_input": "2022-04-07T00:38:45.403628Z",
     "iopub.status.busy": "2022-04-07T00:38:45.402912Z",
     "iopub.status.idle": "2022-04-07T00:38:45.407363Z",
     "shell.execute_reply": "2022-04-07T00:38:45.407916Z",
     "shell.execute_reply.started": "2022-04-07T00:34:13.426403Z"
    },
    "papermill": {
     "duration": 0.052343,
     "end_time": "2022-04-07T00:38:45.408119",
     "exception": false,
     "start_time": "2022-04-07T00:38:45.355776",
     "status": "completed"
    },
    "tags": []
   },
   "outputs": [],
   "source": [
    "validation_set = train_features.iloc[1100:]\n",
    "validation_labels = train_labels.iloc[1100:]\n",
    "\n",
    "train_features = train_features.iloc[0:1100]\n",
    "train_labels = train_labels.iloc[0:1100]\n"
   ]
  },
  {
   "cell_type": "code",
   "execution_count": 20,
   "metadata": {
    "execution": {
     "iopub.execute_input": "2022-04-07T00:38:45.500068Z",
     "iopub.status.busy": "2022-04-07T00:38:45.499396Z",
     "iopub.status.idle": "2022-04-07T00:38:45.504066Z",
     "shell.execute_reply": "2022-04-07T00:38:45.504536Z",
     "shell.execute_reply.started": "2022-04-07T00:34:13.439789Z"
    },
    "papermill": {
     "duration": 0.052084,
     "end_time": "2022-04-07T00:38:45.504748",
     "exception": false,
     "start_time": "2022-04-07T00:38:45.452664",
     "status": "completed"
    },
    "tags": []
   },
   "outputs": [
    {
     "data": {
      "text/plain": [
       "(357, 161)"
      ]
     },
     "execution_count": 20,
     "metadata": {},
     "output_type": "execute_result"
    }
   ],
   "source": [
    "validation_set.shape"
   ]
  },
  {
   "cell_type": "markdown",
   "metadata": {
    "papermill": {
     "duration": 0.04507,
     "end_time": "2022-04-07T00:38:45.595824",
     "exception": false,
     "start_time": "2022-04-07T00:38:45.550754",
     "status": "completed"
    },
    "tags": []
   },
   "source": [
    "# apply Linear Regression"
   ]
  },
  {
   "cell_type": "code",
   "execution_count": 21,
   "metadata": {
    "execution": {
     "iopub.execute_input": "2022-04-07T00:38:45.688784Z",
     "iopub.status.busy": "2022-04-07T00:38:45.688176Z",
     "iopub.status.idle": "2022-04-07T00:38:45.690996Z",
     "shell.execute_reply": "2022-04-07T00:38:45.691590Z",
     "shell.execute_reply.started": "2022-04-07T00:34:13.454688Z"
    },
    "papermill": {
     "duration": 0.05055,
     "end_time": "2022-04-07T00:38:45.691762",
     "exception": false,
     "start_time": "2022-04-07T00:38:45.641212",
     "status": "completed"
    },
    "tags": []
   },
   "outputs": [],
   "source": [
    "# from sklearn.linear_model import LinearRegression\n",
    "# reg = LinearRegression().fit(train_features, train_labels)\n",
    "# reg.score(train_features, train_labels)"
   ]
  },
  {
   "cell_type": "code",
   "execution_count": 22,
   "metadata": {
    "execution": {
     "iopub.execute_input": "2022-04-07T00:38:45.785330Z",
     "iopub.status.busy": "2022-04-07T00:38:45.784714Z",
     "iopub.status.idle": "2022-04-07T00:38:47.513605Z",
     "shell.execute_reply": "2022-04-07T00:38:47.513090Z",
     "shell.execute_reply.started": "2022-04-07T00:34:13.465680Z"
    },
    "papermill": {
     "duration": 1.776243,
     "end_time": "2022-04-07T00:38:47.513746",
     "exception": false,
     "start_time": "2022-04-07T00:38:45.737503",
     "status": "completed"
    },
    "tags": []
   },
   "outputs": [
    {
     "data": {
      "text/plain": [
       "RandomForestRegressor(max_depth=500, random_state=0)"
      ]
     },
     "execution_count": 22,
     "metadata": {},
     "output_type": "execute_result"
    }
   ],
   "source": [
    "\n",
    "from sklearn.ensemble import RandomForestRegressor\n",
    "reg = RandomForestRegressor(max_depth=500, random_state=0)\n",
    "reg.fit(train_features, train_labels)"
   ]
  },
  {
   "cell_type": "markdown",
   "metadata": {
    "papermill": {
     "duration": 0.045075,
     "end_time": "2022-04-07T00:38:47.604929",
     "exception": false,
     "start_time": "2022-04-07T00:38:47.559854",
     "status": "completed"
    },
    "tags": []
   },
   "source": [
    "# Graph of scores vs 10 Parameters"
   ]
  },
  {
   "cell_type": "code",
   "execution_count": 23,
   "metadata": {
    "execution": {
     "iopub.execute_input": "2022-04-07T00:38:47.698409Z",
     "iopub.status.busy": "2022-04-07T00:38:47.697767Z",
     "iopub.status.idle": "2022-04-07T00:38:47.700801Z",
     "shell.execute_reply": "2022-04-07T00:38:47.701296Z",
     "shell.execute_reply.started": "2022-04-07T00:34:15.075775Z"
    },
    "papermill": {
     "duration": 0.051428,
     "end_time": "2022-04-07T00:38:47.701471",
     "exception": false,
     "start_time": "2022-04-07T00:38:47.650043",
     "status": "completed"
    },
    "tags": []
   },
   "outputs": [],
   "source": [
    "# import matplotlib.pyplot as plt\n",
    "# listof_scores = []\n",
    "# list_of_paramters = [2 , 10 , 5 , 3 , 15 , 30 , 9 , 4 , 12 , 35]\n",
    "# for i in list_of_paramters:\n",
    "#     regrr = RandomForestRegressor(max_depth=i, random_state=0)\n",
    "#     regrr.fit(train_features, train_labels)\n",
    "#     listof_scores.append(regrr.score(validation_set, validation_labels))\n",
    "    \n",
    "# plt.plot(listof_scores)    \n",
    "# plt.xlabel(\"Score\")\n",
    "# plt.ylabel(\"parameter\")\n",
    "# plt.show"
   ]
  },
  {
   "cell_type": "code",
   "execution_count": 24,
   "metadata": {
    "execution": {
     "iopub.execute_input": "2022-04-07T00:38:47.797404Z",
     "iopub.status.busy": "2022-04-07T00:38:47.796784Z",
     "iopub.status.idle": "2022-04-07T00:38:47.799585Z",
     "shell.execute_reply": "2022-04-07T00:38:47.800152Z",
     "shell.execute_reply.started": "2022-04-07T00:34:25.266550Z"
    },
    "papermill": {
     "duration": 0.053334,
     "end_time": "2022-04-07T00:38:47.800325",
     "exception": false,
     "start_time": "2022-04-07T00:38:47.746991",
     "status": "completed"
    },
    "tags": []
   },
   "outputs": [],
   "source": [
    "# from sklearn.ensemble import GradientBoostingRegressor\n",
    "# reg = GradientBoostingRegressor(n_estimators=100, learning_rate=1.0,\n",
    "# max_depth=2, random_state=0).fit(train_features, train_labels)"
   ]
  },
  {
   "cell_type": "markdown",
   "metadata": {
    "papermill": {
     "duration": 0.044716,
     "end_time": "2022-04-07T00:38:47.890390",
     "exception": false,
     "start_time": "2022-04-07T00:38:47.845674",
     "status": "completed"
    },
    "tags": []
   },
   "source": [
    "# Graph of scores vs 10 alphas"
   ]
  },
  {
   "cell_type": "code",
   "execution_count": 25,
   "metadata": {
    "execution": {
     "iopub.execute_input": "2022-04-07T00:38:47.984525Z",
     "iopub.status.busy": "2022-04-07T00:38:47.983877Z",
     "iopub.status.idle": "2022-04-07T00:38:47.987198Z",
     "shell.execute_reply": "2022-04-07T00:38:47.987776Z",
     "shell.execute_reply.started": "2022-04-07T00:34:25.272924Z"
    },
    "papermill": {
     "duration": 0.052509,
     "end_time": "2022-04-07T00:38:47.987941",
     "exception": false,
     "start_time": "2022-04-07T00:38:47.935432",
     "status": "completed"
    },
    "tags": []
   },
   "outputs": [],
   "source": [
    "# from sklearn.ensemble import GradientBoostingRegressor\n",
    "# import matplotlib.pyplot as plt\n",
    "# listof_scores = []\n",
    "# list_of_alpha = [0.1 , 0.5 , 0.8 , 0.55 , 0.001 , 1.0 , 0.009 , 0.0004 , 0.2 , 0.6]\n",
    "# for i in list_of_alpha:\n",
    "#     regrr = GradientBoostingRegressor(n_estimators=100, learning_rate=i,\n",
    "#             max_depth=2, random_state=0).fit(train_features, train_labels)\n",
    "#     listof_scores.append(regrr.score(validation_set, validation_labels))\n",
    "    \n",
    "# plt.plot(listof_scores)    \n",
    "# plt.xlabel(\"Score\")\n",
    "# plt.ylabel(\"parameter\")\n",
    "# plt.show"
   ]
  },
  {
   "cell_type": "code",
   "execution_count": 26,
   "metadata": {
    "execution": {
     "iopub.execute_input": "2022-04-07T00:38:48.087738Z",
     "iopub.status.busy": "2022-04-07T00:38:48.087083Z",
     "iopub.status.idle": "2022-04-07T00:38:48.122928Z",
     "shell.execute_reply": "2022-04-07T00:38:48.123462Z",
     "shell.execute_reply.started": "2022-04-07T00:34:28.623269Z"
    },
    "papermill": {
     "duration": 0.089331,
     "end_time": "2022-04-07T00:38:48.123667",
     "exception": false,
     "start_time": "2022-04-07T00:38:48.034336",
     "status": "completed"
    },
    "tags": []
   },
   "outputs": [
    {
     "data": {
      "text/plain": [
       "0.9780103074604876"
      ]
     },
     "execution_count": 26,
     "metadata": {},
     "output_type": "execute_result"
    }
   ],
   "source": [
    "reg.score(train_features, train_labels)"
   ]
  },
  {
   "cell_type": "code",
   "execution_count": 27,
   "metadata": {
    "execution": {
     "iopub.execute_input": "2022-04-07T00:38:48.220931Z",
     "iopub.status.busy": "2022-04-07T00:38:48.220097Z",
     "iopub.status.idle": "2022-04-07T00:38:48.222845Z",
     "shell.execute_reply": "2022-04-07T00:38:48.223379Z",
     "shell.execute_reply.started": "2022-04-07T00:34:28.673738Z"
    },
    "papermill": {
     "duration": 0.053916,
     "end_time": "2022-04-07T00:38:48.223545",
     "exception": false,
     "start_time": "2022-04-07T00:38:48.169629",
     "status": "completed"
    },
    "tags": []
   },
   "outputs": [],
   "source": [
    "test_data = test_data.fillna(0)\n",
    "# np.nan_to_num(data)"
   ]
  },
  {
   "cell_type": "code",
   "execution_count": 28,
   "metadata": {
    "execution": {
     "iopub.execute_input": "2022-04-07T00:38:48.320329Z",
     "iopub.status.busy": "2022-04-07T00:38:48.319369Z",
     "iopub.status.idle": "2022-04-07T00:38:48.364464Z",
     "shell.execute_reply": "2022-04-07T00:38:48.365309Z",
     "shell.execute_reply.started": "2022-04-07T00:34:28.681792Z"
    },
    "papermill": {
     "duration": 0.094539,
     "end_time": "2022-04-07T00:38:48.365560",
     "exception": false,
     "start_time": "2022-04-07T00:38:48.271021",
     "status": "completed"
    },
    "tags": []
   },
   "outputs": [
    {
     "name": "stderr",
     "output_type": "stream",
     "text": [
      "/opt/conda/lib/python3.7/site-packages/sklearn/base.py:488: FutureWarning: The feature names should match those that were passed during fit. Starting version 1.2, an error will be raised.\n",
      "Feature names unseen at fit time:\n",
      "- BsmtExposure_nan\n",
      "- BsmtFinType1_nan\n",
      "- BsmtFinType2_nan\n",
      "- BsmtQual_nan\n",
      "- Exterior1st_nan\n",
      "- ...\n",
      "Feature names seen at fit time, yet now missing:\n",
      "- Condition2_RRAe\n",
      "- Condition2_RRAn\n",
      "- Condition2_RRNn\n",
      "- Electrical_Mix\n",
      "- Exterior1st_ImStucc\n",
      "- ...\n",
      "\n",
      "  warnings.warn(message, FutureWarning)\n"
     ]
    }
   ],
   "source": [
    "predection = reg.predict(test_data)"
   ]
  },
  {
   "cell_type": "code",
   "execution_count": 29,
   "metadata": {
    "execution": {
     "iopub.execute_input": "2022-04-07T00:38:48.463925Z",
     "iopub.status.busy": "2022-04-07T00:38:48.463297Z",
     "iopub.status.idle": "2022-04-07T00:38:48.469441Z",
     "shell.execute_reply": "2022-04-07T00:38:48.469971Z",
     "shell.execute_reply.started": "2022-04-07T00:34:28.735822Z"
    },
    "papermill": {
     "duration": 0.056128,
     "end_time": "2022-04-07T00:38:48.470143",
     "exception": false,
     "start_time": "2022-04-07T00:38:48.414015",
     "status": "completed"
    },
    "tags": []
   },
   "outputs": [],
   "source": [
    "predections = pd.DataFrame()\n",
    "predections['Id'] = Test_data_Id\n",
    "predections['SalePrice'] = predection[0:1459]\n"
   ]
  },
  {
   "cell_type": "code",
   "execution_count": 30,
   "metadata": {
    "execution": {
     "iopub.execute_input": "2022-04-07T00:38:48.567552Z",
     "iopub.status.busy": "2022-04-07T00:38:48.566604Z",
     "iopub.status.idle": "2022-04-07T00:38:48.572605Z",
     "shell.execute_reply": "2022-04-07T00:38:48.572073Z",
     "shell.execute_reply.started": "2022-04-07T00:34:28.747745Z"
    },
    "papermill": {
     "duration": 0.056242,
     "end_time": "2022-04-07T00:38:48.572758",
     "exception": false,
     "start_time": "2022-04-07T00:38:48.516516",
     "status": "completed"
    },
    "tags": []
   },
   "outputs": [
    {
     "data": {
      "text/plain": [
       "(1459, 2)"
      ]
     },
     "execution_count": 30,
     "metadata": {},
     "output_type": "execute_result"
    }
   ],
   "source": [
    "predections.shape"
   ]
  },
  {
   "cell_type": "code",
   "execution_count": 31,
   "metadata": {
    "execution": {
     "iopub.execute_input": "2022-04-07T00:38:48.670475Z",
     "iopub.status.busy": "2022-04-07T00:38:48.668891Z",
     "iopub.status.idle": "2022-04-07T00:38:48.681003Z",
     "shell.execute_reply": "2022-04-07T00:38:48.681505Z",
     "shell.execute_reply.started": "2022-04-07T00:34:28.763829Z"
    },
    "papermill": {
     "duration": 0.062482,
     "end_time": "2022-04-07T00:38:48.681693",
     "exception": false,
     "start_time": "2022-04-07T00:38:48.619211",
     "status": "completed"
    },
    "tags": []
   },
   "outputs": [],
   "source": [
    "predections.to_csv(\"predections.csv\", index=None, sep=\",\")"
   ]
  }
 ],
 "metadata": {
  "kernelspec": {
   "display_name": "Python 3",
   "language": "python",
   "name": "python3"
  },
  "language_info": {
   "codemirror_mode": {
    "name": "ipython",
    "version": 3
   },
   "file_extension": ".py",
   "mimetype": "text/x-python",
   "name": "python",
   "nbconvert_exporter": "python",
   "pygments_lexer": "ipython3",
   "version": "3.8.5"
  },
  "papermill": {
   "default_parameters": {},
   "duration": 18.621869,
   "end_time": "2022-04-07T00:38:49.438054",
   "environment_variables": {},
   "exception": null,
   "input_path": "__notebook__.ipynb",
   "output_path": "__notebook__.ipynb",
   "parameters": {},
   "start_time": "2022-04-07T00:38:30.816185",
   "version": "2.3.3"
  }
 },
 "nbformat": 4,
 "nbformat_minor": 5
}
