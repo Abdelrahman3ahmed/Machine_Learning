{
 "cells": [
  {
   "cell_type": "code",
   "execution_count": 1,
   "metadata": {
    "_cell_guid": "b1076dfc-b9ad-4769-8c92-a6c4dae69d19",
    "_uuid": "8f2839f25d086af736a60e9eeb907d3b93b6e0e5",
    "execution": {
     "iopub.execute_input": "2022-04-09T00:58:21.341158Z",
     "iopub.status.busy": "2022-04-09T00:58:21.340424Z",
     "iopub.status.idle": "2022-04-09T00:58:21.347043Z",
     "shell.execute_reply": "2022-04-09T00:58:21.346263Z",
     "shell.execute_reply.started": "2022-04-09T00:56:56.139494Z"
    },
    "papermill": {
     "duration": 0.055531,
     "end_time": "2022-04-09T00:58:21.347221",
     "exception": false,
     "start_time": "2022-04-09T00:58:21.291690",
     "status": "completed"
    },
    "tags": []
   },
   "outputs": [],
   "source": [
    "# This Python 3 environment comes with many helpful analytics libraries installed\n",
    "# It is defined by the kaggle/python Docker image: https://github.com/kaggle/docker-python\n",
    "# For example, here's several helpful packages to load\n",
    "\n",
    "import numpy as np # linear algebra\n",
    "import pandas as pd # data processing, CSV file I/O (e.g. pd.read_csv)\n",
    "\n",
    "# Input data files are available in the read-only \"../input/\" directory\n",
    "# For example, running this (by clicking run or pressing Shift+Enter) will list all files under the input directory\n",
    "\n",
    "import os\n",
    "for dirname, _, filenames in os.walk('/kaggle/input'):\n",
    "    for filename in filenames:\n",
    "        print(os.path.join(dirname, filename))\n",
    "\n",
    "# You can write up to 20GB to the current directory (/kaggle/working/) that gets preserved as output when you create a version using \"Save & Run All\" \n",
    "# You can also write temporary files to /kaggle/temp/, but they won't be saved outside of the current session"
   ]
  },
  {
   "cell_type": "markdown",
   "metadata": {
    "papermill": {
     "duration": 0.036526,
     "end_time": "2022-04-09T00:58:21.421530",
     "exception": false,
     "start_time": "2022-04-09T00:58:21.385004",
     "status": "completed"
    },
    "tags": []
   },
   "source": [
    "# Please, You should be careful when uncommeent cells to see the effect of this cells."
   ]
  },
  {
   "cell_type": "markdown",
   "metadata": {
    "papermill": {
     "duration": 0.037276,
     "end_time": "2022-04-09T00:58:21.495786",
     "exception": false,
     "start_time": "2022-04-09T00:58:21.458510",
     "status": "completed"
    },
    "tags": []
   },
   "source": [
    "# Data Exploring and Cleaning"
   ]
  },
  {
   "cell_type": "markdown",
   "metadata": {
    "papermill": {
     "duration": 0.036663,
     "end_time": "2022-04-09T00:58:21.570061",
     "exception": false,
     "start_time": "2022-04-09T00:58:21.533398",
     "status": "completed"
    },
    "tags": []
   },
   "source": [
    "## Read Data"
   ]
  },
  {
   "cell_type": "code",
   "execution_count": 2,
   "metadata": {
    "execution": {
     "iopub.execute_input": "2022-04-09T00:58:21.650349Z",
     "iopub.status.busy": "2022-04-09T00:58:21.649527Z",
     "iopub.status.idle": "2022-04-09T00:58:22.748325Z",
     "shell.execute_reply": "2022-04-09T00:58:22.747672Z",
     "shell.execute_reply.started": "2022-04-09T00:56:56.202904Z"
    },
    "papermill": {
     "duration": 1.141277,
     "end_time": "2022-04-09T00:58:22.748487",
     "exception": false,
     "start_time": "2022-04-09T00:58:21.607210",
     "status": "completed"
    },
    "tags": []
   },
   "outputs": [],
   "source": [
    "import sklearn as sk"
   ]
  },
  {
   "cell_type": "code",
   "execution_count": 3,
   "metadata": {
    "execution": {
     "iopub.execute_input": "2022-04-09T00:58:22.833958Z",
     "iopub.status.busy": "2022-04-09T00:58:22.833221Z",
     "iopub.status.idle": "2022-04-09T00:58:22.950231Z",
     "shell.execute_reply": "2022-04-09T00:58:22.950785Z",
     "shell.execute_reply.started": "2022-04-09T00:56:56.251554Z"
    },
    "papermill": {
     "duration": 0.162627,
     "end_time": "2022-04-09T00:58:22.950974",
     "exception": false,
     "start_time": "2022-04-09T00:58:22.788347",
     "status": "completed"
    },
    "tags": []
   },
   "outputs": [],
   "source": [
    "train_data = pd.read_csv('train.csv' , index_col= 'Id')\n",
    "test_data = pd.read_csv('test.csv')\n",
    "train_data.dropna(axis=0, subset=['SalePrice'], inplace=True)\n",
    "\n",
    "Test_data_Id = test_data[\"Id\"]\n",
    "\n",
    "data_with_label = pd.read_csv('train.csv' , index_col= 'Id')\n",
    "data_with_label.dropna(axis=0, subset=['SalePrice'], inplace=True)"
   ]
  },
  {
   "cell_type": "code",
   "execution_count": 4,
   "metadata": {
    "execution": {
     "iopub.execute_input": "2022-04-09T00:58:23.030597Z",
     "iopub.status.busy": "2022-04-09T00:58:23.029936Z",
     "iopub.status.idle": "2022-04-09T00:58:23.061136Z",
     "shell.execute_reply": "2022-04-09T00:58:23.061688Z",
     "shell.execute_reply.started": "2022-04-09T00:56:56.317617Z"
    },
    "papermill": {
     "duration": 0.071307,
     "end_time": "2022-04-09T00:58:23.061865",
     "exception": false,
     "start_time": "2022-04-09T00:58:22.990558",
     "status": "completed"
    },
    "tags": []
   },
   "outputs": [
    {
     "data": {
      "text/html": [
       "<div>\n",
       "<style scoped>\n",
       "    .dataframe tbody tr th:only-of-type {\n",
       "        vertical-align: middle;\n",
       "    }\n",
       "\n",
       "    .dataframe tbody tr th {\n",
       "        vertical-align: top;\n",
       "    }\n",
       "\n",
       "    .dataframe thead th {\n",
       "        text-align: right;\n",
       "    }\n",
       "</style>\n",
       "<table border=\"1\" class=\"dataframe\">\n",
       "  <thead>\n",
       "    <tr style=\"text-align: right;\">\n",
       "      <th></th>\n",
       "      <th>MSSubClass</th>\n",
       "      <th>MSZoning</th>\n",
       "      <th>LotFrontage</th>\n",
       "      <th>LotArea</th>\n",
       "      <th>Street</th>\n",
       "      <th>Alley</th>\n",
       "      <th>LotShape</th>\n",
       "      <th>LandContour</th>\n",
       "      <th>Utilities</th>\n",
       "      <th>LotConfig</th>\n",
       "      <th>...</th>\n",
       "      <th>PoolArea</th>\n",
       "      <th>PoolQC</th>\n",
       "      <th>Fence</th>\n",
       "      <th>MiscFeature</th>\n",
       "      <th>MiscVal</th>\n",
       "      <th>MoSold</th>\n",
       "      <th>YrSold</th>\n",
       "      <th>SaleType</th>\n",
       "      <th>SaleCondition</th>\n",
       "      <th>SalePrice</th>\n",
       "    </tr>\n",
       "    <tr>\n",
       "      <th>Id</th>\n",
       "      <th></th>\n",
       "      <th></th>\n",
       "      <th></th>\n",
       "      <th></th>\n",
       "      <th></th>\n",
       "      <th></th>\n",
       "      <th></th>\n",
       "      <th></th>\n",
       "      <th></th>\n",
       "      <th></th>\n",
       "      <th></th>\n",
       "      <th></th>\n",
       "      <th></th>\n",
       "      <th></th>\n",
       "      <th></th>\n",
       "      <th></th>\n",
       "      <th></th>\n",
       "      <th></th>\n",
       "      <th></th>\n",
       "      <th></th>\n",
       "      <th></th>\n",
       "    </tr>\n",
       "  </thead>\n",
       "  <tbody>\n",
       "    <tr>\n",
       "      <th>1</th>\n",
       "      <td>60</td>\n",
       "      <td>RL</td>\n",
       "      <td>65.0</td>\n",
       "      <td>8450</td>\n",
       "      <td>Pave</td>\n",
       "      <td>NaN</td>\n",
       "      <td>Reg</td>\n",
       "      <td>Lvl</td>\n",
       "      <td>AllPub</td>\n",
       "      <td>Inside</td>\n",
       "      <td>...</td>\n",
       "      <td>0</td>\n",
       "      <td>NaN</td>\n",
       "      <td>NaN</td>\n",
       "      <td>NaN</td>\n",
       "      <td>0</td>\n",
       "      <td>2</td>\n",
       "      <td>2008</td>\n",
       "      <td>WD</td>\n",
       "      <td>Normal</td>\n",
       "      <td>208500</td>\n",
       "    </tr>\n",
       "    <tr>\n",
       "      <th>2</th>\n",
       "      <td>20</td>\n",
       "      <td>RL</td>\n",
       "      <td>80.0</td>\n",
       "      <td>9600</td>\n",
       "      <td>Pave</td>\n",
       "      <td>NaN</td>\n",
       "      <td>Reg</td>\n",
       "      <td>Lvl</td>\n",
       "      <td>AllPub</td>\n",
       "      <td>FR2</td>\n",
       "      <td>...</td>\n",
       "      <td>0</td>\n",
       "      <td>NaN</td>\n",
       "      <td>NaN</td>\n",
       "      <td>NaN</td>\n",
       "      <td>0</td>\n",
       "      <td>5</td>\n",
       "      <td>2007</td>\n",
       "      <td>WD</td>\n",
       "      <td>Normal</td>\n",
       "      <td>181500</td>\n",
       "    </tr>\n",
       "    <tr>\n",
       "      <th>3</th>\n",
       "      <td>60</td>\n",
       "      <td>RL</td>\n",
       "      <td>68.0</td>\n",
       "      <td>11250</td>\n",
       "      <td>Pave</td>\n",
       "      <td>NaN</td>\n",
       "      <td>IR1</td>\n",
       "      <td>Lvl</td>\n",
       "      <td>AllPub</td>\n",
       "      <td>Inside</td>\n",
       "      <td>...</td>\n",
       "      <td>0</td>\n",
       "      <td>NaN</td>\n",
       "      <td>NaN</td>\n",
       "      <td>NaN</td>\n",
       "      <td>0</td>\n",
       "      <td>9</td>\n",
       "      <td>2008</td>\n",
       "      <td>WD</td>\n",
       "      <td>Normal</td>\n",
       "      <td>223500</td>\n",
       "    </tr>\n",
       "    <tr>\n",
       "      <th>4</th>\n",
       "      <td>70</td>\n",
       "      <td>RL</td>\n",
       "      <td>60.0</td>\n",
       "      <td>9550</td>\n",
       "      <td>Pave</td>\n",
       "      <td>NaN</td>\n",
       "      <td>IR1</td>\n",
       "      <td>Lvl</td>\n",
       "      <td>AllPub</td>\n",
       "      <td>Corner</td>\n",
       "      <td>...</td>\n",
       "      <td>0</td>\n",
       "      <td>NaN</td>\n",
       "      <td>NaN</td>\n",
       "      <td>NaN</td>\n",
       "      <td>0</td>\n",
       "      <td>2</td>\n",
       "      <td>2006</td>\n",
       "      <td>WD</td>\n",
       "      <td>Abnorml</td>\n",
       "      <td>140000</td>\n",
       "    </tr>\n",
       "    <tr>\n",
       "      <th>5</th>\n",
       "      <td>60</td>\n",
       "      <td>RL</td>\n",
       "      <td>84.0</td>\n",
       "      <td>14260</td>\n",
       "      <td>Pave</td>\n",
       "      <td>NaN</td>\n",
       "      <td>IR1</td>\n",
       "      <td>Lvl</td>\n",
       "      <td>AllPub</td>\n",
       "      <td>FR2</td>\n",
       "      <td>...</td>\n",
       "      <td>0</td>\n",
       "      <td>NaN</td>\n",
       "      <td>NaN</td>\n",
       "      <td>NaN</td>\n",
       "      <td>0</td>\n",
       "      <td>12</td>\n",
       "      <td>2008</td>\n",
       "      <td>WD</td>\n",
       "      <td>Normal</td>\n",
       "      <td>250000</td>\n",
       "    </tr>\n",
       "  </tbody>\n",
       "</table>\n",
       "<p>5 rows × 80 columns</p>\n",
       "</div>"
      ],
      "text/plain": [
       "    MSSubClass MSZoning  LotFrontage  LotArea Street Alley LotShape  \\\n",
       "Id                                                                    \n",
       "1           60       RL         65.0     8450   Pave   NaN      Reg   \n",
       "2           20       RL         80.0     9600   Pave   NaN      Reg   \n",
       "3           60       RL         68.0    11250   Pave   NaN      IR1   \n",
       "4           70       RL         60.0     9550   Pave   NaN      IR1   \n",
       "5           60       RL         84.0    14260   Pave   NaN      IR1   \n",
       "\n",
       "   LandContour Utilities LotConfig  ... PoolArea PoolQC Fence MiscFeature  \\\n",
       "Id                                  ...                                     \n",
       "1          Lvl    AllPub    Inside  ...        0    NaN   NaN         NaN   \n",
       "2          Lvl    AllPub       FR2  ...        0    NaN   NaN         NaN   \n",
       "3          Lvl    AllPub    Inside  ...        0    NaN   NaN         NaN   \n",
       "4          Lvl    AllPub    Corner  ...        0    NaN   NaN         NaN   \n",
       "5          Lvl    AllPub       FR2  ...        0    NaN   NaN         NaN   \n",
       "\n",
       "   MiscVal MoSold  YrSold  SaleType  SaleCondition  SalePrice  \n",
       "Id                                                             \n",
       "1        0      2    2008        WD         Normal     208500  \n",
       "2        0      5    2007        WD         Normal     181500  \n",
       "3        0      9    2008        WD         Normal     223500  \n",
       "4        0      2    2006        WD        Abnorml     140000  \n",
       "5        0     12    2008        WD         Normal     250000  \n",
       "\n",
       "[5 rows x 80 columns]"
      ]
     },
     "execution_count": 4,
     "metadata": {},
     "output_type": "execute_result"
    }
   ],
   "source": [
    "data_with_label.head()"
   ]
  },
  {
   "cell_type": "code",
   "execution_count": 5,
   "metadata": {
    "execution": {
     "iopub.execute_input": "2022-04-09T00:58:23.143612Z",
     "iopub.status.busy": "2022-04-09T00:58:23.142908Z",
     "iopub.status.idle": "2022-04-09T00:58:23.169798Z",
     "shell.execute_reply": "2022-04-09T00:58:23.170364Z",
     "shell.execute_reply.started": "2022-04-09T00:56:56.344556Z"
    },
    "papermill": {
     "duration": 0.070069,
     "end_time": "2022-04-09T00:58:23.170557",
     "exception": false,
     "start_time": "2022-04-09T00:58:23.100488",
     "status": "completed"
    },
    "tags": []
   },
   "outputs": [
    {
     "name": "stdout",
     "output_type": "stream",
     "text": [
      "<class 'pandas.core.frame.DataFrame'>\n",
      "Int64Index: 1460 entries, 1 to 1460\n",
      "Data columns (total 80 columns):\n",
      " #   Column         Non-Null Count  Dtype  \n",
      "---  ------         --------------  -----  \n",
      " 0   MSSubClass     1460 non-null   int64  \n",
      " 1   MSZoning       1460 non-null   object \n",
      " 2   LotFrontage    1201 non-null   float64\n",
      " 3   LotArea        1460 non-null   int64  \n",
      " 4   Street         1460 non-null   object \n",
      " 5   Alley          91 non-null     object \n",
      " 6   LotShape       1460 non-null   object \n",
      " 7   LandContour    1460 non-null   object \n",
      " 8   Utilities      1460 non-null   object \n",
      " 9   LotConfig      1460 non-null   object \n",
      " 10  LandSlope      1460 non-null   object \n",
      " 11  Neighborhood   1460 non-null   object \n",
      " 12  Condition1     1460 non-null   object \n",
      " 13  Condition2     1460 non-null   object \n",
      " 14  BldgType       1460 non-null   object \n",
      " 15  HouseStyle     1460 non-null   object \n",
      " 16  OverallQual    1460 non-null   int64  \n",
      " 17  OverallCond    1460 non-null   int64  \n",
      " 18  YearBuilt      1460 non-null   int64  \n",
      " 19  YearRemodAdd   1460 non-null   int64  \n",
      " 20  RoofStyle      1460 non-null   object \n",
      " 21  RoofMatl       1460 non-null   object \n",
      " 22  Exterior1st    1460 non-null   object \n",
      " 23  Exterior2nd    1460 non-null   object \n",
      " 24  MasVnrType     1452 non-null   object \n",
      " 25  MasVnrArea     1452 non-null   float64\n",
      " 26  ExterQual      1460 non-null   object \n",
      " 27  ExterCond      1460 non-null   object \n",
      " 28  Foundation     1460 non-null   object \n",
      " 29  BsmtQual       1423 non-null   object \n",
      " 30  BsmtCond       1423 non-null   object \n",
      " 31  BsmtExposure   1422 non-null   object \n",
      " 32  BsmtFinType1   1423 non-null   object \n",
      " 33  BsmtFinSF1     1460 non-null   int64  \n",
      " 34  BsmtFinType2   1422 non-null   object \n",
      " 35  BsmtFinSF2     1460 non-null   int64  \n",
      " 36  BsmtUnfSF      1460 non-null   int64  \n",
      " 37  TotalBsmtSF    1460 non-null   int64  \n",
      " 38  Heating        1460 non-null   object \n",
      " 39  HeatingQC      1460 non-null   object \n",
      " 40  CentralAir     1460 non-null   object \n",
      " 41  Electrical     1459 non-null   object \n",
      " 42  1stFlrSF       1460 non-null   int64  \n",
      " 43  2ndFlrSF       1460 non-null   int64  \n",
      " 44  LowQualFinSF   1460 non-null   int64  \n",
      " 45  GrLivArea      1460 non-null   int64  \n",
      " 46  BsmtFullBath   1460 non-null   int64  \n",
      " 47  BsmtHalfBath   1460 non-null   int64  \n",
      " 48  FullBath       1460 non-null   int64  \n",
      " 49  HalfBath       1460 non-null   int64  \n",
      " 50  BedroomAbvGr   1460 non-null   int64  \n",
      " 51  KitchenAbvGr   1460 non-null   int64  \n",
      " 52  KitchenQual    1460 non-null   object \n",
      " 53  TotRmsAbvGrd   1460 non-null   int64  \n",
      " 54  Functional     1460 non-null   object \n",
      " 55  Fireplaces     1460 non-null   int64  \n",
      " 56  FireplaceQu    770 non-null    object \n",
      " 57  GarageType     1379 non-null   object \n",
      " 58  GarageYrBlt    1379 non-null   float64\n",
      " 59  GarageFinish   1379 non-null   object \n",
      " 60  GarageCars     1460 non-null   int64  \n",
      " 61  GarageArea     1460 non-null   int64  \n",
      " 62  GarageQual     1379 non-null   object \n",
      " 63  GarageCond     1379 non-null   object \n",
      " 64  PavedDrive     1460 non-null   object \n",
      " 65  WoodDeckSF     1460 non-null   int64  \n",
      " 66  OpenPorchSF    1460 non-null   int64  \n",
      " 67  EnclosedPorch  1460 non-null   int64  \n",
      " 68  3SsnPorch      1460 non-null   int64  \n",
      " 69  ScreenPorch    1460 non-null   int64  \n",
      " 70  PoolArea       1460 non-null   int64  \n",
      " 71  PoolQC         7 non-null      object \n",
      " 72  Fence          281 non-null    object \n",
      " 73  MiscFeature    54 non-null     object \n",
      " 74  MiscVal        1460 non-null   int64  \n",
      " 75  MoSold         1460 non-null   int64  \n",
      " 76  YrSold         1460 non-null   int64  \n",
      " 77  SaleType       1460 non-null   object \n",
      " 78  SaleCondition  1460 non-null   object \n",
      " 79  SalePrice      1460 non-null   int64  \n",
      "dtypes: float64(3), int64(34), object(43)\n",
      "memory usage: 923.9+ KB\n"
     ]
    }
   ],
   "source": [
    "data_with_label.info()"
   ]
  },
  {
   "cell_type": "code",
   "execution_count": 6,
   "metadata": {
    "execution": {
     "iopub.execute_input": "2022-04-09T00:58:23.251652Z",
     "iopub.status.busy": "2022-04-09T00:58:23.250682Z",
     "iopub.status.idle": "2022-04-09T00:58:23.266692Z",
     "shell.execute_reply": "2022-04-09T00:58:23.267242Z",
     "shell.execute_reply.started": "2022-04-09T00:56:56.378862Z"
    },
    "papermill": {
     "duration": 0.058309,
     "end_time": "2022-04-09T00:58:23.267417",
     "exception": false,
     "start_time": "2022-04-09T00:58:23.209108",
     "status": "completed"
    },
    "tags": []
   },
   "outputs": [
    {
     "data": {
      "text/plain": [
       "SalePrice        1.000000\n",
       "OverallQual      0.790982\n",
       "GrLivArea        0.708624\n",
       "GarageCars       0.640409\n",
       "GarageArea       0.623431\n",
       "TotalBsmtSF      0.613581\n",
       "1stFlrSF         0.605852\n",
       "FullBath         0.560664\n",
       "TotRmsAbvGrd     0.533723\n",
       "YearBuilt        0.522897\n",
       "YearRemodAdd     0.507101\n",
       "GarageYrBlt      0.486362\n",
       "MasVnrArea       0.477493\n",
       "Fireplaces       0.466929\n",
       "BsmtFinSF1       0.386420\n",
       "LotFrontage      0.351799\n",
       "WoodDeckSF       0.324413\n",
       "2ndFlrSF         0.319334\n",
       "OpenPorchSF      0.315856\n",
       "HalfBath         0.284108\n",
       "LotArea          0.263843\n",
       "BsmtFullBath     0.227122\n",
       "BsmtUnfSF        0.214479\n",
       "BedroomAbvGr     0.168213\n",
       "ScreenPorch      0.111447\n",
       "PoolArea         0.092404\n",
       "MoSold           0.046432\n",
       "3SsnPorch        0.044584\n",
       "BsmtFinSF2      -0.011378\n",
       "BsmtHalfBath    -0.016844\n",
       "MiscVal         -0.021190\n",
       "LowQualFinSF    -0.025606\n",
       "YrSold          -0.028923\n",
       "OverallCond     -0.077856\n",
       "MSSubClass      -0.084284\n",
       "EnclosedPorch   -0.128578\n",
       "KitchenAbvGr    -0.135907\n",
       "Name: SalePrice, dtype: float64"
      ]
     },
     "execution_count": 6,
     "metadata": {},
     "output_type": "execute_result"
    }
   ],
   "source": [
    "top_corr_features = data_with_label.corr()['SalePrice'].sort_values(ascending=False)\n",
    "top_corr_features"
   ]
  },
  {
   "cell_type": "markdown",
   "metadata": {
    "papermill": {
     "duration": 0.03922,
     "end_time": "2022-04-09T00:58:23.345829",
     "exception": false,
     "start_time": "2022-04-09T00:58:23.306609",
     "status": "completed"
    },
    "tags": []
   },
   "source": [
    "# Decide Which features Important"
   ]
  },
  {
   "cell_type": "code",
   "execution_count": 13,
   "metadata": {
    "execution": {
     "iopub.execute_input": "2022-04-09T00:58:23.427172Z",
     "iopub.status.busy": "2022-04-09T00:58:23.426452Z",
     "iopub.status.idle": "2022-04-09T00:58:23.431839Z",
     "shell.execute_reply": "2022-04-09T00:58:23.432361Z",
     "shell.execute_reply.started": "2022-04-09T00:56:56.425893Z"
    },
    "papermill": {
     "duration": 0.047778,
     "end_time": "2022-04-09T00:58:23.432537",
     "exception": false,
     "start_time": "2022-04-09T00:58:23.384759",
     "status": "completed"
    },
    "tags": []
   },
   "outputs": [],
   "source": [
    "categorical_feature = [\"Utilities\" ,\"Neighborhood\",  \"Condition1\" , \"Condition2\",\"BldgType\" ,\n",
    "               \"HouseStyle\"  , \"Exterior1st\",\n",
    "               \"Exterior2nd\",\"Foundation\" ,\"BsmtQual\" ,\"BsmtExposure\"  , \"BsmtFinType1\" ,\"BsmtFinType2\",\n",
    "                \"HeatingQC\" , \"CentralAir\" , \"Electrical\" ,\"KitchenQual\", \"SaleType\",\"SaleCondition\"]\n",
    "\n",
    "\n",
    "ordinal_feature = [\"BsmtQual\" ,\"Foundation\" ,\"BsmtExposure\"  ,\"BsmtFinType1\" ,\"BsmtFinType2\", \"HeatingQC\" ,\n",
    "                  \"CentralAir\" ,\"Electrical\" ,\"KitchenQual\"]\n",
    "\n",
    "numerical_feature = [\"LotFrontage\" , \"LotArea\" ,\"BsmtFinSF1\" ,\"1stFlrSF\" , \"2ndFlrSF\" , \"FullBath\",\n",
    "                     \"TotRmsAbvGrd\"  ,\"3SsnPorch\",\"ScreenPorch\", \"PoolArea\", \"OverallQual\",\"OverallCond\" ,\"YearRemodAdd\"\n",
    "                    ,\"BsmtFinSF2\",\"TotalBsmtSF\" ,\"GarageCars\"]\n",
    "important_features = categorical_feature+ordinal_feature+numerical_feature+[\"SalePrice\"]\n",
    "test_features = categorical_feature+ordinal_feature+numerical_feature"
   ]
  },
  {
   "cell_type": "markdown",
   "metadata": {
    "papermill": {
     "duration": 0.038865,
     "end_time": "2022-04-09T00:58:23.509947",
     "exception": false,
     "start_time": "2022-04-09T00:58:23.471082",
     "status": "completed"
    },
    "tags": []
   },
   "source": [
    "# clean Training Data"
   ]
  },
  {
   "cell_type": "code",
   "execution_count": 14,
   "metadata": {
    "execution": {
     "iopub.execute_input": "2022-04-09T00:58:23.592968Z",
     "iopub.status.busy": "2022-04-09T00:58:23.592253Z",
     "iopub.status.idle": "2022-04-09T00:58:23.610052Z",
     "shell.execute_reply": "2022-04-09T00:58:23.610572Z",
     "shell.execute_reply.started": "2022-04-09T00:56:56.455404Z"
    },
    "papermill": {
     "duration": 0.062173,
     "end_time": "2022-04-09T00:58:23.610755",
     "exception": false,
     "start_time": "2022-04-09T00:58:23.548582",
     "status": "completed"
    },
    "tags": []
   },
   "outputs": [
    {
     "name": "stdout",
     "output_type": "stream",
     "text": [
      "<class 'pandas.core.frame.DataFrame'>\n",
      "Int64Index: 1460 entries, 1 to 1460\n",
      "Data columns (total 45 columns):\n",
      " #   Column         Non-Null Count  Dtype  \n",
      "---  ------         --------------  -----  \n",
      " 0   Utilities      1460 non-null   object \n",
      " 1   Neighborhood   1460 non-null   object \n",
      " 2   Condition1     1460 non-null   object \n",
      " 3   Condition2     1460 non-null   object \n",
      " 4   BldgType       1460 non-null   object \n",
      " 5   HouseStyle     1460 non-null   object \n",
      " 6   Exterior1st    1460 non-null   object \n",
      " 7   Exterior2nd    1460 non-null   object \n",
      " 8   Foundation     1460 non-null   object \n",
      " 9   BsmtQual       1423 non-null   object \n",
      " 10  BsmtExposure   1422 non-null   object \n",
      " 11  BsmtFinType1   1423 non-null   object \n",
      " 12  BsmtFinType2   1422 non-null   object \n",
      " 13  HeatingQC      1460 non-null   object \n",
      " 14  CentralAir     1460 non-null   object \n",
      " 15  Electrical     1459 non-null   object \n",
      " 16  KitchenQual    1460 non-null   object \n",
      " 17  SaleType       1460 non-null   object \n",
      " 18  SaleCondition  1460 non-null   object \n",
      " 19  BsmtQual       1423 non-null   object \n",
      " 20  Foundation     1460 non-null   object \n",
      " 21  BsmtExposure   1422 non-null   object \n",
      " 22  BsmtFinType1   1423 non-null   object \n",
      " 23  BsmtFinType2   1422 non-null   object \n",
      " 24  HeatingQC      1460 non-null   object \n",
      " 25  CentralAir     1460 non-null   object \n",
      " 26  Electrical     1459 non-null   object \n",
      " 27  KitchenQual    1460 non-null   object \n",
      " 28  LotFrontage    1201 non-null   float64\n",
      " 29  LotArea        1460 non-null   int64  \n",
      " 30  BsmtFinSF1     1460 non-null   int64  \n",
      " 31  1stFlrSF       1460 non-null   int64  \n",
      " 32  2ndFlrSF       1460 non-null   int64  \n",
      " 33  FullBath       1460 non-null   int64  \n",
      " 34  TotRmsAbvGrd   1460 non-null   int64  \n",
      " 35  3SsnPorch      1460 non-null   int64  \n",
      " 36  ScreenPorch    1460 non-null   int64  \n",
      " 37  PoolArea       1460 non-null   int64  \n",
      " 38  OverallQual    1460 non-null   int64  \n",
      " 39  OverallCond    1460 non-null   int64  \n",
      " 40  YearRemodAdd   1460 non-null   int64  \n",
      " 41  BsmtFinSF2     1460 non-null   int64  \n",
      " 42  TotalBsmtSF    1460 non-null   int64  \n",
      " 43  GarageCars     1460 non-null   int64  \n",
      " 44  SalePrice      1460 non-null   int64  \n",
      "dtypes: float64(1), int64(16), object(28)\n",
      "memory usage: 524.7+ KB\n"
     ]
    }
   ],
   "source": [
    "train_features = train_data[important_features]\n",
    "train_features.info()"
   ]
  },
  {
   "cell_type": "code",
   "execution_count": 15,
   "metadata": {
    "execution": {
     "iopub.execute_input": "2022-04-09T00:58:23.699065Z",
     "iopub.status.busy": "2022-04-09T00:58:23.698339Z",
     "iopub.status.idle": "2022-04-09T00:58:23.722988Z",
     "shell.execute_reply": "2022-04-09T00:58:23.722282Z",
     "shell.execute_reply.started": "2022-04-09T00:56:56.497400Z"
    },
    "papermill": {
     "duration": 0.073095,
     "end_time": "2022-04-09T00:58:23.723139",
     "exception": false,
     "start_time": "2022-04-09T00:58:23.650044",
     "status": "completed"
    },
    "tags": []
   },
   "outputs": [
    {
     "name": "stdout",
     "output_type": "stream",
     "text": [
      "<class 'pandas.core.frame.DataFrame'>\n",
      "Int64Index: 1167 entries, 1 to 1460\n",
      "Data columns (total 45 columns):\n",
      " #   Column         Non-Null Count  Dtype  \n",
      "---  ------         --------------  -----  \n",
      " 0   Utilities      1167 non-null   object \n",
      " 1   Neighborhood   1167 non-null   object \n",
      " 2   Condition1     1167 non-null   object \n",
      " 3   Condition2     1167 non-null   object \n",
      " 4   BldgType       1167 non-null   object \n",
      " 5   HouseStyle     1167 non-null   object \n",
      " 6   Exterior1st    1167 non-null   object \n",
      " 7   Exterior2nd    1167 non-null   object \n",
      " 8   Foundation     1167 non-null   object \n",
      " 9   BsmtQual       1167 non-null   object \n",
      " 10  BsmtExposure   1167 non-null   object \n",
      " 11  BsmtFinType1   1167 non-null   object \n",
      " 12  BsmtFinType2   1167 non-null   object \n",
      " 13  HeatingQC      1167 non-null   object \n",
      " 14  CentralAir     1167 non-null   object \n",
      " 15  Electrical     1167 non-null   object \n",
      " 16  KitchenQual    1167 non-null   object \n",
      " 17  SaleType       1167 non-null   object \n",
      " 18  SaleCondition  1167 non-null   object \n",
      " 19  BsmtQual       1167 non-null   object \n",
      " 20  Foundation     1167 non-null   object \n",
      " 21  BsmtExposure   1167 non-null   object \n",
      " 22  BsmtFinType1   1167 non-null   object \n",
      " 23  BsmtFinType2   1167 non-null   object \n",
      " 24  HeatingQC      1167 non-null   object \n",
      " 25  CentralAir     1167 non-null   object \n",
      " 26  Electrical     1167 non-null   object \n",
      " 27  KitchenQual    1167 non-null   object \n",
      " 28  LotFrontage    1167 non-null   float64\n",
      " 29  LotArea        1167 non-null   int64  \n",
      " 30  BsmtFinSF1     1167 non-null   int64  \n",
      " 31  1stFlrSF       1167 non-null   int64  \n",
      " 32  2ndFlrSF       1167 non-null   int64  \n",
      " 33  FullBath       1167 non-null   int64  \n",
      " 34  TotRmsAbvGrd   1167 non-null   int64  \n",
      " 35  3SsnPorch      1167 non-null   int64  \n",
      " 36  ScreenPorch    1167 non-null   int64  \n",
      " 37  PoolArea       1167 non-null   int64  \n",
      " 38  OverallQual    1167 non-null   int64  \n",
      " 39  OverallCond    1167 non-null   int64  \n",
      " 40  YearRemodAdd   1167 non-null   int64  \n",
      " 41  BsmtFinSF2     1167 non-null   int64  \n",
      " 42  TotalBsmtSF    1167 non-null   int64  \n",
      " 43  GarageCars     1167 non-null   int64  \n",
      " 44  SalePrice      1167 non-null   int64  \n",
      "dtypes: float64(1), int64(16), object(28)\n",
      "memory usage: 419.4+ KB\n"
     ]
    },
    {
     "name": "stderr",
     "output_type": "stream",
     "text": [
      "C:\\Users\\Abdelrahman\\AppData\\Roaming\\Python\\Python38\\site-packages\\pandas\\core\\generic.py:6392: SettingWithCopyWarning: \n",
      "A value is trying to be set on a copy of a slice from a DataFrame\n",
      "\n",
      "See the caveats in the documentation: https://pandas.pydata.org/pandas-docs/stable/user_guide/indexing.html#returning-a-view-versus-a-copy\n",
      "  return self._update_inplace(result)\n"
     ]
    }
   ],
   "source": [
    "filling_null = { \"BsmtQual\" : train_features[\"BsmtQual\"].mode().iloc[0]  ,\n",
    "                \"BsmtExposure\" : train_features[\"BsmtExposure\"].mode().iloc[0],\n",
    "                \"BsmtFinType1\" : train_features[\"BsmtFinType1\"].mode().iloc[0],\n",
    "                \"BsmtFinType2\" : train_features[\"BsmtFinType2\"].mode().iloc[0],    \n",
    "               \"LotFrontage\" : train_features[\"LotFrontage\"].mean()   }\n",
    "\n",
    "train_features = train_features.fillna(value = filling_null)\n",
    "train_features = train_features.dropna(axis = 0)\n",
    "train_features.head()\n",
    "train_features.info()"
   ]
  },
  {
   "cell_type": "markdown",
   "metadata": {
    "papermill": {
     "duration": 0.039819,
     "end_time": "2022-04-09T00:58:23.802930",
     "exception": false,
     "start_time": "2022-04-09T00:58:23.763111",
     "status": "completed"
    },
    "tags": []
   },
   "source": [
    "# Clean Test Data"
   ]
  },
  {
   "cell_type": "code",
   "execution_count": 16,
   "metadata": {
    "execution": {
     "iopub.execute_input": "2022-04-09T00:58:23.894033Z",
     "iopub.status.busy": "2022-04-09T00:58:23.887705Z",
     "iopub.status.idle": "2022-04-09T00:58:23.906801Z",
     "shell.execute_reply": "2022-04-09T00:58:23.907366Z",
     "shell.execute_reply.started": "2022-04-09T00:56:56.526662Z"
    },
    "papermill": {
     "duration": 0.064965,
     "end_time": "2022-04-09T00:58:23.907566",
     "exception": false,
     "start_time": "2022-04-09T00:58:23.842601",
     "status": "completed"
    },
    "tags": []
   },
   "outputs": [
    {
     "name": "stdout",
     "output_type": "stream",
     "text": [
      "<class 'pandas.core.frame.DataFrame'>\n",
      "RangeIndex: 1459 entries, 0 to 1458\n",
      "Data columns (total 44 columns):\n",
      " #   Column         Non-Null Count  Dtype  \n",
      "---  ------         --------------  -----  \n",
      " 0   Utilities      1457 non-null   object \n",
      " 1   Neighborhood   1459 non-null   object \n",
      " 2   Condition1     1459 non-null   object \n",
      " 3   Condition2     1459 non-null   object \n",
      " 4   BldgType       1459 non-null   object \n",
      " 5   HouseStyle     1459 non-null   object \n",
      " 6   Exterior1st    1458 non-null   object \n",
      " 7   Exterior2nd    1458 non-null   object \n",
      " 8   Foundation     1459 non-null   object \n",
      " 9   BsmtQual       1415 non-null   object \n",
      " 10  BsmtExposure   1415 non-null   object \n",
      " 11  BsmtFinType1   1417 non-null   object \n",
      " 12  BsmtFinType2   1417 non-null   object \n",
      " 13  HeatingQC      1459 non-null   object \n",
      " 14  CentralAir     1459 non-null   object \n",
      " 15  Electrical     1459 non-null   object \n",
      " 16  KitchenQual    1458 non-null   object \n",
      " 17  SaleType       1458 non-null   object \n",
      " 18  SaleCondition  1459 non-null   object \n",
      " 19  BsmtQual       1415 non-null   object \n",
      " 20  Foundation     1459 non-null   object \n",
      " 21  BsmtExposure   1415 non-null   object \n",
      " 22  BsmtFinType1   1417 non-null   object \n",
      " 23  BsmtFinType2   1417 non-null   object \n",
      " 24  HeatingQC      1459 non-null   object \n",
      " 25  CentralAir     1459 non-null   object \n",
      " 26  Electrical     1459 non-null   object \n",
      " 27  KitchenQual    1458 non-null   object \n",
      " 28  LotFrontage    1232 non-null   float64\n",
      " 29  LotArea        1459 non-null   int64  \n",
      " 30  BsmtFinSF1     1458 non-null   float64\n",
      " 31  1stFlrSF       1459 non-null   int64  \n",
      " 32  2ndFlrSF       1459 non-null   int64  \n",
      " 33  FullBath       1459 non-null   int64  \n",
      " 34  TotRmsAbvGrd   1459 non-null   int64  \n",
      " 35  3SsnPorch      1459 non-null   int64  \n",
      " 36  ScreenPorch    1459 non-null   int64  \n",
      " 37  PoolArea       1459 non-null   int64  \n",
      " 38  OverallQual    1459 non-null   int64  \n",
      " 39  OverallCond    1459 non-null   int64  \n",
      " 40  YearRemodAdd   1459 non-null   int64  \n",
      " 41  BsmtFinSF2     1458 non-null   float64\n",
      " 42  TotalBsmtSF    1458 non-null   float64\n",
      " 43  GarageCars     1458 non-null   float64\n",
      "dtypes: float64(5), int64(11), object(28)\n",
      "memory usage: 501.7+ KB\n"
     ]
    }
   ],
   "source": [
    "test_data = test_data[test_features]\n",
    "test_data.info()"
   ]
  },
  {
   "cell_type": "markdown",
   "metadata": {
    "papermill": {
     "duration": 0.040966,
     "end_time": "2022-04-09T00:58:23.989638",
     "exception": false,
     "start_time": "2022-04-09T00:58:23.948672",
     "status": "completed"
    },
    "tags": []
   },
   "source": [
    "# One Hot Encoding with Training Data "
   ]
  },
  {
   "cell_type": "code",
   "execution_count": 17,
   "metadata": {
    "execution": {
     "iopub.execute_input": "2022-04-09T00:58:24.073669Z",
     "iopub.status.busy": "2022-04-09T00:58:24.071838Z",
     "iopub.status.idle": "2022-04-09T00:58:24.103831Z",
     "shell.execute_reply": "2022-04-09T00:58:24.104377Z",
     "shell.execute_reply.started": "2022-04-09T00:56:56.563033Z"
    },
    "papermill": {
     "duration": 0.075033,
     "end_time": "2022-04-09T00:58:24.104568",
     "exception": false,
     "start_time": "2022-04-09T00:58:24.029535",
     "status": "completed"
    },
    "tags": []
   },
   "outputs": [],
   "source": [
    "from sklearn.preprocessing import OneHotEncoder\n",
    "from sklearn.preprocessing import OrdinalEncoder"
   ]
  },
  {
   "cell_type": "code",
   "execution_count": 12,
   "metadata": {
    "execution": {
     "iopub.execute_input": "2022-04-09T00:58:24.188177Z",
     "iopub.status.busy": "2022-04-09T00:58:24.187442Z",
     "iopub.status.idle": "2022-04-09T00:58:24.376559Z",
     "shell.execute_reply": "2022-04-09T00:58:24.377283Z",
     "shell.execute_reply.started": "2022-04-09T00:56:56.605974Z"
    },
    "papermill": {
     "duration": 0.23297,
     "end_time": "2022-04-09T00:58:24.377515",
     "exception": false,
     "start_time": "2022-04-09T00:58:24.144545",
     "status": "completed"
    },
    "tags": []
   },
   "outputs": [
    {
     "name": "stderr",
     "output_type": "stream",
     "text": [
      "/opt/conda/lib/python3.7/site-packages/sklearn/utils/deprecation.py:87: FutureWarning: Function get_feature_names is deprecated; get_feature_names is deprecated in 1.0 and will be removed in 1.2. Please use get_feature_names_out instead.\n",
      "  warnings.warn(msg, category=FutureWarning)\n",
      "/opt/conda/lib/python3.7/site-packages/pandas/core/frame.py:3641: PerformanceWarning: DataFrame is highly fragmented.  This is usually the result of calling `frame.insert` many times, which has poor performance.  Consider joining all columns at once using pd.concat(axis=1) instead.  To get a de-fragmented frame, use `newframe = frame.copy()`\n",
      "  self[k1] = value[k2]\n"
     ]
    },
    {
     "data": {
      "text/html": [
       "<div>\n",
       "<style scoped>\n",
       "    .dataframe tbody tr th:only-of-type {\n",
       "        vertical-align: middle;\n",
       "    }\n",
       "\n",
       "    .dataframe tbody tr th {\n",
       "        vertical-align: top;\n",
       "    }\n",
       "\n",
       "    .dataframe thead th {\n",
       "        text-align: right;\n",
       "    }\n",
       "</style>\n",
       "<table border=\"1\" class=\"dataframe\">\n",
       "  <thead>\n",
       "    <tr style=\"text-align: right;\">\n",
       "      <th></th>\n",
       "      <th>LotFrontage</th>\n",
       "      <th>LotArea</th>\n",
       "      <th>BsmtFinSF1</th>\n",
       "      <th>1stFlrSF</th>\n",
       "      <th>2ndFlrSF</th>\n",
       "      <th>FullBath</th>\n",
       "      <th>TotRmsAbvGrd</th>\n",
       "      <th>3SsnPorch</th>\n",
       "      <th>ScreenPorch</th>\n",
       "      <th>PoolArea</th>\n",
       "      <th>...</th>\n",
       "      <th>SaleType_ConLw</th>\n",
       "      <th>SaleType_New</th>\n",
       "      <th>SaleType_Oth</th>\n",
       "      <th>SaleType_WD</th>\n",
       "      <th>SaleCondition_Abnorml</th>\n",
       "      <th>SaleCondition_AdjLand</th>\n",
       "      <th>SaleCondition_Alloca</th>\n",
       "      <th>SaleCondition_Family</th>\n",
       "      <th>SaleCondition_Normal</th>\n",
       "      <th>SaleCondition_Partial</th>\n",
       "    </tr>\n",
       "    <tr>\n",
       "      <th>Id</th>\n",
       "      <th></th>\n",
       "      <th></th>\n",
       "      <th></th>\n",
       "      <th></th>\n",
       "      <th></th>\n",
       "      <th></th>\n",
       "      <th></th>\n",
       "      <th></th>\n",
       "      <th></th>\n",
       "      <th></th>\n",
       "      <th></th>\n",
       "      <th></th>\n",
       "      <th></th>\n",
       "      <th></th>\n",
       "      <th></th>\n",
       "      <th></th>\n",
       "      <th></th>\n",
       "      <th></th>\n",
       "      <th></th>\n",
       "      <th></th>\n",
       "      <th></th>\n",
       "    </tr>\n",
       "  </thead>\n",
       "  <tbody>\n",
       "    <tr>\n",
       "      <th>1</th>\n",
       "      <td>65.0</td>\n",
       "      <td>8450</td>\n",
       "      <td>706</td>\n",
       "      <td>856</td>\n",
       "      <td>854</td>\n",
       "      <td>2</td>\n",
       "      <td>8</td>\n",
       "      <td>0</td>\n",
       "      <td>0</td>\n",
       "      <td>0</td>\n",
       "      <td>...</td>\n",
       "      <td>0.0</td>\n",
       "      <td>0.0</td>\n",
       "      <td>0.0</td>\n",
       "      <td>1.0</td>\n",
       "      <td>0.0</td>\n",
       "      <td>0.0</td>\n",
       "      <td>0.0</td>\n",
       "      <td>0.0</td>\n",
       "      <td>1.0</td>\n",
       "      <td>0.0</td>\n",
       "    </tr>\n",
       "    <tr>\n",
       "      <th>2</th>\n",
       "      <td>80.0</td>\n",
       "      <td>9600</td>\n",
       "      <td>978</td>\n",
       "      <td>1262</td>\n",
       "      <td>0</td>\n",
       "      <td>2</td>\n",
       "      <td>6</td>\n",
       "      <td>0</td>\n",
       "      <td>0</td>\n",
       "      <td>0</td>\n",
       "      <td>...</td>\n",
       "      <td>0.0</td>\n",
       "      <td>0.0</td>\n",
       "      <td>0.0</td>\n",
       "      <td>1.0</td>\n",
       "      <td>0.0</td>\n",
       "      <td>0.0</td>\n",
       "      <td>0.0</td>\n",
       "      <td>0.0</td>\n",
       "      <td>1.0</td>\n",
       "      <td>0.0</td>\n",
       "    </tr>\n",
       "    <tr>\n",
       "      <th>3</th>\n",
       "      <td>68.0</td>\n",
       "      <td>11250</td>\n",
       "      <td>486</td>\n",
       "      <td>920</td>\n",
       "      <td>866</td>\n",
       "      <td>2</td>\n",
       "      <td>6</td>\n",
       "      <td>0</td>\n",
       "      <td>0</td>\n",
       "      <td>0</td>\n",
       "      <td>...</td>\n",
       "      <td>0.0</td>\n",
       "      <td>0.0</td>\n",
       "      <td>0.0</td>\n",
       "      <td>1.0</td>\n",
       "      <td>1.0</td>\n",
       "      <td>0.0</td>\n",
       "      <td>0.0</td>\n",
       "      <td>0.0</td>\n",
       "      <td>0.0</td>\n",
       "      <td>0.0</td>\n",
       "    </tr>\n",
       "    <tr>\n",
       "      <th>4</th>\n",
       "      <td>60.0</td>\n",
       "      <td>9550</td>\n",
       "      <td>216</td>\n",
       "      <td>961</td>\n",
       "      <td>756</td>\n",
       "      <td>1</td>\n",
       "      <td>7</td>\n",
       "      <td>0</td>\n",
       "      <td>0</td>\n",
       "      <td>0</td>\n",
       "      <td>...</td>\n",
       "      <td>0.0</td>\n",
       "      <td>0.0</td>\n",
       "      <td>0.0</td>\n",
       "      <td>1.0</td>\n",
       "      <td>0.0</td>\n",
       "      <td>0.0</td>\n",
       "      <td>0.0</td>\n",
       "      <td>0.0</td>\n",
       "      <td>1.0</td>\n",
       "      <td>0.0</td>\n",
       "    </tr>\n",
       "    <tr>\n",
       "      <th>5</th>\n",
       "      <td>84.0</td>\n",
       "      <td>14260</td>\n",
       "      <td>655</td>\n",
       "      <td>1145</td>\n",
       "      <td>1053</td>\n",
       "      <td>2</td>\n",
       "      <td>9</td>\n",
       "      <td>0</td>\n",
       "      <td>0</td>\n",
       "      <td>0</td>\n",
       "      <td>...</td>\n",
       "      <td>0.0</td>\n",
       "      <td>0.0</td>\n",
       "      <td>0.0</td>\n",
       "      <td>1.0</td>\n",
       "      <td>0.0</td>\n",
       "      <td>0.0</td>\n",
       "      <td>0.0</td>\n",
       "      <td>0.0</td>\n",
       "      <td>1.0</td>\n",
       "      <td>0.0</td>\n",
       "    </tr>\n",
       "  </tbody>\n",
       "</table>\n",
       "<p>5 rows × 162 columns</p>\n",
       "</div>"
      ],
      "text/plain": [
       "    LotFrontage  LotArea  BsmtFinSF1  1stFlrSF  2ndFlrSF  FullBath  \\\n",
       "Id                                                                   \n",
       "1          65.0     8450         706       856       854         2   \n",
       "2          80.0     9600         978      1262         0         2   \n",
       "3          68.0    11250         486       920       866         2   \n",
       "4          60.0     9550         216       961       756         1   \n",
       "5          84.0    14260         655      1145      1053         2   \n",
       "\n",
       "    TotRmsAbvGrd  3SsnPorch  ScreenPorch  PoolArea  ...  SaleType_ConLw  \\\n",
       "Id                                                  ...                   \n",
       "1              8          0            0         0  ...             0.0   \n",
       "2              6          0            0         0  ...             0.0   \n",
       "3              6          0            0         0  ...             0.0   \n",
       "4              7          0            0         0  ...             0.0   \n",
       "5              9          0            0         0  ...             0.0   \n",
       "\n",
       "    SaleType_New  SaleType_Oth  SaleType_WD  SaleCondition_Abnorml  \\\n",
       "Id                                                                   \n",
       "1            0.0           0.0          1.0                    0.0   \n",
       "2            0.0           0.0          1.0                    0.0   \n",
       "3            0.0           0.0          1.0                    1.0   \n",
       "4            0.0           0.0          1.0                    0.0   \n",
       "5            0.0           0.0          1.0                    0.0   \n",
       "\n",
       "    SaleCondition_AdjLand  SaleCondition_Alloca  SaleCondition_Family  \\\n",
       "Id                                                                      \n",
       "1                     0.0                   0.0                   0.0   \n",
       "2                     0.0                   0.0                   0.0   \n",
       "3                     0.0                   0.0                   0.0   \n",
       "4                     0.0                   0.0                   0.0   \n",
       "5                     0.0                   0.0                   0.0   \n",
       "\n",
       "    SaleCondition_Normal  SaleCondition_Partial  \n",
       "Id                                               \n",
       "1                    1.0                    0.0  \n",
       "2                    1.0                    0.0  \n",
       "3                    0.0                    0.0  \n",
       "4                    1.0                    0.0  \n",
       "5                    1.0                    0.0  \n",
       "\n",
       "[5 rows x 162 columns]"
      ]
     },
     "execution_count": 12,
     "metadata": {},
     "output_type": "execute_result"
    }
   ],
   "source": [
    "Encode_features = OneHotEncoder(sparse=False)\n",
    "features = pd.DataFrame(Encode_features.fit_transform(train_features[categorical_feature] ))\n",
    "features.columns = Encode_features.get_feature_names(categorical_feature)\n",
    "# train_features = pd.concat([train_features , pd.DataFrame(features)],axis=1)\n",
    "train_features[features.columns] = features\n",
    "train_features = train_features.drop(train_features[categorical_feature] ,axis =1)\n",
    "train_features = train_features.dropna()\n",
    "train_features.head()"
   ]
  },
  {
   "cell_type": "code",
   "execution_count": null,
   "metadata": {},
   "outputs": [],
   "source": [
    "from sklearn.preprocessing import OrdinalEncoder\n",
    "ordinal_encoder = OrdinalEncoder()\n",
    "ord_feature = pd.DataFrame(ordinal_encoder.fit_transform(train_features[ordinal_feature] ))\n",
    "# ord_feature.columns = ordinal_encoder.get_feature_names(ordinal_feature)\n",
    "# train_features = pd.concat([train_features , pd.DataFrame(features)],axis=1)\n",
    "train_features[ord_feature.columns] = ord_feature\n",
    "train_features = train_features.drop(train_features[ordinal_feature] ,axis =1)\n",
    "train_features = train_features.dropna()\n",
    "train_features.head()"
   ]
  },
  {
   "cell_type": "markdown",
   "metadata": {
    "papermill": {
     "duration": 0.040734,
     "end_time": "2022-04-09T00:58:24.460783",
     "exception": false,
     "start_time": "2022-04-09T00:58:24.420049",
     "status": "completed"
    },
    "tags": []
   },
   "source": [
    "# Split SalePrice As label"
   ]
  },
  {
   "cell_type": "code",
   "execution_count": 13,
   "metadata": {
    "execution": {
     "iopub.execute_input": "2022-04-09T00:58:24.550395Z",
     "iopub.status.busy": "2022-04-09T00:58:24.549721Z",
     "iopub.status.idle": "2022-04-09T00:58:24.552059Z",
     "shell.execute_reply": "2022-04-09T00:58:24.552535Z",
     "shell.execute_reply.started": "2022-04-09T00:56:56.775201Z"
    },
    "papermill": {
     "duration": 0.050753,
     "end_time": "2022-04-09T00:58:24.552704",
     "exception": false,
     "start_time": "2022-04-09T00:58:24.501951",
     "status": "completed"
    },
    "tags": []
   },
   "outputs": [],
   "source": [
    "train_labels = train_features.SalePrice\n",
    "train_features.drop(['SalePrice'], axis=1, inplace=True)"
   ]
  },
  {
   "cell_type": "markdown",
   "metadata": {
    "papermill": {
     "duration": 0.040903,
     "end_time": "2022-04-09T00:58:24.635208",
     "exception": false,
     "start_time": "2022-04-09T00:58:24.594305",
     "status": "completed"
    },
    "tags": []
   },
   "source": [
    "# One Hot Encoding test Data"
   ]
  },
  {
   "cell_type": "code",
   "execution_count": 14,
   "metadata": {
    "execution": {
     "iopub.execute_input": "2022-04-09T00:58:24.726959Z",
     "iopub.status.busy": "2022-04-09T00:58:24.725939Z",
     "iopub.status.idle": "2022-04-09T00:58:24.736540Z",
     "shell.execute_reply": "2022-04-09T00:58:24.735861Z",
     "shell.execute_reply.started": "2022-04-09T00:56:56.782208Z"
    },
    "papermill": {
     "duration": 0.060178,
     "end_time": "2022-04-09T00:58:24.736680",
     "exception": false,
     "start_time": "2022-04-09T00:58:24.676502",
     "status": "completed"
    },
    "tags": []
   },
   "outputs": [
    {
     "name": "stdout",
     "output_type": "stream",
     "text": [
      "<class 'pandas.core.frame.DataFrame'>\n",
      "RangeIndex: 1459 entries, 0 to 1458\n",
      "Data columns (total 16 columns):\n",
      " #   Column        Non-Null Count  Dtype  \n",
      "---  ------        --------------  -----  \n",
      " 0   LotFrontage   1232 non-null   float64\n",
      " 1   LotArea       1459 non-null   int64  \n",
      " 2   BsmtFinSF1    1458 non-null   float64\n",
      " 3   1stFlrSF      1459 non-null   int64  \n",
      " 4   2ndFlrSF      1459 non-null   int64  \n",
      " 5   FullBath      1459 non-null   int64  \n",
      " 6   TotRmsAbvGrd  1459 non-null   int64  \n",
      " 7   3SsnPorch     1459 non-null   int64  \n",
      " 8   ScreenPorch   1459 non-null   int64  \n",
      " 9   PoolArea      1459 non-null   int64  \n",
      " 10  OverallQual   1459 non-null   int64  \n",
      " 11  OverallCond   1459 non-null   int64  \n",
      " 12  YearRemodAdd  1459 non-null   int64  \n",
      " 13  BsmtFinSF2    1458 non-null   float64\n",
      " 14  TotalBsmtSF   1458 non-null   float64\n",
      " 15  GarageCars    1458 non-null   float64\n",
      "dtypes: float64(5), int64(11)\n",
      "memory usage: 182.5 KB\n"
     ]
    }
   ],
   "source": [
    "test_data[numerical_feature].info()"
   ]
  },
  {
   "cell_type": "code",
   "execution_count": 15,
   "metadata": {
    "execution": {
     "iopub.execute_input": "2022-04-09T00:58:24.828846Z",
     "iopub.status.busy": "2022-04-09T00:58:24.828176Z",
     "iopub.status.idle": "2022-04-09T00:58:24.860709Z",
     "shell.execute_reply": "2022-04-09T00:58:24.861453Z",
     "shell.execute_reply.started": "2022-04-09T00:56:56.803302Z"
    },
    "papermill": {
     "duration": 0.08333,
     "end_time": "2022-04-09T00:58:24.861677",
     "exception": false,
     "start_time": "2022-04-09T00:58:24.778347",
     "status": "completed"
    },
    "tags": []
   },
   "outputs": [
    {
     "name": "stderr",
     "output_type": "stream",
     "text": [
      "/opt/conda/lib/python3.7/site-packages/sklearn/utils/deprecation.py:87: FutureWarning: Function get_feature_names is deprecated; get_feature_names is deprecated in 1.0 and will be removed in 1.2. Please use get_feature_names_out instead.\n",
      "  warnings.warn(msg, category=FutureWarning)\n"
     ]
    }
   ],
   "source": [
    "t = pd.DataFrame(Encode_features.fit_transform(test_data[categorical_feature] ))\n",
    "t.columns = Encode_features.get_feature_names(categorical_feature)\n",
    "test_data = pd.concat([test_data , pd.DataFrame(t)],axis=1)\n",
    "test_data = test_data.drop(test_data[categorical_feature] ,axis =1)\n"
   ]
  },
  {
   "cell_type": "code",
   "execution_count": 16,
   "metadata": {
    "execution": {
     "iopub.execute_input": "2022-04-09T00:58:24.953862Z",
     "iopub.status.busy": "2022-04-09T00:58:24.953015Z",
     "iopub.status.idle": "2022-04-09T00:58:24.956309Z",
     "shell.execute_reply": "2022-04-09T00:58:24.956791Z",
     "shell.execute_reply.started": "2022-04-09T00:56:56.836810Z"
    },
    "papermill": {
     "duration": 0.05161,
     "end_time": "2022-04-09T00:58:24.956982",
     "exception": false,
     "start_time": "2022-04-09T00:58:24.905372",
     "status": "completed"
    },
    "tags": []
   },
   "outputs": [
    {
     "data": {
      "text/plain": [
       "(1459, 161)"
      ]
     },
     "execution_count": 16,
     "metadata": {},
     "output_type": "execute_result"
    }
   ],
   "source": [
    "test_data.shape"
   ]
  },
  {
   "cell_type": "markdown",
   "metadata": {
    "papermill": {
     "duration": 0.042479,
     "end_time": "2022-04-09T00:58:25.042695",
     "exception": false,
     "start_time": "2022-04-09T00:58:25.000216",
     "status": "completed"
    },
    "tags": []
   },
   "source": [
    "## Split to train and validation"
   ]
  },
  {
   "cell_type": "code",
   "execution_count": 17,
   "metadata": {
    "execution": {
     "iopub.execute_input": "2022-04-09T00:58:25.133044Z",
     "iopub.status.busy": "2022-04-09T00:58:25.132213Z",
     "iopub.status.idle": "2022-04-09T00:58:25.135405Z",
     "shell.execute_reply": "2022-04-09T00:58:25.134700Z",
     "shell.execute_reply.started": "2022-04-09T00:56:56.844651Z"
    },
    "papermill": {
     "duration": 0.050358,
     "end_time": "2022-04-09T00:58:25.135551",
     "exception": false,
     "start_time": "2022-04-09T00:58:25.085193",
     "status": "completed"
    },
    "tags": []
   },
   "outputs": [],
   "source": [
    "# validation_set = train_features.iloc[1100:]\n",
    "# validation_labels = train_labels.iloc[1100:]\n",
    "\n",
    "# train_features = train_features.iloc[0:1100]\n",
    "# train_labels = train_labels.iloc[0:1100]\n"
   ]
  },
  {
   "cell_type": "code",
   "execution_count": 18,
   "metadata": {
    "execution": {
     "iopub.execute_input": "2022-04-09T00:58:25.225297Z",
     "iopub.status.busy": "2022-04-09T00:58:25.224373Z",
     "iopub.status.idle": "2022-04-09T00:58:25.227233Z",
     "shell.execute_reply": "2022-04-09T00:58:25.226663Z",
     "shell.execute_reply.started": "2022-04-09T00:56:56.862889Z"
    },
    "papermill": {
     "duration": 0.049305,
     "end_time": "2022-04-09T00:58:25.227386",
     "exception": false,
     "start_time": "2022-04-09T00:58:25.178081",
     "status": "completed"
    },
    "tags": []
   },
   "outputs": [],
   "source": [
    "# validation_set.shape"
   ]
  },
  {
   "cell_type": "markdown",
   "metadata": {
    "papermill": {
     "duration": 0.042224,
     "end_time": "2022-04-09T00:58:25.312062",
     "exception": false,
     "start_time": "2022-04-09T00:58:25.269838",
     "status": "completed"
    },
    "tags": []
   },
   "source": [
    "# apply Linear Regression"
   ]
  },
  {
   "cell_type": "code",
   "execution_count": 19,
   "metadata": {
    "execution": {
     "iopub.execute_input": "2022-04-09T00:58:25.401543Z",
     "iopub.status.busy": "2022-04-09T00:58:25.400769Z",
     "iopub.status.idle": "2022-04-09T00:58:25.403107Z",
     "shell.execute_reply": "2022-04-09T00:58:25.403632Z",
     "shell.execute_reply.started": "2022-04-09T00:56:56.925281Z"
    },
    "papermill": {
     "duration": 0.049301,
     "end_time": "2022-04-09T00:58:25.403802",
     "exception": false,
     "start_time": "2022-04-09T00:58:25.354501",
     "status": "completed"
    },
    "tags": []
   },
   "outputs": [],
   "source": [
    "# from sklearn.linear_model import LinearRegression\n",
    "# reg = LinearRegression().fit(train_features, train_labels)\n",
    "# reg.score(train_features, train_labels)"
   ]
  },
  {
   "cell_type": "code",
   "execution_count": 20,
   "metadata": {
    "execution": {
     "iopub.execute_input": "2022-04-09T00:58:25.494098Z",
     "iopub.status.busy": "2022-04-09T00:58:25.493433Z",
     "iopub.status.idle": "2022-04-09T00:58:27.328823Z",
     "shell.execute_reply": "2022-04-09T00:58:27.328294Z",
     "shell.execute_reply.started": "2022-04-09T00:56:56.990580Z"
    },
    "papermill": {
     "duration": 1.882658,
     "end_time": "2022-04-09T00:58:27.328990",
     "exception": false,
     "start_time": "2022-04-09T00:58:25.446332",
     "status": "completed"
    },
    "tags": []
   },
   "outputs": [
    {
     "data": {
      "text/plain": [
       "RandomForestRegressor(max_depth=12, random_state=0)"
      ]
     },
     "execution_count": 20,
     "metadata": {},
     "output_type": "execute_result"
    }
   ],
   "source": [
    "\n",
    "from sklearn.ensemble import RandomForestRegressor\n",
    "reg = RandomForestRegressor(max_depth=12, random_state=0)\n",
    "reg.fit(train_features, train_labels)"
   ]
  },
  {
   "cell_type": "markdown",
   "metadata": {
    "papermill": {
     "duration": 0.04194,
     "end_time": "2022-04-09T00:58:27.414482",
     "exception": false,
     "start_time": "2022-04-09T00:58:27.372542",
     "status": "completed"
    },
    "tags": []
   },
   "source": [
    "# Graph of scores vs 10 Parameters"
   ]
  },
  {
   "cell_type": "code",
   "execution_count": 21,
   "metadata": {
    "execution": {
     "iopub.execute_input": "2022-04-09T00:58:27.502810Z",
     "iopub.status.busy": "2022-04-09T00:58:27.502150Z",
     "iopub.status.idle": "2022-04-09T00:58:27.505284Z",
     "shell.execute_reply": "2022-04-09T00:58:27.505806Z",
     "shell.execute_reply.started": "2022-04-09T00:56:58.562444Z"
    },
    "papermill": {
     "duration": 0.0486,
     "end_time": "2022-04-09T00:58:27.505994",
     "exception": false,
     "start_time": "2022-04-09T00:58:27.457394",
     "status": "completed"
    },
    "tags": []
   },
   "outputs": [],
   "source": [
    "# import matplotlib.pyplot as plt\n",
    "# listof_scores = []\n",
    "# list_of_paramters = [2 , 10 , 5 , 3 , 15 , 30 , 9 , 4 , 12 , 35]\n",
    "# for i in list_of_paramters:\n",
    "#     regrr = RandomForestRegressor(max_depth=i, random_state=0)\n",
    "#     regrr.fit(train_features, train_labels)\n",
    "#     listof_scores.append(regrr.score(validation_set, validation_labels))\n",
    "    \n",
    "# plt.plot(listof_scores)    \n",
    "# plt.xlabel(\"Score\")\n",
    "# plt.ylabel(\"parameter\")\n",
    "# plt.show"
   ]
  },
  {
   "cell_type": "code",
   "execution_count": 22,
   "metadata": {
    "execution": {
     "iopub.execute_input": "2022-04-09T00:58:27.594206Z",
     "iopub.status.busy": "2022-04-09T00:58:27.593560Z",
     "iopub.status.idle": "2022-04-09T00:58:27.596374Z",
     "shell.execute_reply": "2022-04-09T00:58:27.596910Z",
     "shell.execute_reply.started": "2022-04-09T00:56:58.567368Z"
    },
    "papermill": {
     "duration": 0.048861,
     "end_time": "2022-04-09T00:58:27.597080",
     "exception": false,
     "start_time": "2022-04-09T00:58:27.548219",
     "status": "completed"
    },
    "tags": []
   },
   "outputs": [],
   "source": [
    "# from sklearn.ensemble import GradientBoostingRegressor\n",
    "# reg = GradientBoostingRegressor(n_estimators=100, learning_rate=1.0,\n",
    "# max_depth=2, random_state=0).fit(train_features, train_labels)"
   ]
  },
  {
   "cell_type": "markdown",
   "metadata": {
    "papermill": {
     "duration": 0.042377,
     "end_time": "2022-04-09T00:58:27.681980",
     "exception": false,
     "start_time": "2022-04-09T00:58:27.639603",
     "status": "completed"
    },
    "tags": []
   },
   "source": [
    "# Graph of scores vs 10 alphas"
   ]
  },
  {
   "cell_type": "code",
   "execution_count": 23,
   "metadata": {
    "execution": {
     "iopub.execute_input": "2022-04-09T00:58:27.771720Z",
     "iopub.status.busy": "2022-04-09T00:58:27.771057Z",
     "iopub.status.idle": "2022-04-09T00:58:27.774401Z",
     "shell.execute_reply": "2022-04-09T00:58:27.774921Z",
     "shell.execute_reply.started": "2022-04-09T00:56:58.579914Z"
    },
    "papermill": {
     "duration": 0.050695,
     "end_time": "2022-04-09T00:58:27.775098",
     "exception": false,
     "start_time": "2022-04-09T00:58:27.724403",
     "status": "completed"
    },
    "tags": []
   },
   "outputs": [],
   "source": [
    "# from sklearn.ensemble import GradientBoostingRegressor\n",
    "# import matplotlib.pyplot as plt\n",
    "# listof_scores = []\n",
    "# list_of_alpha = [0.1 , 0.5 , 0.8 , 0.55 , 0.001 , 1.0 , 0.009 , 0.0004 , 0.2 , 0.6]\n",
    "# for i in list_of_alpha:\n",
    "#     regrr = GradientBoostingRegressor(n_estimators=100, learning_rate=i,\n",
    "#             max_depth=2, random_state=0).fit(train_features, train_labels)\n",
    "#     listof_scores.append(regrr.score(validation_set, validation_labels))\n",
    "    \n",
    "# plt.plot(listof_scores)    \n",
    "# plt.xlabel(\"Score\")\n",
    "# plt.ylabel(\"parameter\")\n",
    "# plt.show"
   ]
  },
  {
   "cell_type": "code",
   "execution_count": 24,
   "metadata": {
    "execution": {
     "iopub.execute_input": "2022-04-09T00:58:27.863148Z",
     "iopub.status.busy": "2022-04-09T00:58:27.862524Z",
     "iopub.status.idle": "2022-04-09T00:58:27.905821Z",
     "shell.execute_reply": "2022-04-09T00:58:27.906290Z",
     "shell.execute_reply.started": "2022-04-09T00:56:58.590394Z"
    },
    "papermill": {
     "duration": 0.088493,
     "end_time": "2022-04-09T00:58:27.906474",
     "exception": false,
     "start_time": "2022-04-09T00:58:27.817981",
     "status": "completed"
    },
    "tags": []
   },
   "outputs": [
    {
     "data": {
      "text/plain": [
       "0.9760076848173699"
      ]
     },
     "execution_count": 24,
     "metadata": {},
     "output_type": "execute_result"
    }
   ],
   "source": [
    "reg.score(train_features, train_labels)"
   ]
  },
  {
   "cell_type": "code",
   "execution_count": 25,
   "metadata": {
    "execution": {
     "iopub.execute_input": "2022-04-09T00:58:27.995990Z",
     "iopub.status.busy": "2022-04-09T00:58:27.995281Z",
     "iopub.status.idle": "2022-04-09T00:58:27.999930Z",
     "shell.execute_reply": "2022-04-09T00:58:28.000525Z",
     "shell.execute_reply.started": "2022-04-09T00:56:58.639479Z"
    },
    "papermill": {
     "duration": 0.051259,
     "end_time": "2022-04-09T00:58:28.000698",
     "exception": false,
     "start_time": "2022-04-09T00:58:27.949439",
     "status": "completed"
    },
    "tags": []
   },
   "outputs": [],
   "source": [
    "test_data = test_data.fillna(0)\n",
    "# np.nan_to_num(data)"
   ]
  },
  {
   "cell_type": "code",
   "execution_count": 26,
   "metadata": {
    "execution": {
     "iopub.execute_input": "2022-04-09T00:58:28.090849Z",
     "iopub.status.busy": "2022-04-09T00:58:28.090224Z",
     "iopub.status.idle": "2022-04-09T00:58:28.131865Z",
     "shell.execute_reply": "2022-04-09T00:58:28.132521Z",
     "shell.execute_reply.started": "2022-04-09T00:56:58.645169Z"
    },
    "papermill": {
     "duration": 0.088207,
     "end_time": "2022-04-09T00:58:28.132695",
     "exception": false,
     "start_time": "2022-04-09T00:58:28.044488",
     "status": "completed"
    },
    "tags": []
   },
   "outputs": [
    {
     "name": "stderr",
     "output_type": "stream",
     "text": [
      "/opt/conda/lib/python3.7/site-packages/sklearn/base.py:488: FutureWarning: The feature names should match those that were passed during fit. Starting version 1.2, an error will be raised.\n",
      "Feature names unseen at fit time:\n",
      "- BsmtExposure_nan\n",
      "- BsmtFinType1_nan\n",
      "- BsmtFinType2_nan\n",
      "- BsmtQual_nan\n",
      "- Exterior1st_nan\n",
      "- ...\n",
      "Feature names seen at fit time, yet now missing:\n",
      "- Condition2_RRAe\n",
      "- Condition2_RRAn\n",
      "- Condition2_RRNn\n",
      "- Electrical_Mix\n",
      "- Exterior1st_ImStucc\n",
      "- ...\n",
      "\n",
      "  warnings.warn(message, FutureWarning)\n"
     ]
    }
   ],
   "source": [
    "predection = reg.predict(test_data)"
   ]
  },
  {
   "cell_type": "code",
   "execution_count": 27,
   "metadata": {
    "execution": {
     "iopub.execute_input": "2022-04-09T00:58:28.223463Z",
     "iopub.status.busy": "2022-04-09T00:58:28.222745Z",
     "iopub.status.idle": "2022-04-09T00:58:28.229004Z",
     "shell.execute_reply": "2022-04-09T00:58:28.229485Z",
     "shell.execute_reply.started": "2022-04-09T00:56:58.690970Z"
    },
    "papermill": {
     "duration": 0.05335,
     "end_time": "2022-04-09T00:58:28.229671",
     "exception": false,
     "start_time": "2022-04-09T00:58:28.176321",
     "status": "completed"
    },
    "tags": []
   },
   "outputs": [],
   "source": [
    "predections = pd.DataFrame()\n",
    "predections['Id'] = Test_data_Id\n",
    "predections['SalePrice'] = predection[0:1459]\n"
   ]
  },
  {
   "cell_type": "code",
   "execution_count": 28,
   "metadata": {
    "execution": {
     "iopub.execute_input": "2022-04-09T00:58:28.321645Z",
     "iopub.status.busy": "2022-04-09T00:58:28.320645Z",
     "iopub.status.idle": "2022-04-09T00:58:28.326116Z",
     "shell.execute_reply": "2022-04-09T00:58:28.326566Z",
     "shell.execute_reply.started": "2022-04-09T00:56:58.698530Z"
    },
    "papermill": {
     "duration": 0.052948,
     "end_time": "2022-04-09T00:58:28.326746",
     "exception": false,
     "start_time": "2022-04-09T00:58:28.273798",
     "status": "completed"
    },
    "tags": []
   },
   "outputs": [
    {
     "data": {
      "text/plain": [
       "(1459, 2)"
      ]
     },
     "execution_count": 28,
     "metadata": {},
     "output_type": "execute_result"
    }
   ],
   "source": [
    "predections.shape"
   ]
  },
  {
   "cell_type": "code",
   "execution_count": 29,
   "metadata": {
    "execution": {
     "iopub.execute_input": "2022-04-09T00:58:28.420274Z",
     "iopub.status.busy": "2022-04-09T00:58:28.419573Z",
     "iopub.status.idle": "2022-04-09T00:58:28.431923Z",
     "shell.execute_reply": "2022-04-09T00:58:28.432911Z",
     "shell.execute_reply.started": "2022-04-09T00:56:58.711779Z"
    },
    "papermill": {
     "duration": 0.062012,
     "end_time": "2022-04-09T00:58:28.433156",
     "exception": false,
     "start_time": "2022-04-09T00:58:28.371144",
     "status": "completed"
    },
    "tags": []
   },
   "outputs": [],
   "source": [
    "predections.to_csv(\"predections.csv\", index=None, sep=\",\")"
   ]
  }
 ],
 "metadata": {
  "kernelspec": {
   "display_name": "Python 3",
   "language": "python",
   "name": "python3"
  },
  "language_info": {
   "codemirror_mode": {
    "name": "ipython",
    "version": 3
   },
   "file_extension": ".py",
   "mimetype": "text/x-python",
   "name": "python",
   "nbconvert_exporter": "python",
   "pygments_lexer": "ipython3",
   "version": "3.8.5"
  },
  "papermill": {
   "default_parameters": {},
   "duration": 17.881861,
   "end_time": "2022-04-09T00:58:29.190495",
   "environment_variables": {},
   "exception": null,
   "input_path": "__notebook__.ipynb",
   "output_path": "__notebook__.ipynb",
   "parameters": {},
   "start_time": "2022-04-09T00:58:11.308634",
   "version": "2.3.3"
  }
 },
 "nbformat": 4,
 "nbformat_minor": 5
}
