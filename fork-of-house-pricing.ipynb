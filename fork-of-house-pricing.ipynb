{
 "cells": [
  {
   "cell_type": "code",
   "execution_count": 1,
   "id": "2ef80551",
   "metadata": {
    "_cell_guid": "b1076dfc-b9ad-4769-8c92-a6c4dae69d19",
    "_uuid": "8f2839f25d086af736a60e9eeb907d3b93b6e0e5",
    "execution": {
     "iopub.execute_input": "2022-04-07T14:52:59.496298Z",
     "iopub.status.busy": "2022-04-07T14:52:59.493720Z",
     "iopub.status.idle": "2022-04-07T14:52:59.502242Z",
     "shell.execute_reply": "2022-04-07T14:52:59.502763Z",
     "shell.execute_reply.started": "2022-04-07T14:46:28.773474Z"
    },
    "papermill": {
     "duration": 0.06093,
     "end_time": "2022-04-07T14:52:59.503106",
     "exception": false,
     "start_time": "2022-04-07T14:52:59.442176",
     "status": "completed"
    },
    "tags": []
   },
   "outputs": [
    {
     "name": "stdout",
     "output_type": "stream",
     "text": [
      "/kaggle/input/house-prices-advanced-regression-techniques/sample_submission.csv\n",
      "/kaggle/input/house-prices-advanced-regression-techniques/data_description.txt\n",
      "/kaggle/input/house-prices-advanced-regression-techniques/train.csv\n",
      "/kaggle/input/house-prices-advanced-regression-techniques/test.csv\n"
     ]
    }
   ],
   "source": [
    "# This Python 3 environment comes with many helpful analytics libraries installed\n",
    "# It is defined by the kaggle/python Docker image: https://github.com/kaggle/docker-python\n",
    "# For example, here's several helpful packages to load\n",
    "\n",
    "import numpy as np # linear algebra\n",
    "import pandas as pd # data processing, CSV file I/O (e.g. pd.read_csv)\n",
    "\n",
    "# Input data files are available in the read-only \"../input/\" directory\n",
    "# For example, running this (by clicking run or pressing Shift+Enter) will list all files under the input directory\n",
    "\n",
    "import os\n",
    "for dirname, _, filenames in os.walk('/kaggle/input'):\n",
    "    for filename in filenames:\n",
    "        print(os.path.join(dirname, filename))\n",
    "\n",
    "# You can write up to 20GB to the current directory (/kaggle/working/) that gets preserved as output when you create a version using \"Save & Run All\" \n",
    "# You can also write temporary files to /kaggle/temp/, but they won't be saved outside of the current session"
   ]
  },
  {
   "cell_type": "markdown",
   "id": "9cb8f416",
   "metadata": {
    "papermill": {
     "duration": 0.038698,
     "end_time": "2022-04-07T14:52:59.584302",
     "exception": false,
     "start_time": "2022-04-07T14:52:59.545604",
     "status": "completed"
    },
    "tags": []
   },
   "source": [
    "# Data Exploring and Cleaning"
   ]
  },
  {
   "cell_type": "markdown",
   "id": "251552c0",
   "metadata": {
    "papermill": {
     "duration": 0.038587,
     "end_time": "2022-04-07T14:52:59.662192",
     "exception": false,
     "start_time": "2022-04-07T14:52:59.623605",
     "status": "completed"
    },
    "tags": []
   },
   "source": [
    "## Read Data"
   ]
  },
  {
   "cell_type": "code",
   "execution_count": 2,
   "id": "26bf6ce5",
   "metadata": {
    "execution": {
     "iopub.execute_input": "2022-04-07T14:52:59.746323Z",
     "iopub.status.busy": "2022-04-07T14:52:59.745492Z",
     "iopub.status.idle": "2022-04-07T14:53:00.800307Z",
     "shell.execute_reply": "2022-04-07T14:53:00.799461Z",
     "shell.execute_reply.started": "2022-04-07T14:46:28.804861Z"
    },
    "papermill": {
     "duration": 1.099136,
     "end_time": "2022-04-07T14:53:00.800474",
     "exception": false,
     "start_time": "2022-04-07T14:52:59.701338",
     "status": "completed"
    },
    "tags": []
   },
   "outputs": [],
   "source": [
    "import sklearn as sk"
   ]
  },
  {
   "cell_type": "code",
   "execution_count": 3,
   "id": "9d33b907",
   "metadata": {
    "execution": {
     "iopub.execute_input": "2022-04-07T14:53:00.886457Z",
     "iopub.status.busy": "2022-04-07T14:53:00.885607Z",
     "iopub.status.idle": "2022-04-07T14:53:01.002312Z",
     "shell.execute_reply": "2022-04-07T14:53:01.002788Z",
     "shell.execute_reply.started": "2022-04-07T14:46:29.937209Z"
    },
    "papermill": {
     "duration": 0.163315,
     "end_time": "2022-04-07T14:53:01.003001",
     "exception": false,
     "start_time": "2022-04-07T14:53:00.839686",
     "status": "completed"
    },
    "tags": []
   },
   "outputs": [],
   "source": [
    "train_data = pd.read_csv('../input/house-prices-advanced-regression-techniques/train.csv' , index_col= 'Id')\n",
    "test_data = pd.read_csv('../input/house-prices-advanced-regression-techniques/test.csv')\n",
    "train_data.dropna(axis=0, subset=['SalePrice'], inplace=True)\n",
    "\n",
    "Test_data_Id = test_data[\"Id\"]\n",
    "\n",
    "data_with_label = pd.read_csv('../input/house-prices-advanced-regression-techniques/train.csv' , index_col= 'Id')\n",
    "data_with_label.dropna(axis=0, subset=['SalePrice'], inplace=True)"
   ]
  },
  {
   "cell_type": "code",
   "execution_count": 4,
   "id": "727c388f",
   "metadata": {
    "execution": {
     "iopub.execute_input": "2022-04-07T14:53:01.097274Z",
     "iopub.status.busy": "2022-04-07T14:53:01.096149Z",
     "iopub.status.idle": "2022-04-07T14:53:01.122020Z",
     "shell.execute_reply": "2022-04-07T14:53:01.122529Z",
     "shell.execute_reply.started": "2022-04-07T14:46:30.081384Z"
    },
    "papermill": {
     "duration": 0.077679,
     "end_time": "2022-04-07T14:53:01.122696",
     "exception": false,
     "start_time": "2022-04-07T14:53:01.045017",
     "status": "completed"
    },
    "tags": []
   },
   "outputs": [
    {
     "data": {
      "text/html": [
       "<div>\n",
       "<style scoped>\n",
       "    .dataframe tbody tr th:only-of-type {\n",
       "        vertical-align: middle;\n",
       "    }\n",
       "\n",
       "    .dataframe tbody tr th {\n",
       "        vertical-align: top;\n",
       "    }\n",
       "\n",
       "    .dataframe thead th {\n",
       "        text-align: right;\n",
       "    }\n",
       "</style>\n",
       "<table border=\"1\" class=\"dataframe\">\n",
       "  <thead>\n",
       "    <tr style=\"text-align: right;\">\n",
       "      <th></th>\n",
       "      <th>MSSubClass</th>\n",
       "      <th>MSZoning</th>\n",
       "      <th>LotFrontage</th>\n",
       "      <th>LotArea</th>\n",
       "      <th>Street</th>\n",
       "      <th>Alley</th>\n",
       "      <th>LotShape</th>\n",
       "      <th>LandContour</th>\n",
       "      <th>Utilities</th>\n",
       "      <th>LotConfig</th>\n",
       "      <th>...</th>\n",
       "      <th>PoolArea</th>\n",
       "      <th>PoolQC</th>\n",
       "      <th>Fence</th>\n",
       "      <th>MiscFeature</th>\n",
       "      <th>MiscVal</th>\n",
       "      <th>MoSold</th>\n",
       "      <th>YrSold</th>\n",
       "      <th>SaleType</th>\n",
       "      <th>SaleCondition</th>\n",
       "      <th>SalePrice</th>\n",
       "    </tr>\n",
       "    <tr>\n",
       "      <th>Id</th>\n",
       "      <th></th>\n",
       "      <th></th>\n",
       "      <th></th>\n",
       "      <th></th>\n",
       "      <th></th>\n",
       "      <th></th>\n",
       "      <th></th>\n",
       "      <th></th>\n",
       "      <th></th>\n",
       "      <th></th>\n",
       "      <th></th>\n",
       "      <th></th>\n",
       "      <th></th>\n",
       "      <th></th>\n",
       "      <th></th>\n",
       "      <th></th>\n",
       "      <th></th>\n",
       "      <th></th>\n",
       "      <th></th>\n",
       "      <th></th>\n",
       "      <th></th>\n",
       "    </tr>\n",
       "  </thead>\n",
       "  <tbody>\n",
       "    <tr>\n",
       "      <th>1</th>\n",
       "      <td>60</td>\n",
       "      <td>RL</td>\n",
       "      <td>65.0</td>\n",
       "      <td>8450</td>\n",
       "      <td>Pave</td>\n",
       "      <td>NaN</td>\n",
       "      <td>Reg</td>\n",
       "      <td>Lvl</td>\n",
       "      <td>AllPub</td>\n",
       "      <td>Inside</td>\n",
       "      <td>...</td>\n",
       "      <td>0</td>\n",
       "      <td>NaN</td>\n",
       "      <td>NaN</td>\n",
       "      <td>NaN</td>\n",
       "      <td>0</td>\n",
       "      <td>2</td>\n",
       "      <td>2008</td>\n",
       "      <td>WD</td>\n",
       "      <td>Normal</td>\n",
       "      <td>208500</td>\n",
       "    </tr>\n",
       "    <tr>\n",
       "      <th>2</th>\n",
       "      <td>20</td>\n",
       "      <td>RL</td>\n",
       "      <td>80.0</td>\n",
       "      <td>9600</td>\n",
       "      <td>Pave</td>\n",
       "      <td>NaN</td>\n",
       "      <td>Reg</td>\n",
       "      <td>Lvl</td>\n",
       "      <td>AllPub</td>\n",
       "      <td>FR2</td>\n",
       "      <td>...</td>\n",
       "      <td>0</td>\n",
       "      <td>NaN</td>\n",
       "      <td>NaN</td>\n",
       "      <td>NaN</td>\n",
       "      <td>0</td>\n",
       "      <td>5</td>\n",
       "      <td>2007</td>\n",
       "      <td>WD</td>\n",
       "      <td>Normal</td>\n",
       "      <td>181500</td>\n",
       "    </tr>\n",
       "    <tr>\n",
       "      <th>3</th>\n",
       "      <td>60</td>\n",
       "      <td>RL</td>\n",
       "      <td>68.0</td>\n",
       "      <td>11250</td>\n",
       "      <td>Pave</td>\n",
       "      <td>NaN</td>\n",
       "      <td>IR1</td>\n",
       "      <td>Lvl</td>\n",
       "      <td>AllPub</td>\n",
       "      <td>Inside</td>\n",
       "      <td>...</td>\n",
       "      <td>0</td>\n",
       "      <td>NaN</td>\n",
       "      <td>NaN</td>\n",
       "      <td>NaN</td>\n",
       "      <td>0</td>\n",
       "      <td>9</td>\n",
       "      <td>2008</td>\n",
       "      <td>WD</td>\n",
       "      <td>Normal</td>\n",
       "      <td>223500</td>\n",
       "    </tr>\n",
       "    <tr>\n",
       "      <th>4</th>\n",
       "      <td>70</td>\n",
       "      <td>RL</td>\n",
       "      <td>60.0</td>\n",
       "      <td>9550</td>\n",
       "      <td>Pave</td>\n",
       "      <td>NaN</td>\n",
       "      <td>IR1</td>\n",
       "      <td>Lvl</td>\n",
       "      <td>AllPub</td>\n",
       "      <td>Corner</td>\n",
       "      <td>...</td>\n",
       "      <td>0</td>\n",
       "      <td>NaN</td>\n",
       "      <td>NaN</td>\n",
       "      <td>NaN</td>\n",
       "      <td>0</td>\n",
       "      <td>2</td>\n",
       "      <td>2006</td>\n",
       "      <td>WD</td>\n",
       "      <td>Abnorml</td>\n",
       "      <td>140000</td>\n",
       "    </tr>\n",
       "    <tr>\n",
       "      <th>5</th>\n",
       "      <td>60</td>\n",
       "      <td>RL</td>\n",
       "      <td>84.0</td>\n",
       "      <td>14260</td>\n",
       "      <td>Pave</td>\n",
       "      <td>NaN</td>\n",
       "      <td>IR1</td>\n",
       "      <td>Lvl</td>\n",
       "      <td>AllPub</td>\n",
       "      <td>FR2</td>\n",
       "      <td>...</td>\n",
       "      <td>0</td>\n",
       "      <td>NaN</td>\n",
       "      <td>NaN</td>\n",
       "      <td>NaN</td>\n",
       "      <td>0</td>\n",
       "      <td>12</td>\n",
       "      <td>2008</td>\n",
       "      <td>WD</td>\n",
       "      <td>Normal</td>\n",
       "      <td>250000</td>\n",
       "    </tr>\n",
       "  </tbody>\n",
       "</table>\n",
       "<p>5 rows × 80 columns</p>\n",
       "</div>"
      ],
      "text/plain": [
       "    MSSubClass MSZoning  LotFrontage  LotArea Street Alley LotShape  \\\n",
       "Id                                                                    \n",
       "1           60       RL         65.0     8450   Pave   NaN      Reg   \n",
       "2           20       RL         80.0     9600   Pave   NaN      Reg   \n",
       "3           60       RL         68.0    11250   Pave   NaN      IR1   \n",
       "4           70       RL         60.0     9550   Pave   NaN      IR1   \n",
       "5           60       RL         84.0    14260   Pave   NaN      IR1   \n",
       "\n",
       "   LandContour Utilities LotConfig  ... PoolArea PoolQC Fence MiscFeature  \\\n",
       "Id                                  ...                                     \n",
       "1          Lvl    AllPub    Inside  ...        0    NaN   NaN         NaN   \n",
       "2          Lvl    AllPub       FR2  ...        0    NaN   NaN         NaN   \n",
       "3          Lvl    AllPub    Inside  ...        0    NaN   NaN         NaN   \n",
       "4          Lvl    AllPub    Corner  ...        0    NaN   NaN         NaN   \n",
       "5          Lvl    AllPub       FR2  ...        0    NaN   NaN         NaN   \n",
       "\n",
       "   MiscVal MoSold  YrSold  SaleType  SaleCondition  SalePrice  \n",
       "Id                                                             \n",
       "1        0      2    2008        WD         Normal     208500  \n",
       "2        0      5    2007        WD         Normal     181500  \n",
       "3        0      9    2008        WD         Normal     223500  \n",
       "4        0      2    2006        WD        Abnorml     140000  \n",
       "5        0     12    2008        WD         Normal     250000  \n",
       "\n",
       "[5 rows x 80 columns]"
      ]
     },
     "execution_count": 4,
     "metadata": {},
     "output_type": "execute_result"
    }
   ],
   "source": [
    "data_with_label.head()"
   ]
  },
  {
   "cell_type": "code",
   "execution_count": 5,
   "id": "d86eb95c",
   "metadata": {
    "execution": {
     "iopub.execute_input": "2022-04-07T14:53:01.206248Z",
     "iopub.status.busy": "2022-04-07T14:53:01.205241Z",
     "iopub.status.idle": "2022-04-07T14:53:01.234819Z",
     "shell.execute_reply": "2022-04-07T14:53:01.235354Z",
     "shell.execute_reply.started": "2022-04-07T14:46:30.123345Z"
    },
    "papermill": {
     "duration": 0.072683,
     "end_time": "2022-04-07T14:53:01.235556",
     "exception": false,
     "start_time": "2022-04-07T14:53:01.162873",
     "status": "completed"
    },
    "tags": []
   },
   "outputs": [
    {
     "name": "stdout",
     "output_type": "stream",
     "text": [
      "<class 'pandas.core.frame.DataFrame'>\n",
      "Int64Index: 1460 entries, 1 to 1460\n",
      "Data columns (total 80 columns):\n",
      " #   Column         Non-Null Count  Dtype  \n",
      "---  ------         --------------  -----  \n",
      " 0   MSSubClass     1460 non-null   int64  \n",
      " 1   MSZoning       1460 non-null   object \n",
      " 2   LotFrontage    1201 non-null   float64\n",
      " 3   LotArea        1460 non-null   int64  \n",
      " 4   Street         1460 non-null   object \n",
      " 5   Alley          91 non-null     object \n",
      " 6   LotShape       1460 non-null   object \n",
      " 7   LandContour    1460 non-null   object \n",
      " 8   Utilities      1460 non-null   object \n",
      " 9   LotConfig      1460 non-null   object \n",
      " 10  LandSlope      1460 non-null   object \n",
      " 11  Neighborhood   1460 non-null   object \n",
      " 12  Condition1     1460 non-null   object \n",
      " 13  Condition2     1460 non-null   object \n",
      " 14  BldgType       1460 non-null   object \n",
      " 15  HouseStyle     1460 non-null   object \n",
      " 16  OverallQual    1460 non-null   int64  \n",
      " 17  OverallCond    1460 non-null   int64  \n",
      " 18  YearBuilt      1460 non-null   int64  \n",
      " 19  YearRemodAdd   1460 non-null   int64  \n",
      " 20  RoofStyle      1460 non-null   object \n",
      " 21  RoofMatl       1460 non-null   object \n",
      " 22  Exterior1st    1460 non-null   object \n",
      " 23  Exterior2nd    1460 non-null   object \n",
      " 24  MasVnrType     1452 non-null   object \n",
      " 25  MasVnrArea     1452 non-null   float64\n",
      " 26  ExterQual      1460 non-null   object \n",
      " 27  ExterCond      1460 non-null   object \n",
      " 28  Foundation     1460 non-null   object \n",
      " 29  BsmtQual       1423 non-null   object \n",
      " 30  BsmtCond       1423 non-null   object \n",
      " 31  BsmtExposure   1422 non-null   object \n",
      " 32  BsmtFinType1   1423 non-null   object \n",
      " 33  BsmtFinSF1     1460 non-null   int64  \n",
      " 34  BsmtFinType2   1422 non-null   object \n",
      " 35  BsmtFinSF2     1460 non-null   int64  \n",
      " 36  BsmtUnfSF      1460 non-null   int64  \n",
      " 37  TotalBsmtSF    1460 non-null   int64  \n",
      " 38  Heating        1460 non-null   object \n",
      " 39  HeatingQC      1460 non-null   object \n",
      " 40  CentralAir     1460 non-null   object \n",
      " 41  Electrical     1459 non-null   object \n",
      " 42  1stFlrSF       1460 non-null   int64  \n",
      " 43  2ndFlrSF       1460 non-null   int64  \n",
      " 44  LowQualFinSF   1460 non-null   int64  \n",
      " 45  GrLivArea      1460 non-null   int64  \n",
      " 46  BsmtFullBath   1460 non-null   int64  \n",
      " 47  BsmtHalfBath   1460 non-null   int64  \n",
      " 48  FullBath       1460 non-null   int64  \n",
      " 49  HalfBath       1460 non-null   int64  \n",
      " 50  BedroomAbvGr   1460 non-null   int64  \n",
      " 51  KitchenAbvGr   1460 non-null   int64  \n",
      " 52  KitchenQual    1460 non-null   object \n",
      " 53  TotRmsAbvGrd   1460 non-null   int64  \n",
      " 54  Functional     1460 non-null   object \n",
      " 55  Fireplaces     1460 non-null   int64  \n",
      " 56  FireplaceQu    770 non-null    object \n",
      " 57  GarageType     1379 non-null   object \n",
      " 58  GarageYrBlt    1379 non-null   float64\n",
      " 59  GarageFinish   1379 non-null   object \n",
      " 60  GarageCars     1460 non-null   int64  \n",
      " 61  GarageArea     1460 non-null   int64  \n",
      " 62  GarageQual     1379 non-null   object \n",
      " 63  GarageCond     1379 non-null   object \n",
      " 64  PavedDrive     1460 non-null   object \n",
      " 65  WoodDeckSF     1460 non-null   int64  \n",
      " 66  OpenPorchSF    1460 non-null   int64  \n",
      " 67  EnclosedPorch  1460 non-null   int64  \n",
      " 68  3SsnPorch      1460 non-null   int64  \n",
      " 69  ScreenPorch    1460 non-null   int64  \n",
      " 70  PoolArea       1460 non-null   int64  \n",
      " 71  PoolQC         7 non-null      object \n",
      " 72  Fence          281 non-null    object \n",
      " 73  MiscFeature    54 non-null     object \n",
      " 74  MiscVal        1460 non-null   int64  \n",
      " 75  MoSold         1460 non-null   int64  \n",
      " 76  YrSold         1460 non-null   int64  \n",
      " 77  SaleType       1460 non-null   object \n",
      " 78  SaleCondition  1460 non-null   object \n",
      " 79  SalePrice      1460 non-null   int64  \n",
      "dtypes: float64(3), int64(34), object(43)\n",
      "memory usage: 923.9+ KB\n"
     ]
    }
   ],
   "source": [
    "data_with_label.info()"
   ]
  },
  {
   "cell_type": "code",
   "execution_count": 6,
   "id": "90ca3ebe",
   "metadata": {
    "execution": {
     "iopub.execute_input": "2022-04-07T14:53:01.322034Z",
     "iopub.status.busy": "2022-04-07T14:53:01.321362Z",
     "iopub.status.idle": "2022-04-07T14:53:01.333661Z",
     "shell.execute_reply": "2022-04-07T14:53:01.334199Z",
     "shell.execute_reply.started": "2022-04-07T14:46:30.157004Z"
    },
    "papermill": {
     "duration": 0.058855,
     "end_time": "2022-04-07T14:53:01.334371",
     "exception": false,
     "start_time": "2022-04-07T14:53:01.275516",
     "status": "completed"
    },
    "tags": []
   },
   "outputs": [
    {
     "data": {
      "text/plain": [
       "SalePrice        1.000000\n",
       "OverallQual      0.790982\n",
       "GrLivArea        0.708624\n",
       "GarageCars       0.640409\n",
       "GarageArea       0.623431\n",
       "TotalBsmtSF      0.613581\n",
       "1stFlrSF         0.605852\n",
       "FullBath         0.560664\n",
       "TotRmsAbvGrd     0.533723\n",
       "YearBuilt        0.522897\n",
       "YearRemodAdd     0.507101\n",
       "GarageYrBlt      0.486362\n",
       "MasVnrArea       0.477493\n",
       "Fireplaces       0.466929\n",
       "BsmtFinSF1       0.386420\n",
       "LotFrontage      0.351799\n",
       "WoodDeckSF       0.324413\n",
       "2ndFlrSF         0.319334\n",
       "OpenPorchSF      0.315856\n",
       "HalfBath         0.284108\n",
       "LotArea          0.263843\n",
       "BsmtFullBath     0.227122\n",
       "BsmtUnfSF        0.214479\n",
       "BedroomAbvGr     0.168213\n",
       "ScreenPorch      0.111447\n",
       "PoolArea         0.092404\n",
       "MoSold           0.046432\n",
       "3SsnPorch        0.044584\n",
       "BsmtFinSF2      -0.011378\n",
       "BsmtHalfBath    -0.016844\n",
       "MiscVal         -0.021190\n",
       "LowQualFinSF    -0.025606\n",
       "YrSold          -0.028923\n",
       "OverallCond     -0.077856\n",
       "MSSubClass      -0.084284\n",
       "EnclosedPorch   -0.128578\n",
       "KitchenAbvGr    -0.135907\n",
       "Name: SalePrice, dtype: float64"
      ]
     },
     "execution_count": 6,
     "metadata": {},
     "output_type": "execute_result"
    }
   ],
   "source": [
    "top_corr_features = data_with_label.corr()['SalePrice'].sort_values(ascending=False)\n",
    "top_corr_features"
   ]
  },
  {
   "cell_type": "markdown",
   "id": "bea04fbd",
   "metadata": {
    "papermill": {
     "duration": 0.040658,
     "end_time": "2022-04-07T14:53:01.416340",
     "exception": false,
     "start_time": "2022-04-07T14:53:01.375682",
     "status": "completed"
    },
    "tags": []
   },
   "source": [
    "# Decide Which features Important"
   ]
  },
  {
   "cell_type": "code",
   "execution_count": 7,
   "id": "2d49e8bc",
   "metadata": {
    "execution": {
     "iopub.execute_input": "2022-04-07T14:53:01.504556Z",
     "iopub.status.busy": "2022-04-07T14:53:01.503609Z",
     "iopub.status.idle": "2022-04-07T14:53:01.506459Z",
     "shell.execute_reply": "2022-04-07T14:53:01.505931Z",
     "shell.execute_reply.started": "2022-04-07T14:46:30.175444Z"
    },
    "papermill": {
     "duration": 0.049751,
     "end_time": "2022-04-07T14:53:01.506597",
     "exception": false,
     "start_time": "2022-04-07T14:53:01.456846",
     "status": "completed"
    },
    "tags": []
   },
   "outputs": [],
   "source": [
    "categorical_feature = [\"Utilities\" ,\"Neighborhood\",  \"Condition1\" , \"Condition2\",\"BldgType\" ,\n",
    "               \"HouseStyle\"  , \"Exterior1st\",\n",
    "               \"Exterior2nd\",\"Foundation\" ,\"BsmtQual\" ,\"BsmtExposure\"  , \"BsmtFinType1\" ,\"BsmtFinType2\",\n",
    "                \"HeatingQC\" , \"CentralAir\" , \"Electrical\" ,\"KitchenQual\", \"SaleType\",\"SaleCondition\"]\n",
    "\n",
    "\n",
    "numerical_feature = [\"LotFrontage\" , \"LotArea\" ,\"BsmtFinSF1\" ,\"1stFlrSF\" , \"2ndFlrSF\" , \"FullBath\",\n",
    "                     \"TotRmsAbvGrd\"  ,\"3SsnPorch\",\"ScreenPorch\", \"PoolArea\", \"OverallQual\",\"OverallCond\" ,\"YearRemodAdd\"\n",
    "                    ,\"BsmtFinSF2\",\"TotalBsmtSF\" ,\"GarageCars\"]\n",
    "important_features = categorical_feature+numerical_feature+[\"SalePrice\"]\n",
    "test_features = categorical_feature+numerical_feature"
   ]
  },
  {
   "cell_type": "markdown",
   "id": "dbb3da4d",
   "metadata": {
    "papermill": {
     "duration": 0.040072,
     "end_time": "2022-04-07T14:53:01.588058",
     "exception": false,
     "start_time": "2022-04-07T14:53:01.547986",
     "status": "completed"
    },
    "tags": []
   },
   "source": [
    "# clean Training Data"
   ]
  },
  {
   "cell_type": "code",
   "execution_count": 8,
   "id": "7c8f00cf",
   "metadata": {
    "execution": {
     "iopub.execute_input": "2022-04-07T14:53:01.678609Z",
     "iopub.status.busy": "2022-04-07T14:53:01.677563Z",
     "iopub.status.idle": "2022-04-07T14:53:01.694045Z",
     "shell.execute_reply": "2022-04-07T14:53:01.694712Z",
     "shell.execute_reply.started": "2022-04-07T14:46:30.184254Z"
    },
    "papermill": {
     "duration": 0.065896,
     "end_time": "2022-04-07T14:53:01.694884",
     "exception": false,
     "start_time": "2022-04-07T14:53:01.628988",
     "status": "completed"
    },
    "tags": []
   },
   "outputs": [
    {
     "name": "stdout",
     "output_type": "stream",
     "text": [
      "<class 'pandas.core.frame.DataFrame'>\n",
      "Int64Index: 1460 entries, 1 to 1460\n",
      "Data columns (total 36 columns):\n",
      " #   Column         Non-Null Count  Dtype  \n",
      "---  ------         --------------  -----  \n",
      " 0   Utilities      1460 non-null   object \n",
      " 1   Neighborhood   1460 non-null   object \n",
      " 2   Condition1     1460 non-null   object \n",
      " 3   Condition2     1460 non-null   object \n",
      " 4   BldgType       1460 non-null   object \n",
      " 5   HouseStyle     1460 non-null   object \n",
      " 6   Exterior1st    1460 non-null   object \n",
      " 7   Exterior2nd    1460 non-null   object \n",
      " 8   Foundation     1460 non-null   object \n",
      " 9   BsmtQual       1423 non-null   object \n",
      " 10  BsmtExposure   1422 non-null   object \n",
      " 11  BsmtFinType1   1423 non-null   object \n",
      " 12  BsmtFinType2   1422 non-null   object \n",
      " 13  HeatingQC      1460 non-null   object \n",
      " 14  CentralAir     1460 non-null   object \n",
      " 15  Electrical     1459 non-null   object \n",
      " 16  KitchenQual    1460 non-null   object \n",
      " 17  SaleType       1460 non-null   object \n",
      " 18  SaleCondition  1460 non-null   object \n",
      " 19  LotFrontage    1201 non-null   float64\n",
      " 20  LotArea        1460 non-null   int64  \n",
      " 21  BsmtFinSF1     1460 non-null   int64  \n",
      " 22  1stFlrSF       1460 non-null   int64  \n",
      " 23  2ndFlrSF       1460 non-null   int64  \n",
      " 24  FullBath       1460 non-null   int64  \n",
      " 25  TotRmsAbvGrd   1460 non-null   int64  \n",
      " 26  3SsnPorch      1460 non-null   int64  \n",
      " 27  ScreenPorch    1460 non-null   int64  \n",
      " 28  PoolArea       1460 non-null   int64  \n",
      " 29  OverallQual    1460 non-null   int64  \n",
      " 30  OverallCond    1460 non-null   int64  \n",
      " 31  YearRemodAdd   1460 non-null   int64  \n",
      " 32  BsmtFinSF2     1460 non-null   int64  \n",
      " 33  TotalBsmtSF    1460 non-null   int64  \n",
      " 34  GarageCars     1460 non-null   int64  \n",
      " 35  SalePrice      1460 non-null   int64  \n",
      "dtypes: float64(1), int64(16), object(19)\n",
      "memory usage: 422.0+ KB\n"
     ]
    }
   ],
   "source": [
    "train_features = train_data[important_features]\n",
    "train_features.info()"
   ]
  },
  {
   "cell_type": "code",
   "execution_count": 9,
   "id": "21fff3d9",
   "metadata": {
    "execution": {
     "iopub.execute_input": "2022-04-07T14:53:01.781096Z",
     "iopub.status.busy": "2022-04-07T14:53:01.780081Z",
     "iopub.status.idle": "2022-04-07T14:53:01.810654Z",
     "shell.execute_reply": "2022-04-07T14:53:01.811358Z",
     "shell.execute_reply.started": "2022-04-07T14:46:30.213925Z"
    },
    "papermill": {
     "duration": 0.075812,
     "end_time": "2022-04-07T14:53:01.811537",
     "exception": false,
     "start_time": "2022-04-07T14:53:01.735725",
     "status": "completed"
    },
    "tags": []
   },
   "outputs": [
    {
     "name": "stdout",
     "output_type": "stream",
     "text": [
      "<class 'pandas.core.frame.DataFrame'>\n",
      "Int64Index: 1459 entries, 1 to 1460\n",
      "Data columns (total 36 columns):\n",
      " #   Column         Non-Null Count  Dtype  \n",
      "---  ------         --------------  -----  \n",
      " 0   Utilities      1459 non-null   object \n",
      " 1   Neighborhood   1459 non-null   object \n",
      " 2   Condition1     1459 non-null   object \n",
      " 3   Condition2     1459 non-null   object \n",
      " 4   BldgType       1459 non-null   object \n",
      " 5   HouseStyle     1459 non-null   object \n",
      " 6   Exterior1st    1459 non-null   object \n",
      " 7   Exterior2nd    1459 non-null   object \n",
      " 8   Foundation     1459 non-null   object \n",
      " 9   BsmtQual       1459 non-null   object \n",
      " 10  BsmtExposure   1459 non-null   object \n",
      " 11  BsmtFinType1   1459 non-null   object \n",
      " 12  BsmtFinType2   1459 non-null   object \n",
      " 13  HeatingQC      1459 non-null   object \n",
      " 14  CentralAir     1459 non-null   object \n",
      " 15  Electrical     1459 non-null   object \n",
      " 16  KitchenQual    1459 non-null   object \n",
      " 17  SaleType       1459 non-null   object \n",
      " 18  SaleCondition  1459 non-null   object \n",
      " 19  LotFrontage    1459 non-null   float64\n",
      " 20  LotArea        1459 non-null   int64  \n",
      " 21  BsmtFinSF1     1459 non-null   int64  \n",
      " 22  1stFlrSF       1459 non-null   int64  \n",
      " 23  2ndFlrSF       1459 non-null   int64  \n",
      " 24  FullBath       1459 non-null   int64  \n",
      " 25  TotRmsAbvGrd   1459 non-null   int64  \n",
      " 26  3SsnPorch      1459 non-null   int64  \n",
      " 27  ScreenPorch    1459 non-null   int64  \n",
      " 28  PoolArea       1459 non-null   int64  \n",
      " 29  OverallQual    1459 non-null   int64  \n",
      " 30  OverallCond    1459 non-null   int64  \n",
      " 31  YearRemodAdd   1459 non-null   int64  \n",
      " 32  BsmtFinSF2     1459 non-null   int64  \n",
      " 33  TotalBsmtSF    1459 non-null   int64  \n",
      " 34  GarageCars     1459 non-null   int64  \n",
      " 35  SalePrice      1459 non-null   int64  \n",
      "dtypes: float64(1), int64(16), object(19)\n",
      "memory usage: 421.7+ KB\n"
     ]
    }
   ],
   "source": [
    "filling_null = { \"BsmtQual\" : train_features[\"BsmtQual\"].mode().iloc[0]  ,\n",
    "                \"BsmtExposure\" : train_features[\"BsmtExposure\"].mode().iloc[0],\n",
    "                \"BsmtFinType1\" : train_features[\"BsmtFinType1\"].mode().iloc[0],\n",
    "                \"BsmtFinType2\" : train_features[\"BsmtFinType2\"].mode().iloc[0],    \n",
    "               \"LotFrontage\" : train_features[\"LotFrontage\"].mean()   }\n",
    "\n",
    "train_features = train_features.fillna(value = filling_null)\n",
    "train_features = train_features.dropna(axis = 0)\n",
    "train_features.head()\n",
    "train_features.info()"
   ]
  },
  {
   "cell_type": "markdown",
   "id": "653ccb23",
   "metadata": {
    "papermill": {
     "duration": 0.042972,
     "end_time": "2022-04-07T14:53:01.897532",
     "exception": false,
     "start_time": "2022-04-07T14:53:01.854560",
     "status": "completed"
    },
    "tags": []
   },
   "source": [
    "# Clean Test Data"
   ]
  },
  {
   "cell_type": "code",
   "execution_count": 10,
   "id": "088e0c0a",
   "metadata": {
    "execution": {
     "iopub.execute_input": "2022-04-07T14:53:01.988830Z",
     "iopub.status.busy": "2022-04-07T14:53:01.987779Z",
     "iopub.status.idle": "2022-04-07T14:53:02.004384Z",
     "shell.execute_reply": "2022-04-07T14:53:02.005263Z",
     "shell.execute_reply.started": "2022-04-07T14:46:30.250565Z"
    },
    "papermill": {
     "duration": 0.065129,
     "end_time": "2022-04-07T14:53:02.005493",
     "exception": false,
     "start_time": "2022-04-07T14:53:01.940364",
     "status": "completed"
    },
    "tags": []
   },
   "outputs": [
    {
     "name": "stdout",
     "output_type": "stream",
     "text": [
      "<class 'pandas.core.frame.DataFrame'>\n",
      "RangeIndex: 1459 entries, 0 to 1458\n",
      "Data columns (total 35 columns):\n",
      " #   Column         Non-Null Count  Dtype  \n",
      "---  ------         --------------  -----  \n",
      " 0   Utilities      1457 non-null   object \n",
      " 1   Neighborhood   1459 non-null   object \n",
      " 2   Condition1     1459 non-null   object \n",
      " 3   Condition2     1459 non-null   object \n",
      " 4   BldgType       1459 non-null   object \n",
      " 5   HouseStyle     1459 non-null   object \n",
      " 6   Exterior1st    1458 non-null   object \n",
      " 7   Exterior2nd    1458 non-null   object \n",
      " 8   Foundation     1459 non-null   object \n",
      " 9   BsmtQual       1415 non-null   object \n",
      " 10  BsmtExposure   1415 non-null   object \n",
      " 11  BsmtFinType1   1417 non-null   object \n",
      " 12  BsmtFinType2   1417 non-null   object \n",
      " 13  HeatingQC      1459 non-null   object \n",
      " 14  CentralAir     1459 non-null   object \n",
      " 15  Electrical     1459 non-null   object \n",
      " 16  KitchenQual    1458 non-null   object \n",
      " 17  SaleType       1458 non-null   object \n",
      " 18  SaleCondition  1459 non-null   object \n",
      " 19  LotFrontage    1232 non-null   float64\n",
      " 20  LotArea        1459 non-null   int64  \n",
      " 21  BsmtFinSF1     1458 non-null   float64\n",
      " 22  1stFlrSF       1459 non-null   int64  \n",
      " 23  2ndFlrSF       1459 non-null   int64  \n",
      " 24  FullBath       1459 non-null   int64  \n",
      " 25  TotRmsAbvGrd   1459 non-null   int64  \n",
      " 26  3SsnPorch      1459 non-null   int64  \n",
      " 27  ScreenPorch    1459 non-null   int64  \n",
      " 28  PoolArea       1459 non-null   int64  \n",
      " 29  OverallQual    1459 non-null   int64  \n",
      " 30  OverallCond    1459 non-null   int64  \n",
      " 31  YearRemodAdd   1459 non-null   int64  \n",
      " 32  BsmtFinSF2     1458 non-null   float64\n",
      " 33  TotalBsmtSF    1458 non-null   float64\n",
      " 34  GarageCars     1458 non-null   float64\n",
      "dtypes: float64(5), int64(11), object(19)\n",
      "memory usage: 399.1+ KB\n"
     ]
    }
   ],
   "source": [
    "test_data = test_data[test_features]\n",
    "test_data.info()"
   ]
  },
  {
   "cell_type": "markdown",
   "id": "81b16f60",
   "metadata": {
    "papermill": {
     "duration": 0.041145,
     "end_time": "2022-04-07T14:53:02.089765",
     "exception": false,
     "start_time": "2022-04-07T14:53:02.048620",
     "status": "completed"
    },
    "tags": []
   },
   "source": [
    "# One Hot Encoding with Training Data "
   ]
  },
  {
   "cell_type": "code",
   "execution_count": 11,
   "id": "6a310db7",
   "metadata": {
    "execution": {
     "iopub.execute_input": "2022-04-07T14:53:02.180037Z",
     "iopub.status.busy": "2022-04-07T14:53:02.179329Z",
     "iopub.status.idle": "2022-04-07T14:53:02.213408Z",
     "shell.execute_reply": "2022-04-07T14:53:02.213929Z",
     "shell.execute_reply.started": "2022-04-07T14:46:30.277094Z"
    },
    "papermill": {
     "duration": 0.081794,
     "end_time": "2022-04-07T14:53:02.214143",
     "exception": false,
     "start_time": "2022-04-07T14:53:02.132349",
     "status": "completed"
    },
    "tags": []
   },
   "outputs": [],
   "source": [
    "from sklearn.preprocessing import OneHotEncoder"
   ]
  },
  {
   "cell_type": "code",
   "execution_count": 12,
   "id": "3705c4fe",
   "metadata": {
    "execution": {
     "iopub.execute_input": "2022-04-07T14:53:02.303425Z",
     "iopub.status.busy": "2022-04-07T14:53:02.302739Z",
     "iopub.status.idle": "2022-04-07T14:53:02.496295Z",
     "shell.execute_reply": "2022-04-07T14:53:02.496793Z",
     "shell.execute_reply.started": "2022-04-07T14:46:30.315088Z"
    },
    "papermill": {
     "duration": 0.240284,
     "end_time": "2022-04-07T14:53:02.497061",
     "exception": false,
     "start_time": "2022-04-07T14:53:02.256777",
     "status": "completed"
    },
    "tags": []
   },
   "outputs": [
    {
     "name": "stderr",
     "output_type": "stream",
     "text": [
      "/opt/conda/lib/python3.7/site-packages/sklearn/utils/deprecation.py:87: FutureWarning: Function get_feature_names is deprecated; get_feature_names is deprecated in 1.0 and will be removed in 1.2. Please use get_feature_names_out instead.\n",
      "  warnings.warn(msg, category=FutureWarning)\n",
      "/opt/conda/lib/python3.7/site-packages/pandas/core/frame.py:3641: PerformanceWarning: DataFrame is highly fragmented.  This is usually the result of calling `frame.insert` many times, which has poor performance.  Consider joining all columns at once using pd.concat(axis=1) instead.  To get a de-fragmented frame, use `newframe = frame.copy()`\n",
      "  self[k1] = value[k2]\n"
     ]
    },
    {
     "data": {
      "text/html": [
       "<div>\n",
       "<style scoped>\n",
       "    .dataframe tbody tr th:only-of-type {\n",
       "        vertical-align: middle;\n",
       "    }\n",
       "\n",
       "    .dataframe tbody tr th {\n",
       "        vertical-align: top;\n",
       "    }\n",
       "\n",
       "    .dataframe thead th {\n",
       "        text-align: right;\n",
       "    }\n",
       "</style>\n",
       "<table border=\"1\" class=\"dataframe\">\n",
       "  <thead>\n",
       "    <tr style=\"text-align: right;\">\n",
       "      <th></th>\n",
       "      <th>LotFrontage</th>\n",
       "      <th>LotArea</th>\n",
       "      <th>BsmtFinSF1</th>\n",
       "      <th>1stFlrSF</th>\n",
       "      <th>2ndFlrSF</th>\n",
       "      <th>FullBath</th>\n",
       "      <th>TotRmsAbvGrd</th>\n",
       "      <th>3SsnPorch</th>\n",
       "      <th>ScreenPorch</th>\n",
       "      <th>PoolArea</th>\n",
       "      <th>...</th>\n",
       "      <th>SaleType_ConLw</th>\n",
       "      <th>SaleType_New</th>\n",
       "      <th>SaleType_Oth</th>\n",
       "      <th>SaleType_WD</th>\n",
       "      <th>SaleCondition_Abnorml</th>\n",
       "      <th>SaleCondition_AdjLand</th>\n",
       "      <th>SaleCondition_Alloca</th>\n",
       "      <th>SaleCondition_Family</th>\n",
       "      <th>SaleCondition_Normal</th>\n",
       "      <th>SaleCondition_Partial</th>\n",
       "    </tr>\n",
       "    <tr>\n",
       "      <th>Id</th>\n",
       "      <th></th>\n",
       "      <th></th>\n",
       "      <th></th>\n",
       "      <th></th>\n",
       "      <th></th>\n",
       "      <th></th>\n",
       "      <th></th>\n",
       "      <th></th>\n",
       "      <th></th>\n",
       "      <th></th>\n",
       "      <th></th>\n",
       "      <th></th>\n",
       "      <th></th>\n",
       "      <th></th>\n",
       "      <th></th>\n",
       "      <th></th>\n",
       "      <th></th>\n",
       "      <th></th>\n",
       "      <th></th>\n",
       "      <th></th>\n",
       "      <th></th>\n",
       "    </tr>\n",
       "  </thead>\n",
       "  <tbody>\n",
       "    <tr>\n",
       "      <th>1</th>\n",
       "      <td>65.0</td>\n",
       "      <td>8450</td>\n",
       "      <td>706</td>\n",
       "      <td>856</td>\n",
       "      <td>854</td>\n",
       "      <td>2</td>\n",
       "      <td>8</td>\n",
       "      <td>0</td>\n",
       "      <td>0</td>\n",
       "      <td>0</td>\n",
       "      <td>...</td>\n",
       "      <td>0.0</td>\n",
       "      <td>0.0</td>\n",
       "      <td>0.0</td>\n",
       "      <td>1.0</td>\n",
       "      <td>0.0</td>\n",
       "      <td>0.0</td>\n",
       "      <td>0.0</td>\n",
       "      <td>0.0</td>\n",
       "      <td>1.0</td>\n",
       "      <td>0.0</td>\n",
       "    </tr>\n",
       "    <tr>\n",
       "      <th>2</th>\n",
       "      <td>80.0</td>\n",
       "      <td>9600</td>\n",
       "      <td>978</td>\n",
       "      <td>1262</td>\n",
       "      <td>0</td>\n",
       "      <td>2</td>\n",
       "      <td>6</td>\n",
       "      <td>0</td>\n",
       "      <td>0</td>\n",
       "      <td>0</td>\n",
       "      <td>...</td>\n",
       "      <td>0.0</td>\n",
       "      <td>0.0</td>\n",
       "      <td>0.0</td>\n",
       "      <td>1.0</td>\n",
       "      <td>0.0</td>\n",
       "      <td>0.0</td>\n",
       "      <td>0.0</td>\n",
       "      <td>0.0</td>\n",
       "      <td>1.0</td>\n",
       "      <td>0.0</td>\n",
       "    </tr>\n",
       "    <tr>\n",
       "      <th>3</th>\n",
       "      <td>68.0</td>\n",
       "      <td>11250</td>\n",
       "      <td>486</td>\n",
       "      <td>920</td>\n",
       "      <td>866</td>\n",
       "      <td>2</td>\n",
       "      <td>6</td>\n",
       "      <td>0</td>\n",
       "      <td>0</td>\n",
       "      <td>0</td>\n",
       "      <td>...</td>\n",
       "      <td>0.0</td>\n",
       "      <td>0.0</td>\n",
       "      <td>0.0</td>\n",
       "      <td>1.0</td>\n",
       "      <td>1.0</td>\n",
       "      <td>0.0</td>\n",
       "      <td>0.0</td>\n",
       "      <td>0.0</td>\n",
       "      <td>0.0</td>\n",
       "      <td>0.0</td>\n",
       "    </tr>\n",
       "    <tr>\n",
       "      <th>4</th>\n",
       "      <td>60.0</td>\n",
       "      <td>9550</td>\n",
       "      <td>216</td>\n",
       "      <td>961</td>\n",
       "      <td>756</td>\n",
       "      <td>1</td>\n",
       "      <td>7</td>\n",
       "      <td>0</td>\n",
       "      <td>0</td>\n",
       "      <td>0</td>\n",
       "      <td>...</td>\n",
       "      <td>0.0</td>\n",
       "      <td>0.0</td>\n",
       "      <td>0.0</td>\n",
       "      <td>1.0</td>\n",
       "      <td>0.0</td>\n",
       "      <td>0.0</td>\n",
       "      <td>0.0</td>\n",
       "      <td>0.0</td>\n",
       "      <td>1.0</td>\n",
       "      <td>0.0</td>\n",
       "    </tr>\n",
       "    <tr>\n",
       "      <th>5</th>\n",
       "      <td>84.0</td>\n",
       "      <td>14260</td>\n",
       "      <td>655</td>\n",
       "      <td>1145</td>\n",
       "      <td>1053</td>\n",
       "      <td>2</td>\n",
       "      <td>9</td>\n",
       "      <td>0</td>\n",
       "      <td>0</td>\n",
       "      <td>0</td>\n",
       "      <td>...</td>\n",
       "      <td>0.0</td>\n",
       "      <td>0.0</td>\n",
       "      <td>0.0</td>\n",
       "      <td>1.0</td>\n",
       "      <td>0.0</td>\n",
       "      <td>0.0</td>\n",
       "      <td>0.0</td>\n",
       "      <td>0.0</td>\n",
       "      <td>1.0</td>\n",
       "      <td>0.0</td>\n",
       "    </tr>\n",
       "  </tbody>\n",
       "</table>\n",
       "<p>5 rows × 162 columns</p>\n",
       "</div>"
      ],
      "text/plain": [
       "    LotFrontage  LotArea  BsmtFinSF1  1stFlrSF  2ndFlrSF  FullBath  \\\n",
       "Id                                                                   \n",
       "1          65.0     8450         706       856       854         2   \n",
       "2          80.0     9600         978      1262         0         2   \n",
       "3          68.0    11250         486       920       866         2   \n",
       "4          60.0     9550         216       961       756         1   \n",
       "5          84.0    14260         655      1145      1053         2   \n",
       "\n",
       "    TotRmsAbvGrd  3SsnPorch  ScreenPorch  PoolArea  ...  SaleType_ConLw  \\\n",
       "Id                                                  ...                   \n",
       "1              8          0            0         0  ...             0.0   \n",
       "2              6          0            0         0  ...             0.0   \n",
       "3              6          0            0         0  ...             0.0   \n",
       "4              7          0            0         0  ...             0.0   \n",
       "5              9          0            0         0  ...             0.0   \n",
       "\n",
       "    SaleType_New  SaleType_Oth  SaleType_WD  SaleCondition_Abnorml  \\\n",
       "Id                                                                   \n",
       "1            0.0           0.0          1.0                    0.0   \n",
       "2            0.0           0.0          1.0                    0.0   \n",
       "3            0.0           0.0          1.0                    1.0   \n",
       "4            0.0           0.0          1.0                    0.0   \n",
       "5            0.0           0.0          1.0                    0.0   \n",
       "\n",
       "    SaleCondition_AdjLand  SaleCondition_Alloca  SaleCondition_Family  \\\n",
       "Id                                                                      \n",
       "1                     0.0                   0.0                   0.0   \n",
       "2                     0.0                   0.0                   0.0   \n",
       "3                     0.0                   0.0                   0.0   \n",
       "4                     0.0                   0.0                   0.0   \n",
       "5                     0.0                   0.0                   0.0   \n",
       "\n",
       "    SaleCondition_Normal  SaleCondition_Partial  \n",
       "Id                                               \n",
       "1                    1.0                    0.0  \n",
       "2                    1.0                    0.0  \n",
       "3                    0.0                    0.0  \n",
       "4                    1.0                    0.0  \n",
       "5                    1.0                    0.0  \n",
       "\n",
       "[5 rows x 162 columns]"
      ]
     },
     "execution_count": 12,
     "metadata": {},
     "output_type": "execute_result"
    }
   ],
   "source": [
    "Encode_features = OneHotEncoder(sparse=False)\n",
    "features = pd.DataFrame(Encode_features.fit_transform(train_features[categorical_feature] ))\n",
    "features.columns = Encode_features.get_feature_names(categorical_feature)\n",
    "# train_features = pd.concat([train_features , pd.DataFrame(features)],axis=1)\n",
    "train_features[features.columns] = features\n",
    "train_features = train_features.drop(train_features[categorical_feature] ,axis =1)\n",
    "train_features = train_features.dropna()\n",
    "train_features.head()"
   ]
  },
  {
   "cell_type": "markdown",
   "id": "d758a808",
   "metadata": {
    "papermill": {
     "duration": 0.043191,
     "end_time": "2022-04-07T14:53:02.583521",
     "exception": false,
     "start_time": "2022-04-07T14:53:02.540330",
     "status": "completed"
    },
    "tags": []
   },
   "source": [
    "# Split SalePrice As label"
   ]
  },
  {
   "cell_type": "code",
   "execution_count": 13,
   "id": "3a77ac07",
   "metadata": {
    "execution": {
     "iopub.execute_input": "2022-04-07T14:53:02.675328Z",
     "iopub.status.busy": "2022-04-07T14:53:02.674624Z",
     "iopub.status.idle": "2022-04-07T14:53:02.680269Z",
     "shell.execute_reply": "2022-04-07T14:53:02.680743Z",
     "shell.execute_reply.started": "2022-04-07T14:46:30.517604Z"
    },
    "papermill": {
     "duration": 0.053882,
     "end_time": "2022-04-07T14:53:02.680946",
     "exception": false,
     "start_time": "2022-04-07T14:53:02.627064",
     "status": "completed"
    },
    "tags": []
   },
   "outputs": [],
   "source": [
    "train_labels = train_features.SalePrice\n",
    "train_features.drop(['SalePrice'], axis=1, inplace=True)"
   ]
  },
  {
   "cell_type": "markdown",
   "id": "fc25c40f",
   "metadata": {
    "papermill": {
     "duration": 0.04462,
     "end_time": "2022-04-07T14:53:02.769303",
     "exception": false,
     "start_time": "2022-04-07T14:53:02.724683",
     "status": "completed"
    },
    "tags": []
   },
   "source": [
    "# One Hot Encoding test Data"
   ]
  },
  {
   "cell_type": "code",
   "execution_count": 14,
   "id": "83d68b7a",
   "metadata": {
    "execution": {
     "iopub.execute_input": "2022-04-07T14:53:02.860683Z",
     "iopub.status.busy": "2022-04-07T14:53:02.859634Z",
     "iopub.status.idle": "2022-04-07T14:53:02.875017Z",
     "shell.execute_reply": "2022-04-07T14:53:02.875859Z",
     "shell.execute_reply.started": "2022-04-07T14:46:30.526069Z"
    },
    "papermill": {
     "duration": 0.062968,
     "end_time": "2022-04-07T14:53:02.876127",
     "exception": false,
     "start_time": "2022-04-07T14:53:02.813159",
     "status": "completed"
    },
    "tags": []
   },
   "outputs": [
    {
     "name": "stdout",
     "output_type": "stream",
     "text": [
      "<class 'pandas.core.frame.DataFrame'>\n",
      "RangeIndex: 1459 entries, 0 to 1458\n",
      "Data columns (total 16 columns):\n",
      " #   Column        Non-Null Count  Dtype  \n",
      "---  ------        --------------  -----  \n",
      " 0   LotFrontage   1232 non-null   float64\n",
      " 1   LotArea       1459 non-null   int64  \n",
      " 2   BsmtFinSF1    1458 non-null   float64\n",
      " 3   1stFlrSF      1459 non-null   int64  \n",
      " 4   2ndFlrSF      1459 non-null   int64  \n",
      " 5   FullBath      1459 non-null   int64  \n",
      " 6   TotRmsAbvGrd  1459 non-null   int64  \n",
      " 7   3SsnPorch     1459 non-null   int64  \n",
      " 8   ScreenPorch   1459 non-null   int64  \n",
      " 9   PoolArea      1459 non-null   int64  \n",
      " 10  OverallQual   1459 non-null   int64  \n",
      " 11  OverallCond   1459 non-null   int64  \n",
      " 12  YearRemodAdd  1459 non-null   int64  \n",
      " 13  BsmtFinSF2    1458 non-null   float64\n",
      " 14  TotalBsmtSF   1458 non-null   float64\n",
      " 15  GarageCars    1458 non-null   float64\n",
      "dtypes: float64(5), int64(11)\n",
      "memory usage: 182.5 KB\n"
     ]
    }
   ],
   "source": [
    "test_data[numerical_feature].info()"
   ]
  },
  {
   "cell_type": "code",
   "execution_count": 15,
   "id": "06647940",
   "metadata": {
    "execution": {
     "iopub.execute_input": "2022-04-07T14:53:02.969541Z",
     "iopub.status.busy": "2022-04-07T14:53:02.968458Z",
     "iopub.status.idle": "2022-04-07T14:53:02.971186Z",
     "shell.execute_reply": "2022-04-07T14:53:02.970557Z",
     "shell.execute_reply.started": "2022-04-07T14:46:30.554907Z"
    },
    "papermill": {
     "duration": 0.05036,
     "end_time": "2022-04-07T14:53:02.971327",
     "exception": false,
     "start_time": "2022-04-07T14:53:02.920967",
     "status": "completed"
    },
    "tags": []
   },
   "outputs": [],
   "source": [
    "# test_data = test_data.fillna(0)\n",
    "# test_data.shape"
   ]
  },
  {
   "cell_type": "code",
   "execution_count": 16,
   "id": "94e93d58",
   "metadata": {
    "execution": {
     "iopub.execute_input": "2022-04-07T14:53:03.071392Z",
     "iopub.status.busy": "2022-04-07T14:53:03.065522Z",
     "iopub.status.idle": "2022-04-07T14:53:03.100089Z",
     "shell.execute_reply": "2022-04-07T14:53:03.099402Z",
     "shell.execute_reply.started": "2022-04-07T14:46:30.560726Z"
    },
    "papermill": {
     "duration": 0.084626,
     "end_time": "2022-04-07T14:53:03.100253",
     "exception": false,
     "start_time": "2022-04-07T14:53:03.015627",
     "status": "completed"
    },
    "tags": []
   },
   "outputs": [
    {
     "name": "stderr",
     "output_type": "stream",
     "text": [
      "/opt/conda/lib/python3.7/site-packages/sklearn/utils/deprecation.py:87: FutureWarning: Function get_feature_names is deprecated; get_feature_names is deprecated in 1.0 and will be removed in 1.2. Please use get_feature_names_out instead.\n",
      "  warnings.warn(msg, category=FutureWarning)\n"
     ]
    }
   ],
   "source": [
    "# Clean test Data\n",
    "# test_data = test_data[test_features]\n",
    "# test_data = test_data.fillna(value = test_data.mode())\n",
    "\n",
    "t = pd.DataFrame(Encode_features.fit_transform(test_data[categorical_feature] ))\n",
    "t.columns = Encode_features.get_feature_names(categorical_feature)\n",
    "test_data = pd.concat([test_data , pd.DataFrame(t)],axis=1)\n",
    "test_data = test_data.drop(test_data[categorical_feature] ,axis =1)\n",
    "# test_data = test_data.fillna(0)\n",
    "# test_data = test_data.fillna(value = test_data.mode())"
   ]
  },
  {
   "cell_type": "code",
   "execution_count": 17,
   "id": "35a74d56",
   "metadata": {
    "execution": {
     "iopub.execute_input": "2022-04-07T14:53:03.198142Z",
     "iopub.status.busy": "2022-04-07T14:53:03.196982Z",
     "iopub.status.idle": "2022-04-07T14:53:03.201341Z",
     "shell.execute_reply": "2022-04-07T14:53:03.201961Z",
     "shell.execute_reply.started": "2022-04-07T14:46:30.609970Z"
    },
    "papermill": {
     "duration": 0.057842,
     "end_time": "2022-04-07T14:53:03.202147",
     "exception": false,
     "start_time": "2022-04-07T14:53:03.144305",
     "status": "completed"
    },
    "tags": []
   },
   "outputs": [
    {
     "data": {
      "text/plain": [
       "(1459, 161)"
      ]
     },
     "execution_count": 17,
     "metadata": {},
     "output_type": "execute_result"
    }
   ],
   "source": [
    "test_data.shape"
   ]
  },
  {
   "cell_type": "markdown",
   "id": "b5496f88",
   "metadata": {
    "papermill": {
     "duration": 0.045463,
     "end_time": "2022-04-07T14:53:03.293823",
     "exception": false,
     "start_time": "2022-04-07T14:53:03.248360",
     "status": "completed"
    },
    "tags": []
   },
   "source": [
    "# Take Common features between Train and Test"
   ]
  },
  {
   "cell_type": "code",
   "execution_count": 18,
   "id": "5d68d7d2",
   "metadata": {
    "execution": {
     "iopub.execute_input": "2022-04-07T14:53:03.388858Z",
     "iopub.status.busy": "2022-04-07T14:53:03.387939Z",
     "iopub.status.idle": "2022-04-07T14:53:03.391055Z",
     "shell.execute_reply": "2022-04-07T14:53:03.390523Z",
     "shell.execute_reply.started": "2022-04-07T14:46:30.617867Z"
    },
    "papermill": {
     "duration": 0.053081,
     "end_time": "2022-04-07T14:53:03.391200",
     "exception": false,
     "start_time": "2022-04-07T14:53:03.338119",
     "status": "completed"
    },
    "tags": []
   },
   "outputs": [],
   "source": [
    "# common_cols = list(set(train_features.columns).intersection(test_data.columns))\n",
    "# train_features = train_features[common_cols]\n",
    "# test_data = test_data[common_cols]"
   ]
  },
  {
   "cell_type": "markdown",
   "id": "75b62ae2",
   "metadata": {
    "papermill": {
     "duration": 0.045595,
     "end_time": "2022-04-07T14:53:03.481180",
     "exception": false,
     "start_time": "2022-04-07T14:53:03.435585",
     "status": "completed"
    },
    "tags": []
   },
   "source": [
    "## Split to train and validation"
   ]
  },
  {
   "cell_type": "code",
   "execution_count": 19,
   "id": "450f7a01",
   "metadata": {
    "execution": {
     "iopub.execute_input": "2022-04-07T14:53:03.576318Z",
     "iopub.status.busy": "2022-04-07T14:53:03.575653Z",
     "iopub.status.idle": "2022-04-07T14:53:03.580764Z",
     "shell.execute_reply": "2022-04-07T14:53:03.580231Z",
     "shell.execute_reply.started": "2022-04-07T14:46:30.632253Z"
    },
    "papermill": {
     "duration": 0.052964,
     "end_time": "2022-04-07T14:53:03.580935",
     "exception": false,
     "start_time": "2022-04-07T14:53:03.527971",
     "status": "completed"
    },
    "tags": []
   },
   "outputs": [],
   "source": [
    "validation_set = train_features.iloc[1100:]\n",
    "validation_labels = train_labels.iloc[1100:]\n",
    "\n",
    "train_features = train_features.iloc[0:1100]\n",
    "train_labels = train_labels.iloc[0:1100]\n"
   ]
  },
  {
   "cell_type": "code",
   "execution_count": 20,
   "id": "86d08eb1",
   "metadata": {
    "execution": {
     "iopub.execute_input": "2022-04-07T14:53:03.676938Z",
     "iopub.status.busy": "2022-04-07T14:53:03.676261Z",
     "iopub.status.idle": "2022-04-07T14:53:03.681278Z",
     "shell.execute_reply": "2022-04-07T14:53:03.681815Z",
     "shell.execute_reply.started": "2022-04-07T14:46:30.646368Z"
    },
    "papermill": {
     "duration": 0.054513,
     "end_time": "2022-04-07T14:53:03.682034",
     "exception": false,
     "start_time": "2022-04-07T14:53:03.627521",
     "status": "completed"
    },
    "tags": []
   },
   "outputs": [
    {
     "data": {
      "text/plain": [
       "(357, 161)"
      ]
     },
     "execution_count": 20,
     "metadata": {},
     "output_type": "execute_result"
    }
   ],
   "source": [
    "validation_set.shape"
   ]
  },
  {
   "cell_type": "markdown",
   "id": "af088fc8",
   "metadata": {
    "papermill": {
     "duration": 0.044349,
     "end_time": "2022-04-07T14:53:03.771795",
     "exception": false,
     "start_time": "2022-04-07T14:53:03.727446",
     "status": "completed"
    },
    "tags": []
   },
   "source": [
    "# apply Linear Regression"
   ]
  },
  {
   "cell_type": "code",
   "execution_count": 21,
   "id": "031ac4d8",
   "metadata": {
    "execution": {
     "iopub.execute_input": "2022-04-07T14:53:03.871768Z",
     "iopub.status.busy": "2022-04-07T14:53:03.870712Z",
     "iopub.status.idle": "2022-04-07T14:53:03.874240Z",
     "shell.execute_reply": "2022-04-07T14:53:03.874736Z",
     "shell.execute_reply.started": "2022-04-07T14:46:30.659502Z"
    },
    "papermill": {
     "duration": 0.056786,
     "end_time": "2022-04-07T14:53:03.874949",
     "exception": false,
     "start_time": "2022-04-07T14:53:03.818163",
     "status": "completed"
    },
    "tags": []
   },
   "outputs": [],
   "source": [
    "# from sklearn.linear_model import LinearRegression\n",
    "# reg = LinearRegression().fit(train_features, train_labels)\n",
    "# reg.score(train_features, train_labels)"
   ]
  },
  {
   "cell_type": "code",
   "execution_count": 22,
   "id": "fec6dfc9",
   "metadata": {
    "execution": {
     "iopub.execute_input": "2022-04-07T14:53:03.970819Z",
     "iopub.status.busy": "2022-04-07T14:53:03.969806Z",
     "iopub.status.idle": "2022-04-07T14:53:05.813160Z",
     "shell.execute_reply": "2022-04-07T14:53:05.812140Z",
     "shell.execute_reply.started": "2022-04-07T14:46:30.670389Z"
    },
    "papermill": {
     "duration": 1.89202,
     "end_time": "2022-04-07T14:53:05.813386",
     "exception": false,
     "start_time": "2022-04-07T14:53:03.921366",
     "status": "completed"
    },
    "tags": []
   },
   "outputs": [
    {
     "data": {
      "text/plain": [
       "RandomForestRegressor(max_depth=500, random_state=0)"
      ]
     },
     "execution_count": 22,
     "metadata": {},
     "output_type": "execute_result"
    }
   ],
   "source": [
    "\n",
    "from sklearn.ensemble import RandomForestRegressor\n",
    "reg = RandomForestRegressor(max_depth=500, random_state=0)\n",
    "reg.fit(train_features, train_labels)"
   ]
  },
  {
   "cell_type": "markdown",
   "id": "caf1491d",
   "metadata": {
    "papermill": {
     "duration": 0.048402,
     "end_time": "2022-04-07T14:53:05.912735",
     "exception": false,
     "start_time": "2022-04-07T14:53:05.864333",
     "status": "completed"
    },
    "tags": []
   },
   "source": [
    "# Graph of scores vs 10 Parameters"
   ]
  },
  {
   "cell_type": "code",
   "execution_count": 23,
   "id": "a9b6dce5",
   "metadata": {
    "execution": {
     "iopub.execute_input": "2022-04-07T14:53:06.010226Z",
     "iopub.status.busy": "2022-04-07T14:53:06.009221Z",
     "iopub.status.idle": "2022-04-07T14:53:16.038310Z",
     "shell.execute_reply": "2022-04-07T14:53:16.038804Z",
     "shell.execute_reply.started": "2022-04-07T14:46:32.464517Z"
    },
    "papermill": {
     "duration": 10.078574,
     "end_time": "2022-04-07T14:53:16.038999",
     "exception": false,
     "start_time": "2022-04-07T14:53:05.960425",
     "status": "completed"
    },
    "tags": []
   },
   "outputs": [
    {
     "data": {
      "text/plain": [
       "<function matplotlib.pyplot.show(close=None, block=None)>"
      ]
     },
     "execution_count": 23,
     "metadata": {},
     "output_type": "execute_result"
    },
    {
     "data": {
      "image/png": "[encoded data removed]",
      "text/plain": [
       "<Figure size 432x288 with 1 Axes>"
      ]
     },
     "metadata": {
      "needs_background": "light"
     },
     "output_type": "display_data"
    }
   ],
   "source": [
    "import matplotlib.pyplot as plt\n",
    "listof_scores = []\n",
    "list_of_paramters = [2 , 10 , 5 , 3 , 15 , 30 , 9 , 4 , 12 , 35]\n",
    "for i in list_of_paramters:\n",
    "    regrr = RandomForestRegressor(max_depth=i, random_state=0)\n",
    "    regrr.fit(train_features, train_labels)\n",
    "    listof_scores.append(regrr.score(validation_set, validation_labels))\n",
    "    \n",
    "plt.plot(listof_scores)    \n",
    "plt.xlabel(\"Score\")\n",
    "plt.ylabel(\"parameter\")\n",
    "plt.show"
   ]
  },
  {
   "cell_type": "code",
   "execution_count": 24,
   "id": "284c6b3b",
   "metadata": {
    "execution": {
     "iopub.execute_input": "2022-04-07T14:53:16.137575Z",
     "iopub.status.busy": "2022-04-07T14:53:16.136506Z",
     "iopub.status.idle": "2022-04-07T14:53:16.140167Z",
     "shell.execute_reply": "2022-04-07T14:53:16.140764Z",
     "shell.execute_reply.started": "2022-04-07T14:46:42.447162Z"
    },
    "papermill": {
     "duration": 0.054383,
     "end_time": "2022-04-07T14:53:16.140957",
     "exception": false,
     "start_time": "2022-04-07T14:53:16.086574",
     "status": "completed"
    },
    "tags": []
   },
   "outputs": [],
   "source": [
    "# from sklearn.ensemble import GradientBoostingRegressor\n",
    "# reg = GradientBoostingRegressor(n_estimators=100, learning_rate=1.0,\n",
    "# max_depth=2, random_state=0).fit(train_features, train_labels)"
   ]
  },
  {
   "cell_type": "markdown",
   "id": "c43efb08",
   "metadata": {
    "papermill": {
     "duration": 0.046194,
     "end_time": "2022-04-07T14:53:16.233867",
     "exception": false,
     "start_time": "2022-04-07T14:53:16.187673",
     "status": "completed"
    },
    "tags": []
   },
   "source": [
    "# Graph of scores vs 10 alphas"
   ]
  },
  {
   "cell_type": "code",
   "execution_count": 25,
   "id": "9d98adf3",
   "metadata": {
    "execution": {
     "iopub.execute_input": "2022-04-07T14:53:16.331113Z",
     "iopub.status.busy": "2022-04-07T14:53:16.330134Z",
     "iopub.status.idle": "2022-04-07T14:53:19.552943Z",
     "shell.execute_reply": "2022-04-07T14:53:19.553443Z",
     "shell.execute_reply.started": "2022-04-07T14:46:42.452338Z"
    },
    "papermill": {
     "duration": 3.273251,
     "end_time": "2022-04-07T14:53:19.553630",
     "exception": false,
     "start_time": "2022-04-07T14:53:16.280379",
     "status": "completed"
    },
    "tags": []
   },
   "outputs": [
    {
     "data": {
      "text/plain": [
       "<function matplotlib.pyplot.show(close=None, block=None)>"
      ]
     },
     "execution_count": 25,
     "metadata": {},
     "output_type": "execute_result"
    },
    {
     "data": {
      "image/png": "[encoded data removed]",
      "text/plain": [
       "<Figure size 432x288 with 1 Axes>"
      ]
     },
     "metadata": {
      "needs_background": "light"
     },
     "output_type": "display_data"
    }
   ],
   "source": [
    "from sklearn.ensemble import GradientBoostingRegressor\n",
    "import matplotlib.pyplot as plt\n",
    "listof_scores = []\n",
    "list_of_alpha = [0.1 , 0.5 , 0.8 , 0.55 , 0.001 , 1.0 , 0.009 , 0.0004 , 0.2 , 0.6]\n",
    "for i in list_of_alpha:\n",
    "    regrr = GradientBoostingRegressor(n_estimators=100, learning_rate=i,\n",
    "            max_depth=2, random_state=0).fit(train_features, train_labels)\n",
    "    listof_scores.append(regrr.score(validation_set, validation_labels))\n",
    "    \n",
    "plt.plot(listof_scores)    \n",
    "plt.xlabel(\"Score\")\n",
    "plt.ylabel(\"parameter\")\n",
    "plt.show"
   ]
  },
  {
   "cell_type": "code",
   "execution_count": 26,
   "id": "c49b2013",
   "metadata": {
    "execution": {
     "iopub.execute_input": "2022-04-07T14:53:19.655552Z",
     "iopub.status.busy": "2022-04-07T14:53:19.654879Z",
     "iopub.status.idle": "2022-04-07T14:53:19.696335Z",
     "shell.execute_reply": "2022-04-07T14:53:19.696842Z",
     "shell.execute_reply.started": "2022-04-07T14:46:45.731302Z"
    },
    "papermill": {
     "duration": 0.093379,
     "end_time": "2022-04-07T14:53:19.697032",
     "exception": false,
     "start_time": "2022-04-07T14:53:19.603653",
     "status": "completed"
    },
    "tags": []
   },
   "outputs": [
    {
     "data": {
      "text/plain": [
       "0.9780103074604876"
      ]
     },
     "execution_count": 26,
     "metadata": {},
     "output_type": "execute_result"
    }
   ],
   "source": [
    "reg.score(train_features, train_labels)"
   ]
  },
  {
   "cell_type": "code",
   "execution_count": 27,
   "id": "f8274563",
   "metadata": {
    "execution": {
     "iopub.execute_input": "2022-04-07T14:53:19.797886Z",
     "iopub.status.busy": "2022-04-07T14:53:19.797234Z",
     "iopub.status.idle": "2022-04-07T14:53:19.802799Z",
     "shell.execute_reply": "2022-04-07T14:53:19.802262Z",
     "shell.execute_reply.started": "2022-04-07T14:46:45.774601Z"
    },
    "papermill": {
     "duration": 0.057091,
     "end_time": "2022-04-07T14:53:19.802964",
     "exception": false,
     "start_time": "2022-04-07T14:53:19.745873",
     "status": "completed"
    },
    "tags": []
   },
   "outputs": [],
   "source": [
    "test_data = test_data.fillna(0)\n",
    "# np.nan_to_num(data)"
   ]
  },
  {
   "cell_type": "code",
   "execution_count": 28,
   "id": "ba335f14",
   "metadata": {
    "execution": {
     "iopub.execute_input": "2022-04-07T14:53:19.904031Z",
     "iopub.status.busy": "2022-04-07T14:53:19.903339Z",
     "iopub.status.idle": "2022-04-07T14:53:19.950039Z",
     "shell.execute_reply": "2022-04-07T14:53:19.950871Z",
     "shell.execute_reply.started": "2022-04-07T14:46:45.783127Z"
    },
    "papermill": {
     "duration": 0.099039,
     "end_time": "2022-04-07T14:53:19.951149",
     "exception": false,
     "start_time": "2022-04-07T14:53:19.852110",
     "status": "completed"
    },
    "tags": []
   },
   "outputs": [
    {
     "name": "stderr",
     "output_type": "stream",
     "text": [
      "/opt/conda/lib/python3.7/site-packages/sklearn/base.py:488: FutureWarning: The feature names should match those that were passed during fit. Starting version 1.2, an error will be raised.\n",
      "Feature names unseen at fit time:\n",
      "- BsmtExposure_nan\n",
      "- BsmtFinType1_nan\n",
      "- BsmtFinType2_nan\n",
      "- BsmtQual_nan\n",
      "- Exterior1st_nan\n",
      "- ...\n",
      "Feature names seen at fit time, yet now missing:\n",
      "- Condition2_RRAe\n",
      "- Condition2_RRAn\n",
      "- Condition2_RRNn\n",
      "- Electrical_Mix\n",
      "- Exterior1st_ImStucc\n",
      "- ...\n",
      "\n",
      "  warnings.warn(message, FutureWarning)\n"
     ]
    }
   ],
   "source": [
    "predection = reg.predict(test_data)"
   ]
  },
  {
   "cell_type": "code",
   "execution_count": 29,
   "id": "c873f56b",
   "metadata": {
    "execution": {
     "iopub.execute_input": "2022-04-07T14:53:20.056718Z",
     "iopub.status.busy": "2022-04-07T14:53:20.051860Z",
     "iopub.status.idle": "2022-04-07T14:53:20.059628Z",
     "shell.execute_reply": "2022-04-07T14:53:20.059095Z",
     "shell.execute_reply.started": "2022-04-07T14:46:45.841485Z"
    },
    "papermill": {
     "duration": 0.05916,
     "end_time": "2022-04-07T14:53:20.059776",
     "exception": false,
     "start_time": "2022-04-07T14:53:20.000616",
     "status": "completed"
    },
    "tags": []
   },
   "outputs": [],
   "source": [
    "predections = pd.DataFrame()\n",
    "predections['Id'] = Test_data_Id\n",
    "predections['SalePrice'] = predection[0:1459]\n"
   ]
  },
  {
   "cell_type": "code",
   "execution_count": 30,
   "id": "49882958",
   "metadata": {
    "execution": {
     "iopub.execute_input": "2022-04-07T14:53:20.163880Z",
     "iopub.status.busy": "2022-04-07T14:53:20.163232Z",
     "iopub.status.idle": "2022-04-07T14:53:20.167995Z",
     "shell.execute_reply": "2022-04-07T14:53:20.168494Z",
     "shell.execute_reply.started": "2022-04-07T14:46:45.849633Z"
    },
    "papermill": {
     "duration": 0.05756,
     "end_time": "2022-04-07T14:53:20.168663",
     "exception": false,
     "start_time": "2022-04-07T14:53:20.111103",
     "status": "completed"
    },
    "tags": []
   },
   "outputs": [
    {
     "data": {
      "text/plain": [
       "(1459, 2)"
      ]
     },
     "execution_count": 30,
     "metadata": {},
     "output_type": "execute_result"
    }
   ],
   "source": [
    "predections.shape"
   ]
  },
  {
   "cell_type": "code",
   "execution_count": 31,
   "id": "ef6fc20e",
   "metadata": {
    "execution": {
     "iopub.execute_input": "2022-04-07T14:53:20.273920Z",
     "iopub.status.busy": "2022-04-07T14:53:20.273234Z",
     "iopub.status.idle": "2022-04-07T14:53:20.284090Z",
     "shell.execute_reply": "2022-04-07T14:53:20.284608Z",
     "shell.execute_reply.started": "2022-04-07T14:46:45.862112Z"
    },
    "papermill": {
     "duration": 0.064721,
     "end_time": "2022-04-07T14:53:20.284774",
     "exception": false,
     "start_time": "2022-04-07T14:53:20.220053",
     "status": "completed"
    },
    "tags": []
   },
   "outputs": [],
   "source": [
    "predections.to_csv(\"predections.csv\", index=None, sep=\",\")"
   ]
  }
 ],
 "metadata": {
  "kernelspec": {
   "display_name": "Python 3",
   "language": "python",
   "name": "python3"
  },
  "language_info": {
   "codemirror_mode": {
    "name": "ipython",
    "version": 3
   },
   "file_extension": ".py",
   "mimetype": "text/x-python",
   "name": "python",
   "nbconvert_exporter": "python",
   "pygments_lexer": "ipython3",
   "version": "3.7.12"
  },
  "papermill": {
   "default_parameters": {},
   "duration": 32.135584,
   "end_time": "2022-04-07T14:53:21.048862",
   "environment_variables": {},
   "exception": null,
   "input_path": "__notebook__.ipynb",
   "output_path": "__notebook__.ipynb",
   "parameters": {},
   "start_time": "2022-04-07T14:52:48.913278",
   "version": "2.3.3"
  }
 },
 "nbformat": 4,
 "nbformat_minor": 5
}
